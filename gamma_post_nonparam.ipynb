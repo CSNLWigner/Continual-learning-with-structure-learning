{
 "cells": [
  {
   "cell_type": "code",
   "execution_count": null,
   "metadata": {},
   "outputs": [],
   "source": [
    "import tensorflow as tf\n",
    "from tensorflow_probability import distributions as tfd\n",
    "import tensorflow_probability as tfp\n",
    "import numpy as np\n",
    "import matplotlib.pyplot as plt\n",
    "\n",
    "import helper"
   ]
  },
  {
   "cell_type": "markdown",
   "metadata": {},
   "source": [
    "## as a function of $\\gamma$"
   ]
  },
  {
   "cell_type": "code",
   "execution_count": null,
   "metadata": {},
   "outputs": [],
   "source": [
    "import matplotlib.gridspec as gridspec\n",
    "\n",
    "def plot_likelihoods(data, sigma_reward_model, N=500, t_step=2):\n",
    "    gamma_eval_points = tfd.Uniform([-.2,-.2],[1.2,1.2]).sample(N)\n",
    "    subplots = [plt.subplot(grid_loc) for grid_loc in gridspec.GridSpec(1, 8)]\n",
    "    for i,sp in enumerate(subplots):\n",
    "        t=t_step*i+1\n",
    "        llhs = np.array([helper.model_llh(data['z'][:t], data['r'][:t], gamma=gamma_eval_points[j], sigma_reward=sigma_reward_model, method='np') for j in range(len(gamma_eval_points))])\n",
    "        sp.scatter(*np.array(gamma_eval_points).T,c=llhs)\n",
    "        sp.set_aspect('equal')\n",
    "        sp.set_title('t = '+str(t_step*i+1))\n",
    "    plt.gcf().set_figheight(20)\n",
    "    plt.gcf().set_figwidth(20)\n",
    "    plt.tight_layout()"
   ]
  },
  {
   "cell_type": "code",
   "execution_count": null,
   "metadata": {},
   "outputs": [],
   "source": [
    "alpha_gt = 45\n",
    "sigma_reward_gt = 0.01\n",
    "T = 50\n",
    "\n",
    "data = helper.generate_data(T, alpha=alpha_gt, sigma_reward=sigma_reward_gt)\n",
    "helper.plot_data(data)"
   ]
  },
  {
   "cell_type": "code",
   "execution_count": null,
   "metadata": {},
   "outputs": [],
   "source": [
    "plot_likelihoods(data, sigma_reward_model=0.4,N=500)"
   ]
  },
  {
   "cell_type": "code",
   "execution_count": null,
   "metadata": {},
   "outputs": [],
   "source": [
    "plot_likelihoods(data, sigma_reward_model=1.,N=2000)"
   ]
  },
  {
   "cell_type": "code",
   "execution_count": null,
   "metadata": {},
   "outputs": [],
   "source": [
    "alpha_gt = 30\n",
    "sigma_reward_gt = 0.1\n",
    "sigma_reward_model = 0.3\n",
    "t_step = 5\n",
    "T = 60\n",
    "N_eval_points = 2000\n",
    "\n",
    "data = helper.generate_data(T, alpha=alpha_gt, sigma_reward=sigma_reward_gt)\n",
    "plot_likelihoods(helper.generate_data(T, alpha=alpha_gt, sigma_reward=sigma_reward_gt), sigma_reward_model=sigma_reward_model,N=N_eval_points,t_step=t_step)"
   ]
  },
  {
   "cell_type": "code",
   "execution_count": null,
   "metadata": {},
   "outputs": [],
   "source": [
    "t = 1\n",
    "gamma_eval_points = tfd.Uniform([-.2,-.2],[1.2,1.2]).sample(2000)\n",
    "llhs = np.array([helper.model_llh(data['z'][:t], data['r'][:t], gamma=gamma_eval_points[j], sigma_reward=sigma_reward_model) for j in range(len(gamma_eval_points))])\n",
    "plt.scatter(*np.array(gamma_eval_points).T,c=llhs)\n",
    "plt.gca().set_aspect('equal')\n",
    "plt.gcf().set_figheight(2.5)\n",
    "plt.gcf().set_figwidth(2.5)"
   ]
  },
  {
   "cell_type": "markdown",
   "metadata": {},
   "source": [
    "## Analytic solution"
   ]
  },
  {
   "cell_type": "code",
   "execution_count": null,
   "metadata": {},
   "outputs": [],
   "source": [
    "t = 2\n",
    "\n",
    "from scipy.stats import multivariate_normal\n",
    "x = np.linspace(-.25, 1.25, 40)\n",
    "y = np.linspace(-.25, 1.25, 40)\n",
    "X, Y = np.meshgrid(x, y)\n",
    "pos = np.empty(X.shape + (2,))\n",
    "pos[:, :, 0] = X; pos[:, :, 1] = Y\n",
    "\n",
    "mu, sigma = helper.gamma_posterior_analytic(zs=data['z'][:t], rs=data['r'][:t], sigma_r=sigma_reward_model, Sigma_0=100*np.eye(2))\n",
    "Z = multivariate_normal.pdf(pos, mean = mu, cov = sigma)\n",
    "plt.contourf(X, Y, Z, 20)\n",
    "plt.colorbar();"
   ]
  },
  {
   "cell_type": "code",
   "execution_count": null,
   "metadata": {},
   "outputs": [],
   "source": [
    "t_step = 4\n",
    "sigma_reward_model = .2\n",
    "subplots = [plt.subplot(grid_loc) for grid_loc in gridspec.GridSpec(1, 8)]\n",
    "for j,sp in enumerate(subplots):\n",
    "    x = np.linspace(-.25, 1.25, 40)\n",
    "    y = np.linspace(-.25, 1.25, 40)\n",
    "    X, Y = np.meshgrid(x, y)\n",
    "    pos = np.empty(X.shape + (2,))\n",
    "    pos[:, :, 0] = X; pos[:, :, 1] = Y\n",
    "    t = t_step*j+1\n",
    "    mu, sigma = helper.gamma_posterior_analytic(zs=data['z'][:t], rs=data['r'][:t], sigma_r=sigma_reward_model, Sigma_0=100*np.eye(2))\n",
    "    Z = multivariate_normal.pdf(pos, mean = mu, cov = sigma)\n",
    "    sp.contourf(X, Y, Z, 20)\n",
    "    sp.set_aspect('equal')\n",
    "    sp.set_title('t = '+str(t_step*j+1))\n",
    "plt.gcf().set_figheight(20)\n",
    "plt.gcf().set_figwidth(20)\n",
    "plt.tight_layout()"
   ]
  },
  {
   "cell_type": "markdown",
   "metadata": {},
   "source": [
    "## as a function of $\\alpha$"
   ]
  },
  {
   "cell_type": "code",
   "execution_count": null,
   "metadata": {},
   "outputs": [],
   "source": [
    "alpha_gt = 90\n",
    "for i in range(20):\n",
    "    data = helper.generate_data(5,alpha=alpha_gt,sigma_reward=0.001)\n",
    "    alphas = np.arange(0, 360, 5)\n",
    "    p_gamma = np.array([helper.model_llh_by_alpha(data['z'], data['r'], alpha=alpha, sigma_reward=1) for alpha in alphas])\n",
    "    plt.plot(alphas,p_gamma)\n",
    "    plt.axvline(x=alpha_gt)\n"
   ]
  },
  {
   "cell_type": "code",
   "execution_count": null,
   "metadata": {},
   "outputs": [],
   "source": [
    "alpha_gt = 90\n",
    "data = helper.generate_data(5,alpha=alpha_gt,sigma_reward=0.001)\n",
    "\n",
    "for t in range(10):\n",
    "    alphas = np.arange(0, 360, 5)\n",
    "    p_gamma = np.array([helper.model_llh_by_alpha(data['z'][:t+1], data['r'][:t+1], alpha=alpha, sigma_reward=1) for alpha in alphas])\n",
    "    plt.plot(alphas,p_gamma)\n",
    "    plt.axvline(x=alpha_gt)\n"
   ]
  },
  {
   "cell_type": "code",
   "execution_count": null,
   "metadata": {},
   "outputs": [],
   "source": []
  }
 ],
 "metadata": {
  "kernelspec": {
   "display_name": "Python 3",
   "language": "python",
   "name": "python3"
  },
  "language_info": {
   "codemirror_mode": {
    "name": "ipython",
    "version": 3
   },
   "file_extension": ".py",
   "mimetype": "text/x-python",
   "name": "python",
   "nbconvert_exporter": "python",
   "pygments_lexer": "ipython3",
   "version": "3.6.9"
  }
 },
 "nbformat": 4,
 "nbformat_minor": 4
}
