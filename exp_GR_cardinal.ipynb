{
 "cells": [
  {
   "cell_type": "code",
   "execution_count": null,
   "metadata": {},
   "outputs": [],
   "source": [
    "import numpy as np\n",
    "import tensorflow as tf\n",
    "import matplotlib.pyplot as plt\n",
    "\n",
    "import helper_mate as h\n",
    "import helper as hd\n",
    "from colorscheme import *\n",
    "\n",
    "from gt_learner import GT_learner\n",
    "import gr_em_learner as gr_em"
   ]
  },
  {
   "cell_type": "code",
   "execution_count": null,
   "metadata": {},
   "outputs": [],
   "source": [
    "# Data parameters\n",
    "BLOCK_SIZE = 10\n",
    "N_BATCHES = 1\n",
    "ALPHA_LIST = [0,90]\n",
    "N_RUNS = 10\n",
    "\n",
    "# Agent parameters\n",
    "SIGMA_R = 1.0\n",
    "PP_THRESHOLD = 0.4\n",
    "D = 10\n",
    "#N_PARTICLES = 256"
   ]
  },
  {
   "cell_type": "code",
   "execution_count": null,
   "metadata": {},
   "outputs": [],
   "source": [
    "# Generate N_RUNS datasets\n",
    "datasets = [h.generate_batch_data(ALPHA_LIST, BLOCK_SIZE, N_BATCHES) for i in range(N_RUNS)]\n",
    "\n",
    "# Define models to be tested\n",
    "model_set = ['x', 'y', '1x2D', '2x1D_bg']\n",
    "\n",
    "# Compute mllhs\n",
    "results = {'gt': [], 'gr': []}\n",
    "for data in datasets:\n",
    "    result = {}\n",
    "    result['gt'] = GT_learner(data, SIGMA_R, model_set)\n",
    "    results['gt'].append(result['gt'])\n",
    "    result['gr'] = gr_em.GR_EM_learner(data, SIGMA_R, model_set, verbose = True,\n",
    "                        EM_size_limit = 0, pp_thr = PP_THRESHOLD, D = D, task_angles_in_data = ALPHA_LIST)\n",
    "    results['gr'].append(result['gr'])"
   ]
  },
  {
   "cell_type": "code",
   "execution_count": null,
   "metadata": {},
   "outputs": [],
   "source": [
    "# Compute switching times\n",
    "switch_times = {}\n",
    "for agent in ['gt', 'gr']:\n",
    "    switch_times[agent] = [hd.model_change_time(results[agent][i], model_set[-1])\n",
    "                                 for i in range(N_RUNS)]"
   ]
  },
  {
   "cell_type": "code",
   "execution_count": null,
   "metadata": {},
   "outputs": [],
   "source": [
    "# scatter plot of switching times\n",
    "T = BLOCK_SIZE * (N_BATCHES + 1)\n",
    "plt.figure(figsize=(6,6))\n",
    "plt.scatter(switch_times['gt'], switch_times['gr'])\n",
    "# plot the diagonal\n",
    "plt.plot([0, T], [0, T], '--')\n",
    "plt.xlabel('GT switching time')\n",
    "plt.ylabel('GR switching time')\n",
    "plt.xlim([0, T])\n",
    "plt.ylim([0, T])\n",
    "plt.show()"
   ]
  },
  {
   "cell_type": "code",
   "execution_count": null,
   "metadata": {},
   "outputs": [],
   "source": [
    "# Plot results\n",
    "i = 1\n",
    "hd.plot_mmllh_curves(results['gt'][i], model_set, T=len(data['c']), color_dict=model_colors_gergo, figsize=(15,4))\n",
    "hd.plot_mmllh_curves(results['gr'][i], model_set, T=len(data['c']), color_dict=model_colors_gergo, figsize=(15,4))"
   ]
  }
 ],
 "metadata": {
  "kernelspec": {
   "display_name": "base",
   "language": "python",
   "name": "python3"
  },
  "language_info": {
   "codemirror_mode": {
    "name": "ipython",
    "version": 3
   },
   "file_extension": ".py",
   "mimetype": "text/x-python",
   "name": "python",
   "nbconvert_exporter": "python",
   "pygments_lexer": "ipython3",
   "version": "3.6.8"
  },
  "vscode": {
   "interpreter": {
    "hash": "715d78e8ea9d15f3b1f6080971e99bb6f9fa1dfbe3824c645d367f8092e9c6f0"
   }
  }
 },
 "nbformat": 4,
 "nbformat_minor": 2
}
