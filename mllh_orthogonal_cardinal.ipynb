{
 "cells": [
  {
   "cell_type": "code",
   "execution_count": null,
   "metadata": {},
   "outputs": [],
   "source": [
    "import tensorflow as tf\n",
    "from tensorflow_probability import distributions as tfd\n",
    "import tensorflow_probability as tfp\n",
    "import numpy as np\n",
    "import matplotlib.pyplot as plt\n",
    "\n",
    "import helper"
   ]
  },
  {
   "cell_type": "code",
   "execution_count": null,
   "metadata": {},
   "outputs": [],
   "source": [
    "def compute_log_mllh(z, r, alpha_samples, sigma_reward):\n",
    "    '''copmutes mllh by integrating over samples from the prior given as arguments. Can emulate 1d model mllh by only supplying a single sample from gamma.'''\n",
    "    return np.log(np.mean(np.array([helper.model_llh_by_alpha(z, r, alpha=alpha_sample, sigma_reward=sigma_reward, method='np') for alpha_sample in alpha_samples])))\n",
    "\n",
    "def compute_log_mllhs(z, r, a, sigma_reward, verbose=False):\n",
    "    '''computes mllhs for a list of models, given a list of gamma samples for each model (a list of lists)'''\n",
    "    if verbose:\n",
    "        pbar = tf.keras.utils.Progbar(len(z))\n",
    "    mllhs = []\n",
    "    for t in range(len(z)):\n",
    "        mllhs.append([compute_log_mllh(z[:t+1],r[:t+1],alpha_samples,sigma_reward) for alpha_samples in a])\n",
    "        if verbose:\n",
    "            pbar.add(1)\n",
    "    return mllhs\n",
    "\n",
    "def index_of_model_change(mllhs, model_id=0, never_result=np.nan):\n",
    "    '''given a list of mllhs, computes first time index where best model is model_id'''\n",
    "    ids_of_best_model = np.argmax(np.array(mllhs),1)\n",
    "    if len(np.nonzero(ids_of_best_model == 0)[0]) == 0:\n",
    "        id_change = never_result\n",
    "    else:\n",
    "        id_change = np.nonzero(ids_of_best_model == 0)[0][0]\n",
    "    return id_change"
   ]
  },
  {
   "cell_type": "code",
   "execution_count": null,
   "metadata": {},
   "outputs": [],
   "source": [
    "data = helper.generate_data(8,alpha=45,sigma_reward=0.001)\n",
    "helper.plot_data(data, labels=True)"
   ]
  },
  {
   "cell_type": "code",
   "execution_count": null,
   "metadata": {},
   "outputs": [],
   "source": [
    "N=10\n",
    "sigma_reward_model = 0.3\n",
    "a = [tfd.Uniform(0,180).sample(N),[90],[0]]\n",
    "labels = ('O','|','--')\n",
    "    \n",
    "mllhs = compute_log_mllhs(data['z'],data['r'],a,sigma_reward_model,verbose=True)\n",
    "    \n",
    "plt.plot(np.array(mllhs),'.-')\n",
    "plt.legend(labels)\n",
    "plt.title('model change at t = '+str(index_of_model_change(mllhs, model_id = 0)))"
   ]
  },
  {
   "cell_type": "code",
   "execution_count": null,
   "metadata": {},
   "outputs": [],
   "source": [
    "N=10\n",
    "sigma_reward_models = [.1,.2,.3,.4,.5]\n",
    "\n",
    "id_changes_per_sigma = []\n",
    "for sigma_reward_model in sigma_reward_models:\n",
    "    pbar = tf.keras.utils.Progbar(100)\n",
    "    id_changes = []\n",
    "    for i in range(100):\n",
    "        data = helper.generate_data(8,alpha=45,sigma_reward=0.001)\n",
    "        a = [tfd.Uniform(0,180).sample(N),[90],[0]]\n",
    "        mllhs = compute_log_mllhs(data['z'],data['r'],a,sigma_reward_model)\n",
    "        id_changes.append(index_of_model_change(mllhs, model_id = 0, never_result=10))\n",
    "        pbar.add(1)\n",
    "\n",
    "    id_changes_per_sigma.append(np.array(id_changes))"
   ]
  },
  {
   "cell_type": "code",
   "execution_count": null,
   "metadata": {},
   "outputs": [],
   "source": [
    "plt.errorbar(sigma_reward_models, np.nanmean(id_changes_per_sigma,1),yerr=np.nanstd(id_changes_per_sigma,1))\n",
    "plt.xlabel('sigma reward')\n",
    "plt.ylabel('t of model change to 2D')\n",
    "for i in range(len(id_changes_per_sigma)):\n",
    "    plt.scatter(np.repeat(sigma_reward_models[i],len(id_changes_per_sigma[i]))+np.random.normal(0,0.01,len(id_changes_per_sigma[i])),id_changes_per_sigma[i],c='gray',s=1)"
   ]
  },
  {
   "cell_type": "code",
   "execution_count": null,
   "metadata": {},
   "outputs": [],
   "source": []
  }
 ],
 "metadata": {
  "kernelspec": {
   "display_name": "Python 3",
   "language": "python",
   "name": "python3"
  },
  "language_info": {
   "codemirror_mode": {
    "name": "ipython",
    "version": 3
   },
   "file_extension": ".py",
   "mimetype": "text/x-python",
   "name": "python",
   "nbconvert_exporter": "python",
   "pygments_lexer": "ipython3",
   "version": "3.6.9"
  }
 },
 "nbformat": 4,
 "nbformat_minor": 4
}
