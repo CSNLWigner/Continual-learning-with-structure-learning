{
  "nbformat": 4,
  "nbformat_minor": 0,
  "metadata": {
    "colab": {
      "name": "mmllh_analytically.ipynb",
      "provenance": [],
      "collapsed_sections": []
    },
    "kernelspec": {
      "name": "python3",
      "display_name": "Python 3"
    }
  },
  "cells": [
    {
      "cell_type": "code",
      "metadata": {
        "id": "K0WTgB4Z0N7s"
      },
      "source": [
        "import tensorflow as tf\n",
        "from tensorflow_probability import distributions as tfd\n",
        "import tensorflow_probability as tfp\n",
        "import numpy as np\n",
        "import matplotlib.pyplot as plt\n",
        "import pickle\n",
        "import helper1\n",
        "import helper1_mate\n",
        "import matplotlib.ticker as ticker\n",
        "from matplotlib import cm"
      ],
      "execution_count": 35,
      "outputs": []
    },
    {
      "cell_type": "code",
      "metadata": {
        "colab": {
          "base_uri": "https://localhost:8080/",
          "height": 284
        },
        "id": "2wMz-B0y0b5j",
        "outputId": "bd28a681-a7d9-4799-dbd1-b05c2f18008c"
      },
      "source": [
        "T = 3\n",
        "alpha = 45\n",
        "data = helper1.generate_data(T,alpha=alpha,sigma_reward=0.001)\n",
        "helper1.plot_data(data, labels=True)"
      ],
      "execution_count": 316,
      "outputs": [
        {
          "output_type": "display_data",
          "data": {
            "image/png": "[encoded data removed]",
            "text/plain": [
              "<Figure size 432x288 with 2 Axes>"
            ]
          },
          "metadata": {
            "tags": [],
            "needs_background": "light"
          }
        }
      ]
    },
    {
      "cell_type": "code",
      "metadata": {
        "id": "yi_bRiVAmTFV"
      },
      "source": [
        "def insert_auxiliary_data(data, sigma_reward_model): \n",
        "  z_T = data['z']\n",
        "  r = data['r']\n",
        "  N = z_T.shape[0]\n",
        "\n",
        "  #insert cov_inverses and mus\n",
        "  z_T = tf.reshape(data['z'], (N, 1, 2)) #z rows\n",
        "  z = tf.reshape(z_T, (N, 2, 1)) #z columns\n",
        "  cov_inverses = 1/(sigma_reward_model**2)*tf.matmul(z, z_T)\n",
        "  data['cov_inverses'] = cov_inverses\n",
        "  \n",
        "\n",
        "  covs = tf.linalg.inv(cov_inverses)\n",
        "  mus = tf.multiply(tf.squeeze(tf.matmul(covs, z)), tf.expand_dims(r, -1))\n",
        "  data['mus'] = mus\n",
        "  \n",
        "\n",
        "  # insert cov_primes and mu_primes\n",
        "  cov_inverses_ = tf.concat([tf.expand_dims(tf.eye(2), 0), cov_inverses], 0) # concatenate the mu of the prior\n",
        "  cov_primes = tf.convert_to_tensor([tf.linalg.inv(tf.reduce_sum(cov_inverses_[:i], axis = 0)) for i in range(1, N+2)])\n",
        "  \n",
        "\n",
        "  mus_ = tf.concat([tf.expand_dims(tf.constant([0., 0.]), 0), mus], 0) # concatenate the mu of the prior\n",
        "  mus_ = tf.reshape(mus_, (N+1, 2, 1))\n",
        "  aux = matmul(cov_inverses_, mus_)\n",
        "  mu_primes = tf.squeeze(tf.convert_to_tensor([tf.matmul(cov_primes[i-1], tf.reduce_sum(aux[:i], axis = 0)) for i in range(1, N+2)]))\n",
        "  \n",
        "  data['c'] = tfd.MultivariateNormalFullCovariance(loc = mu_primes[:N], covariance_matrix = cov_primes[:N]).prob(mus)\n",
        "\n",
        "  data['mus'] = tf.cast(data['mus'], 'float64')\n",
        "  data['cov_inverses'] = tf.cast(data['cov_inverses'], 'float64')\n",
        "  data['c'] = tf.cast(data['c'], 'float64')\n",
        "  return data"
      ],
      "execution_count": 295,
      "outputs": []
    },
    {
      "cell_type": "code",
      "metadata": {
        "id": "Eptw9H9D2LJe"
      },
      "source": [
        "sigma_reward_model = .4"
      ],
      "execution_count": 206,
      "outputs": []
    },
    {
      "cell_type": "code",
      "metadata": {
        "id": "0yBw5Hl62knn"
      },
      "source": [
        "data = insert_auxiliary_data(data, sigma_reward_model)"
      ],
      "execution_count": 317,
      "outputs": []
    },
    {
      "cell_type": "code",
      "metadata": {
        "colab": {
          "base_uri": "https://localhost:8080/"
        },
        "id": "NE1-fUNB07bh",
        "outputId": "20f45452-83e9-43a0-bdc6-ca65ebdb157f"
      },
      "source": [
        "data['mus']"
      ],
      "execution_count": 334,
      "outputs": [
        {
          "output_type": "execute_result",
          "data": {
            "text/plain": [
              "<tf.Tensor: shape=(3, 2), dtype=float64, numpy=\n",
              "array([[-0.04467099,  0.30949682],\n",
              "       [ 0.05103382,  0.00421597],\n",
              "       [-0.24653021,  1.42566359]])>"
            ]
          },
          "metadata": {
            "tags": []
          },
          "execution_count": 334
        }
      ]
    },
    {
      "cell_type": "code",
      "metadata": {
        "colab": {
          "base_uri": "https://localhost:8080/"
        },
        "id": "55SAHyU2098H",
        "outputId": "2d71b818-8933-4822-f5a0-cca5f738a2ae"
      },
      "source": [
        "data['cov_inverses']"
      ],
      "execution_count": 335,
      "outputs": [
        {
          "output_type": "execute_result",
          "data": {
            "text/plain": [
              "<tf.Tensor: shape=(3, 2, 2), dtype=float64, numpy=\n",
              "array([[[5.642272  , 3.54727125],\n",
              "        [3.54727125, 2.2301538 ]],\n",
              "\n",
              "       [[0.28260407, 0.71448565],\n",
              "        [0.71448565, 1.80637801]],\n",
              "\n",
              "       [[1.55255818, 0.8686049 ],\n",
              "        [0.8686049 , 0.48595569]]])>"
            ]
          },
          "metadata": {
            "tags": []
          },
          "execution_count": 335
        }
      ]
    },
    {
      "cell_type": "code",
      "metadata": {
        "colab": {
          "base_uri": "https://localhost:8080/"
        },
        "id": "x3X-WVAHBHHT",
        "outputId": "b38f5ff0-66f5-47ff-8024-d5a6c2b0d23c"
      },
      "source": [
        "data['c']"
      ],
      "execution_count": 336,
      "outputs": [
        {
          "output_type": "execute_result",
          "data": {
            "text/plain": [
              "<tf.Tensor: shape=(3,), dtype=float64, numpy=array([0.15156074, 0.46454841, 0.02455632])>"
            ]
          },
          "metadata": {
            "tags": []
          },
          "execution_count": 336
        }
      ]
    },
    {
      "cell_type": "code",
      "metadata": {
        "id": "Pb4-yLF34H3T"
      },
      "source": [
        "def compute_mmllh_analytically(data, sigma_reward_model):\n",
        "  pi = np.pi\n",
        "  ksi = 1/(sigma_reward_model*np.sqrt(2*pi))\n",
        "\n",
        "  z_T = tf.cast(data['z'], 'float64')\n",
        "  r = tf.cast(data['r'], 'float64')\n",
        "  N = z_T.shape[0]\n",
        "  mus = data['mus']\n",
        "  cov_invs = data['cov_inverses']\n",
        "  covs = tf.linalg.inv(cov_invs)\n",
        "  print(covs)\n",
        "  c = data['c']\n",
        "\n",
        "  first_term = tf.math.pow(2*pi/ksi, N)\n",
        "\n",
        "  z_T = tf.reshape(z_T, (N, 1, 2)) #z rows\n",
        "  z = tf.reshape(z_T, (N, 2, 1)) #z columns\n",
        "  second_term = tf.math.exp(-1/(2*sigma_reward_model**2)*tf.reduce_sum(tf.multiply(1 + tf.matmul(tf.matmul(z_T, covs), z), tf.math.pow(r, 2))))\n",
        "\n",
        "  third_term = tf.reduce_prod(tf.math.sqrt(tf.linalg.det(covs)))\n",
        "\n",
        "  fourth_term = tf.reduce_prod(c)\n",
        "\n",
        "\n",
        "  print(first_term)\n",
        "  print(second_term)\n",
        "  print(third_term)\n",
        "  print(fourth_term)\n",
        "  return first_term*second_term*third_term*fourth_term"
      ],
      "execution_count": 328,
      "outputs": []
    },
    {
      "cell_type": "markdown",
      "metadata": {
        "id": "gvShytHTK4QP"
      },
      "source": [
        "Ennyi jön ki:"
      ]
    },
    {
      "cell_type": "code",
      "metadata": {
        "colab": {
          "base_uri": "https://localhost:8080/"
        },
        "id": "V6C6GvM7FhOl",
        "outputId": "6a2331d0-9352-496c-bc43-f43c3df5b5ae"
      },
      "source": [
        "compute_mmllh_analytically(data, sigma_reward_model)"
      ],
      "execution_count": 329,
      "outputs": [
        {
          "output_type": "stream",
          "text": [
            "tf.Tensor(\n",
            "[[[ 2.24544107e+06 -3.57158711e+06]\n",
            "  [-3.57158711e+06  5.68094868e+06]]\n",
            "\n",
            " [[ 4.92076700e+07 -1.94633536e+07]\n",
            "  [-1.94633536e+07  7.69843725e+06]]\n",
            "\n",
            " [[ 7.34392976e+07 -1.31266565e+08]\n",
            "  [-1.31266565e+08  2.34627942e+08]]], shape=(3, 2, 2), dtype=float64)\n",
            "tf.Tensor(250.02842295494196, shape=(), dtype=float64)\n",
            "tf.Tensor(3.754711808265941e-09, shape=(), dtype=float64)\n",
            "tf.Tensor(64381550474.18325, shape=(), dtype=float64)\n",
            "tf.Tensor(0.0017289439386410327, shape=(), dtype=float64)\n"
          ],
          "name": "stdout"
        },
        {
          "output_type": "execute_result",
          "data": {
            "text/plain": [
              "<tf.Tensor: shape=(), dtype=float64, numpy=104.4980852719175>"
            ]
          },
          "metadata": {
            "tags": []
          },
          "execution_count": 329
        }
      ]
    },
    {
      "cell_type": "markdown",
      "metadata": {
        "id": "-jZ_l8HVK1mz"
      },
      "source": [
        "Elvileg ennyinek kell kijönnie:"
      ]
    },
    {
      "cell_type": "code",
      "metadata": {
        "colab": {
          "base_uri": "https://localhost:8080/"
        },
        "id": "SuW0Qqpj7-S_",
        "outputId": "c243eb6c-15d7-4ee8-d3a0-8f3ef09a6e97"
      },
      "source": [
        "gamma_prior = tfd.Normal(loc=[0.0, 0.0], scale=[1.0, 1.0])\n",
        "N_prior_samples = 5000\n",
        "\n",
        "a = [gamma_prior.sample(N_prior_samples)]\n",
        "mllhs = helper1_mate.compute_log_mllhs_by_gamma(data['z'],data['r'],a,sigma_reward_model,verbose=True)"
      ],
      "execution_count": 313,
      "outputs": [
        {
          "output_type": "stream",
          "text": [
            "3/3 [==============================] - 9s 3s/step\n"
          ],
          "name": "stdout"
        }
      ]
    },
    {
      "cell_type": "code",
      "metadata": {
        "colab": {
          "base_uri": "https://localhost:8080/"
        },
        "id": "3wDTj8qRG6Bt",
        "outputId": "09b05c85-a35e-4a39-8cd6-8dd476a0cbc5"
      },
      "source": [
        "np.exp(mllhs[-1])"
      ],
      "execution_count": 330,
      "outputs": [
        {
          "output_type": "execute_result",
          "data": {
            "text/plain": [
              "array([0.13963505])"
            ]
          },
          "metadata": {
            "tags": []
          },
          "execution_count": 330
        }
      ]
    }
  ]
}