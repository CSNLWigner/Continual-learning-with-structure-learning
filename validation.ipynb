{
 "cells": [
  {
   "cell_type": "markdown",
   "metadata": {},
   "source": [
    "### Function structure ###\n",
    "\n",
    "*Functions for validation*\n",
    "* trial_llh_simple\n",
    "* trial_llh_set_simple\n",
    "* trial_nonorm_posterior_simple\n",
    "* trial_nonorm_posterior_set_simple\n",
    "* trial_nonorm_posterior_transformed (key function, validated through the other functions in this section)\n",
    "* trial_nonorm_posterior_set_valid\n",
    "* trial_nonorm_posterior_set_breakdown\n",
    "\n",
    "*Functions that can be integrated with a general library*\n",
    "* gamma_posterior (implicitly validated)\n",
    "* model_marginal_llh (kan be validated through sampling)"
   ]
  },
  {
   "cell_type": "code",
   "execution_count": null,
   "metadata": {},
   "outputs": [],
   "source": [
    "import numpy as np\n",
    "from scipy.stats import multivariate_normal\n",
    "from numpy.linalg import inv\n",
    "import matplotlib.pyplot as plt\n",
    "from mpl_toolkits import mplot3d\n",
    "import math"
   ]
  },
  {
   "cell_type": "code",
   "execution_count": 2,
   "metadata": {},
   "outputs": [],
   "source": [
    "gamma = np.array([1,1]) * 1/np.sqrt(2)\n",
    "sigma_r = 0.4\n",
    "Sigma_r = np.array([[1,0],[0,1]]) * 1.1\n",
    "Sigma_0 = np.array([[1,0],[0,1]])\n",
    "z = np.array([-0.4,2.5])\n",
    "r = 2.3\n",
    "z2 = np.array([[-0.4,2.5],[0.8, -0.5]])\n",
    "r2 = [2.3, -1.2]\n",
    "zT = np.array([[-0.4,2.5],[0.8, -0.5], [2, 0.4]])\n",
    "rT = [2.3, -1.2, 0.4]\n",
    "zT = np.random.normal(0, 1, (6, 2))\n",
    "rT = np.random.normal(0, 1, 6)"
   ]
  },
  {
   "cell_type": "code",
   "execution_count": 3,
   "metadata": {},
   "outputs": [],
   "source": [
    "def trial_llh_simple(z, r, gamma, sigma_r):\n",
    "    # likelihood for a single data point\n",
    "    y = multivariate_normal.pdf(r, mean = np.dot(gamma,z), cov = sigma_r**2)\n",
    "    return y"
   ]
  },
  {
   "cell_type": "code",
   "execution_count": 4,
   "metadata": {},
   "outputs": [],
   "source": [
    "def trial_llh_set_simple(zs, rs, gamma, sigma_r):\n",
    "    # likelihood for a data set\n",
    "    T = np.size(zs,0)\n",
    "    y = 1\n",
    "    for t in range(T):\n",
    "        z = zs[t]\n",
    "        r = rs[t]\n",
    "        y = y * trial_llh_simple(z, r, gamma, sigma_r)\n",
    "    return y"
   ]
  },
  {
   "cell_type": "code",
   "execution_count": 5,
   "metadata": {},
   "outputs": [],
   "source": [
    "def trial_nonorm_posterior_simple(z, r, gamma, sigma_r, Sigma_0):\n",
    "    # gamma posterior for a single data point -- in fact this is the non-normalized normal distribution that comes from the combination of the llh with the prior\n",
    "    # this is the most straighforward way to calculate it, without any clear math\n",
    "    y = trial_llh_simple(z, r, gamma, sigma_r) * multivariate_normal.pdf(gamma, mean = np.array([0,0]), cov = Sigma_0)\n",
    "    return y"
   ]
  },
  {
   "cell_type": "code",
   "execution_count": 6,
   "metadata": {},
   "outputs": [],
   "source": [
    "def trial_nonorm_posterior_set_simple(zs, rs, gamma, sigma_r, Sigma_0):\n",
    "    # gamma posterior for a data set -- in fact this is the non-normalized normal distribution that comes from the combination of the llh with the prior\n",
    "    # this is the most straighforward way to calculate it, without any clear math\n",
    "    y = trial_llh_set_simple(zs, rs, gamma, sigma_r) * multivariate_normal.pdf(gamma, mean = np.array([0,0]), cov = Sigma_0)\n",
    "    return y"
   ]
  },
  {
   "cell_type": "code",
   "execution_count": 7,
   "metadata": {},
   "outputs": [],
   "source": [
    "def trial_nonorm_posterior_transformed(z, r, gamma, sigma_r, Sigma_0):\n",
    "    # the non-normalized posterior for a single data point\n",
    "    # this implementation is based on the math shwon in the onenote derivation\n",
    "    zeta = 1/math.sqrt(2*math.pi)\n",
    "    detSigma_0 = np.linalg.det(Sigma_0)\n",
    "    Sigma_1_star_inv = np.array([[z[0]**2/sigma_r**2, z[0]*z[1]/sigma_r**2],[z[0]*z[1]/sigma_r**2, z[1]**2/sigma_r**2]])\n",
    "    Sigma_1_inv = Sigma_1_star_inv + np.linalg.inv(Sigma_0)\n",
    "    Sigma_1 = np.linalg.inv(Sigma_1_inv)\n",
    "    mu_1 = Sigma_1.dot(z) *r/sigma_r**2\n",
    "    \n",
    "    #interim calculation of a core element of the posterior: here I check if the algebra was correct\n",
    "    # all of the lines below should give the same results\n",
    "    \n",
    "    #interim = np.exp(-0.5 * (gamma.dot(Sigma_1_star_inv.dot(gamma)) - 2*r/sigma_r**2 * z.dot(gamma) + r**2/sigma_r**2) - 0.5* gamma.dot(np.linalg.inv(Sigma_0).dot(gamma)))\n",
    "    #print(interim)\n",
    "    #interim = np.exp(-0.5 * (gamma.dot(Sigma_1_inv.dot(gamma)) - 2*mu_1.dot(Sigma_1_inv).dot(gamma)) )  * np.exp(-0.5*r**2/sigma_r**2)\n",
    "    #print(interim)\n",
    "    #gm = gamma - mu_1\n",
    "    #interim = np.exp(-0.5 * (gm.dot(Sigma_1_inv.dot(gm)) - mu_1.dot(Sigma_1_inv).dot(mu_1)) ) * np.exp(-0.5*r**2/sigma_r**2)\n",
    "    #print(interim)\n",
    "    #interim = np.exp(-0.5 * (gm.dot(Sigma_1_inv.dot(gm)))) /  multivariate_normal.pdf(mu_1, mean = np.array([0,0]), cov = Sigma_1) / (2* math.pi / np.sqrt(np.linalg.det(Sigma_1_inv)))\n",
    "    #print(interim)\n",
    "    #interim = multivariate_normal.pdf(gamma, mean = mu_1, cov =  Sigma_1) /  multivariate_normal.pdf(mu_1, mean = np.array([0,0]), cov = Sigma_1) * np.exp(-0.5*r**2/sigma_r**2)\n",
    "    #print(interim)\n",
    "    #interim = multivariate_normal.pdf(gamma, mean = mu_1, cov =  Sigma_1) /  multivariate_normal.pdf(mu_1, mean = np.array([0,0]), cov = Sigma_1) * multivariate_normal.pdf(r, mean = 0, cov = sigma_r**2) *np.sqrt(2*math.pi)*sigma_r\n",
    "    #print(interim)\n",
    "    y = 1/(2*math.pi)/np.sqrt(np.linalg.det(Sigma_0)) * multivariate_normal.pdf(gamma, mean = mu_1, cov =  Sigma_1) /  multivariate_normal.pdf(mu_1, mean = np.array([0,0]), cov = Sigma_1) * multivariate_normal.pdf(r, mean = 0, cov = sigma_r**2)\n",
    "    return y\n"
   ]
  },
  {
   "cell_type": "code",
   "execution_count": 8,
   "metadata": {},
   "outputs": [],
   "source": [
    "def trial_nonorm_posterior_set_transformed(zs, rs, gamma, sigma_r, Sigma_0):\n",
    "    # this is the non-normalized posterior that is the argument of the integral of the mmLLH\n",
    "    # it is a transformation of \\prod_i p(z_i, r_i | c, gamma) * p(\\gamma | c) -- notation as in the 'CL marginal likelihood 2' calculation in onenote\n",
    "    # the end result looks like this\n",
    "    # 1/2/\\pi * det(\\Sigma_0)^{-1/2} \\prod_i N(r_i; 0, \\sigma_r^2) / N(\\mu_T; 0, \\Sigma_T) * N(\\gamma; \\mu_T, \\Sigma_T)\n",
    "    # THIS IS THE CORE FUNCTION OF THE VALIDATION, ALL THE MATH BOILS DOWN HERE\n",
    "    T = np.size(zs,0)\n",
    "    detSigma_0 = np.linalg.det(Sigma_0)\n",
    "    Sigma_i_star_invs = []\n",
    "    Sigma_i_invs = []\n",
    "    mu_is = []\n",
    "    y = 1/(2*math.pi)/np.sqrt(np.linalg.det(Sigma_0))\n",
    "    for t in range(T):\n",
    "        z = zs[t]\n",
    "        r = rs[t]\n",
    "        Sigma_i_star_inv = np.array([[z[0]**2/sigma_r**2, z[0]*z[1]/sigma_r**2],[z[0]*z[1]/sigma_r**2, z[1]**2/sigma_r**2]])\n",
    "        Sigma_i_star_invs.append(Sigma_i_star_inv)\n",
    "        if t==0:\n",
    "            Sigma_i_inv = Sigma_i_star_inv + np.linalg.inv(Sigma_0)\n",
    "        else:\n",
    "            Sigma_i_inv = Sigma_i_star_inv + Sigma_i_invs[t-1]\n",
    "        Sigma_i_invs.append(Sigma_i_inv)\n",
    "        Sigma_i = np.linalg.inv(Sigma_i_inv)\n",
    "        if t==0:\n",
    "            mu_i = Sigma_i.dot(z*r/sigma_r**2)\n",
    "        else:\n",
    "            mu_i = Sigma_i.dot(z*r/sigma_r**2 + Sigma_i_invs[t-1].dot(mu_is[t-1]) )\n",
    "        mu_is.append(mu_i)\n",
    "        y = y * multivariate_normal.pdf(r, mean = 0, cov = sigma_r**2)\n",
    "    y = y / multivariate_normal.pdf(mu_i, mean = np.array([0,0]), cov = Sigma_i) * multivariate_normal.pdf(gamma, mean = mu_i, cov =  Sigma_i)\n",
    "    return y"
   ]
  },
  {
   "cell_type": "code",
   "execution_count": 9,
   "metadata": {},
   "outputs": [],
   "source": [
    "def trial_nonorm_posterior_set_valid(zs, rs, gamma, sigma_r, Sigma_0):\n",
    "    #non-normalized gamma posterior for two data points, for validation purposes\n",
    "    T = np.size(zs,0)\n",
    "    t = 0\n",
    "    z = zs[t]\n",
    "    r = rs[t]\n",
    "    y = trial_nonorm_posterior_transformed(z, r, gamma, sigma_r, Sigma_0)\n",
    "    t = 1\n",
    "    z = zs[t]\n",
    "    r = rs[t]\n",
    "    y = y * trial_llh_simple(z, r, gamma, sigma_r)\n",
    "    return y\n"
   ]
  },
  {
   "cell_type": "code",
   "execution_count": 10,
   "metadata": {},
   "outputs": [],
   "source": [
    "def trial_nonorm_posterior_set_breakdown(zs, rs, gamma, sigma_r, Sigma_0):\n",
    "    #non-normalized gamma posterior for two data points, for validation purposes\n",
    "    T = np.size(zs,0)\n",
    "    t = 0\n",
    "    z = zs[t]\n",
    "    r = rs[t]\n",
    "    detSigma_0 = np.linalg.det(Sigma_0)\n",
    "    Sigma_1_star_inv = np.array([[z[0]**2/sigma_r**2, z[0]*z[1]/sigma_r**2],[z[0]*z[1]/sigma_r**2, z[1]**2/sigma_r**2]])\n",
    "    Sigma_1_inv = Sigma_1_star_inv + np.linalg.inv(Sigma_0)\n",
    "    Sigma_1 = np.linalg.inv(Sigma_1_inv)\n",
    "    mu_1 = Sigma_1.dot(z) *r/sigma_r**2\n",
    "    y = 1/(2*math.pi)/np.sqrt(np.linalg.det(Sigma_0)) * multivariate_normal.pdf(r, mean = 0, cov = sigma_r**2)\n",
    "    t = 1\n",
    "    z = zs[t]\n",
    "    r = rs[t]\n",
    "    Sigma_2_star_inv = np.array([[z[0]**2/sigma_r**2, z[0]*z[1]/sigma_r**2],[z[0]*z[1]/sigma_r**2, z[1]**2/sigma_r**2]])\n",
    "    Sigma_2_inv = Sigma_2_star_inv + Sigma_1_inv\n",
    "    Sigma_2 = np.linalg.inv(Sigma_2_inv)\n",
    "    mu_2 = Sigma_2.dot(z*r/sigma_r**2 + Sigma_1_inv.dot(mu_1))\n",
    "    y = y *  multivariate_normal.pdf(r, mean = 0, cov = sigma_r**2) / multivariate_normal.pdf(mu_2, mean = np.array([0,0]), cov = Sigma_2) * multivariate_normal.pdf(gamma, mean = mu_2, cov =  Sigma_2)\n",
    "    return y\n",
    "\n"
   ]
  },
  {
   "cell_type": "code",
   "execution_count": 11,
   "metadata": {},
   "outputs": [],
   "source": [
    "def gamma_posterior(zs, rs, gamma, sigma_r, Sigma_0):\n",
    "    # this is the calculation of the posterior parameters, mu_T and Sigma_T of the posterior p(\\gamma | D) = N(\\gamma; mu_T, Sigma_T)\n",
    "    # notation as in the 'CL marginal likelihood 2' calculation in onenote\n",
    "    # the core derivation comes from the function 'trial_nonorm_posterior_set_transformed'\n",
    "    T = np.size(zs,0)\n",
    "    detSigma_0 = np.linalg.det(Sigma_0)\n",
    "    Sigma_i_star_invs = []\n",
    "    Sigma_i_invs = []\n",
    "    mu_is = []\n",
    "    for t in range(T):\n",
    "        z = zs[t]\n",
    "        r = rs[t]\n",
    "        Sigma_i_star_inv = np.array([[z[0]**2/sigma_r**2, z[0]*z[1]/sigma_r**2],[z[0]*z[1]/sigma_r**2, z[1]**2/sigma_r**2]])\n",
    "        Sigma_i_star_invs.append(Sigma_i_star_inv)\n",
    "        if t==0:\n",
    "            Sigma_i_inv = Sigma_i_star_inv + np.linalg.inv(Sigma_0)\n",
    "        else:\n",
    "            Sigma_i_inv = Sigma_i_star_inv + Sigma_i_invs[t-1]\n",
    "        Sigma_i_invs.append(Sigma_i_inv)\n",
    "        Sigma_i = np.linalg.inv(Sigma_i_inv)\n",
    "        if t==0:\n",
    "            mu_i = Sigma_i.dot(z*r/sigma_r**2)\n",
    "        else:\n",
    "            mu_i = Sigma_i.dot(z*r/sigma_r**2 + Sigma_i_invs[t-1].dot(mu_is[t-1]) )\n",
    "        mu_is.append(mu_i)\n",
    "    mu_T = mu_i\n",
    "    Sigma_T = Sigma_i\n",
    "    return mu_T, Sigma_T"
   ]
  },
  {
   "cell_type": "code",
   "execution_count": 12,
   "metadata": {},
   "outputs": [],
   "source": [
    "def model_marginal_llh(zs, rs, gamma, sigma_r, Sigma_0):\n",
    "    # this is the model marginal likelihood function\n",
    "    # it is validated through 'trial_nonorm_posterior_set_transformed'\n",
    "    # from that function the only step fowrad is to leave the normal in gamma (the gamma posterior) since gamma is marginalized out\n",
    "    T = np.size(zs,0)\n",
    "    detSigma_0 = np.linalg.det(Sigma_0)\n",
    "    Sigma_i_star_invs = []\n",
    "    Sigma_i_invs = []\n",
    "    mu_is = []\n",
    "    y = 1/(2*math.pi)/np.sqrt(np.linalg.det(Sigma_0))\n",
    "    for t in range(T):\n",
    "        z = zs[t]\n",
    "        r = rs[t]\n",
    "        Sigma_i_star_inv = np.array([[z[0]**2/sigma_r**2, z[0]*z[1]/sigma_r**2],[z[0]*z[1]/sigma_r**2, z[1]**2/sigma_r**2]])\n",
    "        Sigma_i_star_invs.append(Sigma_i_star_inv)\n",
    "        if t==0:\n",
    "            Sigma_i_inv = Sigma_i_star_inv + np.linalg.inv(Sigma_0)\n",
    "        else:\n",
    "            Sigma_i_inv = Sigma_i_star_inv + Sigma_i_invs[t-1]\n",
    "        Sigma_i_invs.append(Sigma_i_inv)\n",
    "        Sigma_i = np.linalg.inv(Sigma_i_inv)\n",
    "        if t==0:\n",
    "            mu_i = Sigma_i.dot(z*r/sigma_r**2)\n",
    "        else:\n",
    "            mu_i = Sigma_i.dot(z*r/sigma_r**2 + Sigma_i_invs[t-1].dot(mu_is[t-1]) )\n",
    "        mu_is.append(mu_i)\n",
    "        y = y * multivariate_normal.pdf(r, mean = 0, cov = sigma_r**2)\n",
    "    y = y / multivariate_normal.pdf(mu_i, mean = np.array([0,0]), cov = Sigma_i)\n",
    "    return y"
   ]
  },
  {
   "cell_type": "code",
   "execution_count": 13,
   "metadata": {},
   "outputs": [
    {
     "name": "stdout",
     "output_type": "stream",
     "text": [
      "0.012075050338033355\n",
      "0.012075050338033301\n",
      "0.9999999999999956\n"
     ]
    }
   ],
   "source": [
    "# one datapoint validation of gamma posterior\n",
    "print(trial_nonorm_posterior_simple(z, r, gamma, sigma_r, Sigma_0))\n",
    "print(trial_nonorm_posterior_transformed(z, r, gamma, sigma_r, Sigma_0))\n",
    "print(trial_nonorm_posterior_transformed(z, r, gamma, sigma_r, Sigma_0)/trial_nonorm_posterior_simple(z, r, gamma, sigma_r, Sigma_0))"
   ]
  },
  {
   "cell_type": "code",
   "execution_count": 14,
   "metadata": {},
   "outputs": [
    {
     "name": "stdout",
     "output_type": "stream",
     "text": [
      "2.368006578969691e-05\n",
      "2.3680065789696804e-05\n",
      "2.3680065789696865e-05\n",
      "2.368006578969665e-05\n"
     ]
    }
   ],
   "source": [
    "# two-datapoints validation of gamma posterior\n",
    "print(trial_nonorm_posterior_set_simple(z2, r2, gamma, sigma_r, Sigma_0))\n",
    "print(trial_nonorm_posterior_set_valid(z2, r2, gamma, sigma_r, Sigma_0))\n",
    "print(trial_nonorm_posterior_set_breakdown(z2, r2, gamma, sigma_r, Sigma_0))\n",
    "print(trial_nonorm_posterior_set_transformed(z2, r2, gamma, sigma_r, Sigma_0))"
   ]
  },
  {
   "cell_type": "code",
   "execution_count": 15,
   "metadata": {},
   "outputs": [
    {
     "name": "stdout",
     "output_type": "stream",
     "text": [
      "5.642180008760846e-23\n",
      "5.642180008760841e-23\n",
      "1.0000000000000009\n"
     ]
    }
   ],
   "source": [
    "# N-datapoints validation of gamma posterior\n",
    "zs = zT\n",
    "rs = rT\n",
    "print(trial_nonorm_posterior_set_simple(zs, rs, gamma, sigma_r, Sigma_0))\n",
    "print(trial_nonorm_posterior_set_transformed(zs, rs, gamma, sigma_r, Sigma_0))\n",
    "print(trial_nonorm_posterior_set_simple(zs, rs, gamma, sigma_r, Sigma_0)/trial_nonorm_posterior_set_transformed(zs, rs, gamma, sigma_r, Sigma_0))"
   ]
  },
  {
   "cell_type": "code",
   "execution_count": 16,
   "metadata": {},
   "outputs": [
    {
     "name": "stdout",
     "output_type": "stream",
     "text": [
      "[0.262081   0.02383172]\n",
      "[[ 0.14432371 -0.04430244]\n",
      " [-0.04430244  0.03493169]]\n"
     ]
    }
   ],
   "source": [
    "zs = zT\n",
    "rs = rT\n",
    "mu_T, Sigma_T = gamma_posterior(zs, rs, gamma, sigma_r, Sigma_0)\n",
    "print(mu_T)\n",
    "print(Sigma_T)"
   ]
  },
  {
   "cell_type": "code",
   "execution_count": 18,
   "metadata": {},
   "outputs": [],
   "source": [
    "N = 30\n",
    "gammas = np.linspace(-4,4,N)\n",
    "\n",
    "gamma_post_T1 = np.zeros([N,N])\n",
    "for i in range(N):\n",
    "    for j in range(N):\n",
    "        gamma_post_T1[i][j]= trial_nonorm_posterior_transformed(z, r, np.array([gammas[i],gammas[j]]), sigma_r, Sigma_0)"
   ]
  },
  {
   "cell_type": "code",
   "execution_count": 19,
   "metadata": {},
   "outputs": [
    {
     "data": {
      "image/png": "[encoded data removed]",
      "text/plain": [
       "<Figure size 432x288 with 1 Axes>"
      ]
     },
     "metadata": {
      "needs_background": "light"
     },
     "output_type": "display_data"
    }
   ],
   "source": [
    "X, Y = np.meshgrid(gammas, gammas)\n",
    "fig = plt.figure()\n",
    "ax = plt.axes(projection='3d')\n",
    "ax.contour3D(X, Y, gamma_post_T1, 50, cmap='binary')\n",
    "ax.view_init(elev=60, azim=40)"
   ]
  },
  {
   "cell_type": "code",
   "execution_count": null,
   "metadata": {},
   "outputs": [],
   "source": []
  },
  {
   "cell_type": "code",
   "execution_count": null,
   "metadata": {},
   "outputs": [],
   "source": []
  }
 ],
 "metadata": {
  "kernelspec": {
   "display_name": "Python 3",
   "language": "python",
   "name": "python3"
  },
  "language_info": {
   "codemirror_mode": {
    "name": "ipython",
    "version": 3
   },
   "file_extension": ".py",
   "mimetype": "text/x-python",
   "name": "python",
   "nbconvert_exporter": "python",
   "pygments_lexer": "ipython3",
   "version": "3.6.9"
  }
 },
 "nbformat": 4,
 "nbformat_minor": 4
}
