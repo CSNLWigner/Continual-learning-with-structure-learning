{
 "cells": [
  {
   "cell_type": "code",
   "execution_count": null,
   "metadata": {
    "nteract": {
     "transient": {
      "deleting": false
     }
    }
   },
   "outputs": [],
   "source": [
    "import tensorflow as tf\n",
    "from tensorflow_probability import distributions as tfd\n",
    "import tensorflow_probability as tfp\n",
    "import tensorflow.keras.backend as K\n",
    "import math as m\n",
    "import numpy as np\n",
    "import matplotlib.pyplot as plt\n",
    "from matplotlib import cm\n",
    "from mpl_toolkits.mplot3d import Axes3D\n",
    "\n",
    "import helper"
   ]
  },
  {
   "cell_type": "code",
   "execution_count": null,
   "metadata": {},
   "outputs": [],
   "source": [
    "# this is just a visual representation of the meaning of alpha for reference\n",
    "import matplotlib.gridspec as gridspec\n",
    "subplots = [plt.subplot(grid_loc) for grid_loc in gridspec.GridSpec(1, 8)]\n",
    "for i,sp in enumerate(subplots):\n",
    "    data = helper.generate_data(200,alpha=i*45,sigma_reward=0.001)\n",
    "    sp.scatter(*data['z'].T,c=data['r'])\n",
    "    sp.set_aspect('equal')\n",
    "    sp.axis('off')\n",
    "    sp.set_title(str(i*45))\n"
   ]
  },
  {
   "cell_type": "code",
   "execution_count": null,
   "metadata": {
    "nteract": {
     "transient": {
      "deleting": false
     }
    }
   },
   "outputs": [],
   "source": [
    "# example data\n",
    "data = helper.generate_data(10,alpha=90,sigma_reward=0.001)\n",
    "plt.scatter(*data['z'].T,c=data['r'])\n",
    "plt.gca().set_aspect('equal')\n",
    "plt.colorbar();\n",
    "\n",
    "# labels\n",
    "labels = ['{0}'.format(i) for i in range(data['z'].shape[0])]\n",
    "for label, x, y in zip(labels, data['z'][:, 0], data['z'][:, 1]):\n",
    "    plt.annotate(\n",
    "        label,\n",
    "        xy=(x, y), xytext=(-20, 20),\n",
    "        textcoords='offset points', ha='right', va='bottom',\n",
    "        bbox=dict(boxstyle='round,pad=0.5', fc='yellow', alpha=0.5),\n",
    "        arrowprops=dict(arrowstyle = '->', connectionstyle='arc3,rad=0'))"
   ]
  },
  {
   "cell_type": "code",
   "execution_count": null,
   "metadata": {},
   "outputs": [],
   "source": [
    "# relevant dimension of data points for alpha = 90\n",
    "plt.plot(data['z'].T[1],'.-')"
   ]
  },
  {
   "cell_type": "code",
   "execution_count": null,
   "metadata": {},
   "outputs": [],
   "source": [
    "def iterative_model_log_llhs(z, r, alpha, sigma_reward):\n",
    "    llhs = np.array(\n",
    "    [helper.model_log_llh(z[:t], r[:t], alpha=alpha, sigma_reward=sigma_reward) \n",
    "        for t in range(z.shape[0])])\n",
    "    return llhs"
   ]
  },
  {
   "cell_type": "code",
   "execution_count": null,
   "metadata": {},
   "outputs": [],
   "source": [
    "for alpha in np.arange(0,360,45):\n",
    "    plt.plot(iterative_model_log_llhs(data['z'], data['r'], alpha=alpha, sigma_reward=0.1),'.-')\n",
    "plt.legend(list(map(str,np.arange(0,360,45))))"
   ]
  },
  {
   "cell_type": "code",
   "execution_count": null,
   "metadata": {},
   "outputs": [],
   "source": [
    "for alpha in np.arange(0,360,45):\n",
    "    plt.plot(iterative_model_log_llhs(data['z'], data['r'], alpha=alpha, sigma_reward=0.5),'.-')\n",
    "plt.legend(list(map(str,np.arange(0,360,45))))"
   ]
  },
  {
   "cell_type": "code",
   "execution_count": null,
   "metadata": {},
   "outputs": [],
   "source": [
    "%%time\n",
    "helper.model_log_llh(data['z'], data['r'], alpha=alpha, sigma_reward=0.1)"
   ]
  },
  {
   "cell_type": "code",
   "execution_count": null,
   "metadata": {},
   "outputs": [],
   "source": [
    "alpha_samples = tfd.Uniform(0,180).sample(1000)\n",
    "plt.hist(np.array([helper.model_log_llh(data['z'], data['r'], alpha=alpha_sample, sigma_reward=0.5) for alpha_sample in alpha_samples]))"
   ]
  },
  {
   "cell_type": "code",
   "execution_count": null,
   "metadata": {},
   "outputs": [],
   "source": [
    "1/1e-100"
   ]
  },
  {
   "cell_type": "code",
   "execution_count": null,
   "metadata": {},
   "outputs": [],
   "source": [
    "def model_llh(z, r, alpha, sigma_reward):\n",
    "    gamma = helper.gamma_from_alpha(alpha)\n",
    "    prob_per_sample = tfp.distributions.Normal(loc=tf.reduce_sum(tf.multiply(gamma,z),1), scale=sigma_reward).prob(r)\n",
    "    return tf.reduce_sum(prob_per_sample)\n",
    "\n",
    "def model_llh2(z, r, alpha, sigma_reward):\n",
    "    gamma = helper.gamma_from_alpha(alpha)\n",
    "    prob_per_sample = tf.exp(-0.5 * (tf.reduce_sum(tf.multiply(gamma,z),1) - r)**2 / sigma_reward**2) / (2*np.pi*sigma_reward**2)**0.5\n",
    "    return tf.reduce_sum(prob_per_sample)"
   ]
  },
  {
   "cell_type": "code",
   "execution_count": null,
   "metadata": {},
   "outputs": [],
   "source": [
    "model_llh(data['z'], data['r'], alpha=90, sigma_reward=0.5)"
   ]
  },
  {
   "cell_type": "code",
   "execution_count": null,
   "metadata": {},
   "outputs": [],
   "source": [
    "# example data\n",
    "data = helper.generate_data(30,alpha=45,sigma_reward=0.001)\n",
    "plt.scatter(*data['z'].T,c=data['r'])\n",
    "plt.gca().set_aspect('equal')\n",
    "plt.colorbar();\n"
   ]
  },
  {
   "cell_type": "code",
   "execution_count": null,
   "metadata": {},
   "outputs": [],
   "source": [
    "N=10000"
   ]
  },
  {
   "cell_type": "code",
   "execution_count": null,
   "metadata": {},
   "outputs": [],
   "source": [
    "%%time\n",
    "# 2D model\n",
    "alpha_samples = tfd.Uniform(0,180).sample(N)\n",
    "np.mean(np.array([model_llh(data['z'], data['r'], alpha=alpha_sample, sigma_reward=0.1) for alpha_sample in alpha_samples]))"
   ]
  },
  {
   "cell_type": "code",
   "execution_count": null,
   "metadata": {},
   "outputs": [],
   "source": [
    "%%time\n",
    "# 2D model\n",
    "alpha_samples = tfd.Uniform(0,180).sample(N)\n",
    "np.mean(np.array([model_llh2(data['z'], data['r'], alpha=alpha_sample, sigma_reward=0.1) for alpha_sample in alpha_samples]))"
   ]
  },
  {
   "cell_type": "code",
   "execution_count": null,
   "metadata": {},
   "outputs": [],
   "source": [
    "%%time\n",
    "# horizontal DB 1D model\n",
    "alpha_samples = np.repeat(90,N)\n",
    "np.mean(np.array([model_llh(data['z'], data['r'], alpha=alpha_sample, sigma_reward=0.1) for alpha_sample in alpha_samples]))"
   ]
  },
  {
   "cell_type": "code",
   "execution_count": null,
   "metadata": {},
   "outputs": [],
   "source": [
    "%%time\n",
    "# horizontal DB 1D model\n",
    "alpha_samples = np.repeat(90,N)\n",
    "np.mean(np.array([model_llh2(data['z'], data['r'], alpha=alpha_sample, sigma_reward=0.1) for alpha_sample in alpha_samples]))"
   ]
  },
  {
   "cell_type": "code",
   "execution_count": null,
   "metadata": {},
   "outputs": [],
   "source": [
    "# vertical DB 1D model\n",
    "alpha_samples = np.repeat(0,N)\n",
    "np.mean(np.array([model_llh(data['z'], data['r'], alpha=alpha_sample, sigma_reward=0.1) for alpha_sample in alpha_samples]))"
   ]
  },
  {
   "cell_type": "code",
   "execution_count": null,
   "metadata": {},
   "outputs": [],
   "source": [
    "# worst possible 1D model\n",
    "alpha_samples = np.repeat(225,N)\n",
    "np.mean(np.array([model_llh(data['z'], data['r'], alpha=alpha_sample, sigma_reward=0.1) for alpha_sample in alpha_samples]))"
   ]
  },
  {
   "cell_type": "code",
   "execution_count": null,
   "metadata": {},
   "outputs": [],
   "source": [
    "# ground truth 1D model\n",
    "alpha_samples = np.repeat(45,N)\n",
    "np.mean(np.array([model_llh(data['z'], data['r'], alpha=alpha_sample, sigma_reward=0.1) for alpha_sample in alpha_samples]))"
   ]
  },
  {
   "cell_type": "code",
   "execution_count": null,
   "metadata": {},
   "outputs": [],
   "source": []
  },
  {
   "cell_type": "code",
   "execution_count": null,
   "metadata": {},
   "outputs": [],
   "source": []
  }
 ],
 "metadata": {
  "kernel_info": {
   "name": "python3"
  },
  "kernelspec": {
   "display_name": "Python 3",
   "language": "python",
   "name": "python3"
  },
  "language_info": {
   "codemirror_mode": {
    "name": "ipython",
    "version": 3
   },
   "file_extension": ".py",
   "mimetype": "text/x-python",
   "name": "python",
   "nbconvert_exporter": "python",
   "pygments_lexer": "ipython3",
   "version": "3.6.9"
  },
  "nteract": {
   "version": "0.25.1"
  }
 },
 "nbformat": 4,
 "nbformat_minor": 4
}
