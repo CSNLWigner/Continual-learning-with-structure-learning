{
 "cells": [
  {
   "cell_type": "code",
   "execution_count": null,
   "metadata": {
    "nteract": {
     "transient": {
      "deleting": false
     }
    }
   },
   "outputs": [],
   "source": [
    "import tensorflow as tf\n",
    "from tensorflow_probability import distributions as tfd\n",
    "import tensorflow_probability as tfp\n",
    "import tensorflow.keras.backend as K\n",
    "import math as m\n",
    "import numpy as np\n",
    "import matplotlib.pyplot as plt\n",
    "from matplotlib import cm\n",
    "from mpl_toolkits.mplot3d import Axes3D\n",
    "\n",
    "import helper"
   ]
  },
  {
   "cell_type": "code",
   "execution_count": null,
   "metadata": {},
   "outputs": [],
   "source": [
    "# this is just a visual reference for the meaning of alpha\n",
    "import matplotlib.gridspec as gridspec\n",
    "subplots = [plt.subplot(grid_loc) for grid_loc in gridspec.GridSpec(1, 8)]\n",
    "for i,sp in enumerate(subplots):\n",
    "    data = helper.generate_data(200,alpha=i*45,sigma_reward=0.001)\n",
    "    sp.scatter(*data['z'].T,c=data['r'])\n",
    "    sp.set_aspect('equal')\n",
    "    sp.axis('off')\n",
    "    sp.set_title(str(i*45))"
   ]
  },
  {
   "cell_type": "code",
   "execution_count": null,
   "metadata": {
    "nteract": {
     "transient": {
      "deleting": false
     }
    }
   },
   "outputs": [],
   "source": [
    "# example data\n",
    "data = helper.generate_data(20,alpha=90,sigma_reward=0.001)\n",
    "plt.scatter(*data['z'].T,c=data['r'])\n",
    "plt.gca().set_aspect('equal')\n",
    "plt.colorbar();\n",
    "\n",
    "# labels\n",
    "labels = ['{0}'.format(i) for i in range(data['z'].shape[0])]\n",
    "for label, x, y in zip(labels, data['z'][:, 0], data['z'][:, 1]):\n",
    "    plt.annotate(\n",
    "        label,\n",
    "        xy=(x, y), xytext=(-20, 20),\n",
    "        textcoords='offset points', ha='right', va='bottom',\n",
    "        bbox=dict(boxstyle='round,pad=0.5', fc='yellow', alpha=0.5),\n",
    "        arrowprops=dict(arrowstyle = '->', connectionstyle='arc3,rad=0'))"
   ]
  },
  {
   "cell_type": "code",
   "execution_count": null,
   "metadata": {},
   "outputs": [],
   "source": [
    "# relevant dimension of data points for alpha = 90\n",
    "plt.plot(data['z'].T[1],'.-')"
   ]
  },
  {
   "cell_type": "code",
   "execution_count": null,
   "metadata": {},
   "outputs": [],
   "source": [
    "def iterative_model_log_llhs(z, r, alpha, sigma_reward):\n",
    "    llhs = np.array(\n",
    "    [helper.model_log_llh(z[:t], r[:t], alpha=alpha, sigma_reward=sigma_reward) \n",
    "        for t in range(z.shape[0])])\n",
    "    return llhs"
   ]
  },
  {
   "cell_type": "code",
   "execution_count": null,
   "metadata": {},
   "outputs": [],
   "source": [
    "for alpha in np.arange(0,360,45):\n",
    "    plt.plot(iterative_model_log_llhs(data['z'], data['r'], alpha=alpha, sigma_reward=0.1),'.-')\n",
    "plt.legend(list(map(str,np.arange(0,360,45))))"
   ]
  },
  {
   "cell_type": "code",
   "execution_count": null,
   "metadata": {},
   "outputs": [],
   "source": [
    "for alpha in np.arange(0,360,45):\n",
    "    plt.plot(iterative_model_log_llhs(data['z'], data['r'], alpha=alpha, sigma_reward=0.5),'.-')\n",
    "plt.legend(list(map(str,np.arange(0,360,45))))"
   ]
  },
  {
   "cell_type": "code",
   "execution_count": null,
   "metadata": {},
   "outputs": [],
   "source": [
    "%%time\n",
    "helper.model_log_llh(data['z'], data['r'], alpha=alpha, sigma_reward=0.1)"
   ]
  },
  {
   "cell_type": "code",
   "execution_count": null,
   "metadata": {},
   "outputs": [],
   "source": [
    "alpha_samples = tfd.Uniform(0,180).sample(1000)\n",
    "plt.hist(np.array([helper.model_log_llh(data['z'], data['r'], alpha=alpha_sample, sigma_reward=0.5) for alpha_sample in alpha_samples]))"
   ]
  },
  {
   "cell_type": "code",
   "execution_count": null,
   "metadata": {},
   "outputs": [],
   "source": [
    "1/1e-100"
   ]
  },
  {
   "cell_type": "code",
   "execution_count": null,
   "metadata": {},
   "outputs": [],
   "source": [
    "import helper"
   ]
  },
  {
   "cell_type": "code",
   "execution_count": null,
   "metadata": {},
   "outputs": [],
   "source": [
    "helper.model_llh(data['z'], data['r'], alpha=90, sigma_reward=0.5)"
   ]
  },
  {
   "cell_type": "code",
   "execution_count": null,
   "metadata": {},
   "outputs": [],
   "source": [
    "# example data\n",
    "data = helper.generate_data(500,alpha=45,sigma_reward=0.001)\n",
    "plt.scatter(*data['z'].T,c=data['r'])\n",
    "plt.gca().set_aspect('equal')\n",
    "plt.colorbar();"
   ]
  },
  {
   "cell_type": "code",
   "execution_count": null,
   "metadata": {},
   "outputs": [],
   "source": [
    "def llh_under(z, r, alpha, sigma_reward, method='np'):\n",
    "    gamma = helper.gamma_from_alpha(alpha)\n",
    "    if method == 'tf':\n",
    "        prob_per_sample = tfp.distributions.Normal(loc=tf.reduce_sum(tf.multiply(gamma,z),1), scale=sigma_reward).prob(r)\n",
    "    elif method == 'np':\n",
    "        prob_per_sample = tf.exp(-0.5 * \n",
    "                (tf.reduce_sum(tf.multiply(gamma,z),1) - r)**2 / sigma_reward**2) / (2*np.pi*sigma_reward**2)**0.1\n",
    "    return prob_per_sample"
   ]
  },
  {
   "cell_type": "code",
   "execution_count": null,
   "metadata": {},
   "outputs": [],
   "source": [
    "plt.hist(np.array(llh_under(data['z'], data['r'], alpha=90, sigma_reward=.5, method='np')))"
   ]
  },
  {
   "cell_type": "code",
   "execution_count": null,
   "metadata": {},
   "outputs": [],
   "source": [
    "np.prod(llh_under(data['z'], data['r'], alpha=90, sigma_reward=.5))"
   ]
  },
  {
   "cell_type": "code",
   "execution_count": null,
   "metadata": {},
   "outputs": [],
   "source": [
    "N=1000\n",
    "\n",
    "def int_over_prior(alpha_samples):\n",
    "    return np.mean(np.array([helper.model_llh(data['z'], data['r'], alpha=alpha_sample, sigma_reward=.5, method='np') for alpha_sample in alpha_samples]))\n",
    "\n",
    "# 2D model\n",
    "a = [tfd.Uniform(0,180).sample(N),np.repeat(90,N),np.repeat(0,N),np.repeat(45,N)]\n",
    "labels = ('2D','90','0','45')\n",
    "plt.bar(labels,[np.log(int_over_prior(alpha_samples)) for alpha_samples in a])"
   ]
  },
  {
   "cell_type": "code",
   "execution_count": null,
   "metadata": {},
   "outputs": [],
   "source": [
    "alpha_gt = 45\n",
    "data = helper.generate_data(2,alpha=alpha_gt,sigma_reward=0.001)\n",
    "alphas = np.arange(0, 360, 5)\n",
    "p_gamma = np.array([helper.model_llh(data['z'], data['r'], alpha=alpha, sigma_reward=1) for alpha in alphas])\n",
    "plt.plot(alphas,p_gamma)\n",
    "plt.axvline(x=alpha_gt)\n"
   ]
  },
  {
   "cell_type": "code",
   "execution_count": null,
   "metadata": {},
   "outputs": [],
   "source": [
    "alpha_gt = 90\n",
    "data = helper.generate_data(2,alpha=alpha_gt,sigma_reward=0.001)\n",
    "alphas = np.arange(0, 360, 5)\n",
    "p_gamma = np.array([helper.model_llh(data['z'], data['r'], alpha=alpha, sigma_reward=1) for alpha in alphas])\n",
    "plt.plot(alphas,p_gamma)\n",
    "#plt.gca().set_ylim([-100,1000])\n",
    "plt.axvline(x=alpha_gt)"
   ]
  },
  {
   "cell_type": "code",
   "execution_count": null,
   "metadata": {},
   "outputs": [],
   "source": [
    "def model_llh_gamma(z, r, gamma, sigma_reward):\n",
    "    prob_per_sample = tfp.distributions.Normal(loc=tf.reduce_sum(tf.multiply(gamma,z),1), scale=sigma_reward).prob(r)\n",
    "    return tf.reduce_prod(prob_per_sample)\n",
    "\n",
    "def model_llh2_gamma(z, r, gamma, sigma_reward):\n",
    "    prob_per_sample = tf.exp(-0.5 * (tf.reduce_sum(tf.multiply(gamma,z),1) - r)**2 / sigma_reward**2) / (2*np.pi*sigma_reward**2)**0.5\n",
    "    return tf.reduce_prod(prob_per_sample)"
   ]
  },
  {
   "cell_type": "code",
   "execution_count": null,
   "metadata": {},
   "outputs": [],
   "source": [
    "alpha_gt = 90\n",
    "data = helper.generate_data(2,alpha=alpha_gt,sigma_reward=0.001)\n",
    "\n",
    "#x = np.arange(0, 1, 0.1)\n",
    "#y = np.arange(0, 1, 0.1)\n",
    "p_gamma = np.array([model_llh_gamma(data['z'], data['r'], gamma=np.array([0.,1.]).astype(np.float32), sigma_reward=0.1) for alpha in alphas])\n",
    "\n",
    "plt.plot(alphas,p_gamma)\n"
   ]
  },
  {
   "cell_type": "code",
   "execution_count": null,
   "metadata": {},
   "outputs": [],
   "source": [
    "p_gamma"
   ]
  },
  {
   "cell_type": "code",
   "execution_count": null,
   "metadata": {},
   "outputs": [],
   "source": [
    "xx,yy"
   ]
  },
  {
   "cell_type": "code",
   "execution_count": null,
   "metadata": {},
   "outputs": [],
   "source": [
    "yy"
   ]
  },
  {
   "cell_type": "code",
   "execution_count": null,
   "metadata": {},
   "outputs": [],
   "source": [
    "x = np.arange(0, 1, 0.1)\n",
    "y = np.arange(0, 1, 0.1)\n",
    "xx, yy = np.meshgrid(x, y, sparse=True)"
   ]
  },
  {
   "cell_type": "code",
   "execution_count": null,
   "metadata": {},
   "outputs": [],
   "source": [
    "z = np.sin(xx**2 + yy**2) / (xx**2 + yy**2)"
   ]
  },
  {
   "cell_type": "code",
   "execution_count": null,
   "metadata": {},
   "outputs": [],
   "source": [
    "x = np.arange(-5, 5, 0.1)\n",
    "y = np.arange(-5, 5, 0.1)\n",
    "xx, yy = np.meshgrid(x, y, sparse=True)\n",
    "zz = model_llh_gamma(data['z'], data['r'], gamma=np.array([xx,yy]).astype(np.float32), sigma_reward=0.1)\n",
    "h = plt.contourf(x,y,z)\n",
    "plt.show()"
   ]
  },
  {
   "cell_type": "code",
   "execution_count": null,
   "metadata": {},
   "outputs": [],
   "source": [
    "np.array([xx,yy])"
   ]
  },
  {
   "cell_type": "code",
   "execution_count": null,
   "metadata": {},
   "outputs": [],
   "source": []
  }
 ],
 "metadata": {
  "kernel_info": {
   "name": "python3"
  },
  "kernelspec": {
   "display_name": "Python 3",
   "language": "python",
   "name": "python3"
  },
  "language_info": {
   "codemirror_mode": {
    "name": "ipython",
    "version": 3
   },
   "file_extension": ".py",
   "mimetype": "text/x-python",
   "name": "python",
   "nbconvert_exporter": "python",
   "pygments_lexer": "ipython3",
   "version": "3.6.9"
  },
  "nteract": {
   "version": "0.25.1"
  }
 },
 "nbformat": 4,
 "nbformat_minor": 4
}
