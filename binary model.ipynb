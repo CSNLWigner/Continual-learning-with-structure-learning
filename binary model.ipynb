{
 "cells": [
  {
   "cell_type": "code",
   "execution_count": null,
   "metadata": {},
   "outputs": [],
   "source": [
    "import numpy as np\n",
    "import tensorflow as tf\n",
    "import matplotlib.pyplot as plt\n",
    "import itertools"
   ]
  },
  {
   "cell_type": "code",
   "execution_count": null,
   "metadata": {},
   "outputs": [],
   "source": [
    "# All possible data\n",
    "def binary_sequences(length):\n",
    "    return np.array([[int(i) for i in np.binary_repr(j, width=length)] for j in range(2**length)])\n",
    "all_X = binary_sequences(4)\n",
    "\n",
    "# Definition of models\n",
    "def llh_factorised(x):\n",
    "    c = x[0]\n",
    "    z1 = x[1]\n",
    "    z2 = x[2]\n",
    "    r = x[3]\n",
    "    if c == 0:\n",
    "        if z1 == r:\n",
    "            return 1\n",
    "        else:\n",
    "            return 0\n",
    "    elif c == 1:\n",
    "        if z2 == r:\n",
    "            return 1\n",
    "        else:\n",
    "            return 0\n",
    "    else:\n",
    "        print('error')\n",
    "        return None\n",
    "\n",
    "def llh_x(x):\n",
    "    c = x[0]\n",
    "    z1 = x[1]\n",
    "    z2 = x[2]\n",
    "    r = x[3]\n",
    "    if z1 == r:\n",
    "        return 1\n",
    "    else:\n",
    "        return 0\n",
    "\n",
    "def llh_x_noisy(x):\n",
    "    c = x[0]\n",
    "    z1 = x[1]\n",
    "    z2 = x[2]\n",
    "    r = x[3]\n",
    "    noise = 0.2\n",
    "    if z1 == r:\n",
    "        return 1 - noise\n",
    "    else:\n",
    "        return noise\n",
    "\n",
    "def llh_y(x):\n",
    "    c = x[0]\n",
    "    z1 = x[1]\n",
    "    z2 = x[2]\n",
    "    r = x[3]\n",
    "    if z2 == r:\n",
    "        return 1\n",
    "    else:\n",
    "        return 0\n",
    "\n",
    "def llh_factorised_noisy(x,parameter_list = [0.2,0.2]):\n",
    "    c = x[0]\n",
    "    z1 = x[1]\n",
    "    z2 = x[2]\n",
    "    r = x[3]\n",
    "    noise1 = parameter_list[0]\n",
    "    noise2 = parameter_list[1]\n",
    "    if c == 0:\n",
    "        if z1 == r:\n",
    "            return 1 - noise1\n",
    "        else:\n",
    "            return noise1\n",
    "    elif c == 1:\n",
    "        if z2 == r:\n",
    "            return 1 - noise2\n",
    "        else:\n",
    "            return noise2\n",
    "    else:\n",
    "        print('error')\n",
    "        return None\n",
    "        \n",
    "\n",
    "def PX_array(model):\n",
    "    '''Return PXas a single array given a model'''\n",
    "    PX = np.zeros((16,5))\n",
    "    for i in range(16):\n",
    "        PX[i,0:4] = all_X[i]\n",
    "        PX[i,4] = model(all_X[i])\n",
    "    PX[:,4] = PX[:,4]/np.sum(PX[:,4])\n",
    "    return PX\n",
    "\n",
    "def R_from_PX(PX, ctx):\n",
    "    '''Return reward matrix from PX given a context'''\n",
    "    max_PX = np.max(PX[:,4])\n",
    "    zr = PX[np.where((PX[:,0] == ctx) & (PX[:,4] == max_PX))[0], 1:4]\n",
    "    R = np.zeros((2,2))\n",
    "    for i in range(2):\n",
    "        for j in range(2):\n",
    "            R[i,j] = zr[np.where((zr[:,0] == i) & (zr[:,1] == j))[0], 2]\n",
    "    return R\n",
    "\n",
    "def R_plot(PX):\n",
    "    '''Plot R matrices in both contexts'''\n",
    "    fig, ax = plt.subplots(1,2)\n",
    "    ax[0].imshow(R_from_PX(PX, 0), interpolation='nearest')\n",
    "    ax[0].set_title('Context 0')\n",
    "    ax[1].imshow(R_from_PX(PX, 1), interpolation='nearest')\n",
    "    ax[1].set_title('Context 1')\n",
    "    for i in range(2):\n",
    "        ax[i].set_xticks([])\n",
    "        ax[i].set_yticks([])\n",
    "    plt.show()\n",
    "\n",
    "def sigmoid(x):\n",
    "    return 1 / (1 + np.exp(-x-2))\n",
    "\n",
    "def binarised(PX):\n",
    "    PX_bin = np.zeros((16,5))\n",
    "    PX_bin[:,0:4] = PX[:,0:4]\n",
    "    PX_bin[:,4] = np.where(PX[:,4] > 0., 1., 0.)\n",
    "    return PX_bin\n",
    "\n",
    "def logp(PX):\n",
    "    PX_log = np.zeros((16,5))\n",
    "    PX_log[:,0:4] = PX[:,0:4]\n",
    "    PX_log[:,4] = sigmoid(np.log(PX[:,4]))\n",
    "    return PX_log\n",
    "\n",
    "def PX_plot(PX):\n",
    "    fig, (ax1, ax2) = plt.subplots(1, 2, figsize=(10,4))\n",
    "    ax1.imshow(PX, cmap='gray', interpolation='nearest')\n",
    "    ax1.set_xticks(np.arange(5))\n",
    "    ax1.set_xticklabels(['c', 'z1', 'z2', 'r', 'p'])\n",
    "    ax1.set_yticks([])\n",
    "    ax2.bar(np.arange(PX.shape[0]), PX[:,4])\n",
    "    ax2.set_xticks(np.arange(16))\n",
    "    ax2.set_xticklabels([str(x).replace('.','').replace('[','').replace(']','') for x in PX[:,:4]], rotation='vertical')\n",
    "    ax2.set_ylabel('P(x)')\n",
    "    # ax2.set_ylim(0,1)\n",
    "    box = ax2.get_position()\n",
    "    ax2.set_position([box.x0, box.y0, box.width * 2, box.height])\n",
    "    plt.show()\n",
    "\n",
    "def sorted(PX):\n",
    "    '''Return sorted PX'''\n",
    "    return PX[PX[:,4].argsort()[::-1]]\n"
   ]
  },
  {
   "cell_type": "code",
   "execution_count": null,
   "metadata": {},
   "outputs": [],
   "source": [
    "PX = PX_array(llh_factorised)"
   ]
  },
  {
   "cell_type": "code",
   "execution_count": null,
   "metadata": {},
   "outputs": [],
   "source": [
    "plt.imshow(PX,cmap='gray', interpolation='nearest')\n",
    "plt.xticks(np.arange(5), ['c', 'z1', 'z2', 'r', 'p'])\n",
    "plt.yticks([])\n",
    "plt.show()"
   ]
  },
  {
   "cell_type": "code",
   "execution_count": null,
   "metadata": {},
   "outputs": [],
   "source": [
    "plt.bar(np.arange(16), PX[:,4])\n",
    "plt.xticks(np.arange(16), [str(x).replace('.','').replace('[','').replace(']','') for x in PX[:,:4]], rotation='vertical')\n",
    "plt.ylabel('P(x)')\n",
    "plt.ylim(0,1)\n",
    "fig = plt.gcf()\n",
    "fig.set_size_inches(15,4)\n",
    "plt.show()"
   ]
  },
  {
   "cell_type": "code",
   "execution_count": null,
   "metadata": {},
   "outputs": [],
   "source": [
    "PX = PX_array(llh_factorised)\n",
    "PX_plot(PX)\n",
    "R_plot(PX)"
   ]
  },
  {
   "cell_type": "code",
   "execution_count": null,
   "metadata": {},
   "outputs": [],
   "source": [
    "PX = PX_array(llh_x)\n",
    "PX_plot(PX)\n",
    "R_plot(PX)"
   ]
  },
  {
   "cell_type": "code",
   "execution_count": null,
   "metadata": {},
   "outputs": [],
   "source": [
    "PX = PX_array(llh_x_noisy)\n",
    "PX_plot(PX)"
   ]
  },
  {
   "cell_type": "code",
   "execution_count": null,
   "metadata": {},
   "outputs": [],
   "source": [
    "PX = PX_array(llh_x)\n",
    "PX_plot(PX)"
   ]
  },
  {
   "cell_type": "code",
   "execution_count": null,
   "metadata": {},
   "outputs": [],
   "source": [
    "PX = PX_array(llh_factorised_noisy)\n",
    "PX_plot(PX)"
   ]
  },
  {
   "cell_type": "code",
   "execution_count": null,
   "metadata": {},
   "outputs": [],
   "source": [
    "PX = PX_array(llh_factorised_noisy)\n",
    "PX_plot(PX)"
   ]
  },
  {
   "cell_type": "code",
   "execution_count": null,
   "metadata": {},
   "outputs": [],
   "source": [
    "PX = PX_array(lambda x: llh_factorised_noisy(x, [0.2, 0.4]))\n",
    "PX_plot(PX)"
   ]
  },
  {
   "cell_type": "code",
   "execution_count": null,
   "metadata": {},
   "outputs": [],
   "source": [
    "PX = PX_array(lambda x: llh_factorised_noisy(x, [0.2, 0.4]))\n",
    "PX_plot(PX[:8])\n",
    "PX_plot(sorted(PX[:8]))"
   ]
  },
  {
   "cell_type": "code",
   "execution_count": null,
   "metadata": {},
   "outputs": [],
   "source": [
    "plt.plot(np.arange(16), PX_array(llh_factorised)[:,4])\n",
    "plt.plot(np.arange(16), PX_array(llh_x)[:,4])\n",
    "plt.plot(np.arange(16), PX_array(llh_x_noisy)[:,4])\n",
    "plt.plot(np.arange(16), PX_array(llh_y)[:,4])\n",
    "plt.plot(np.arange(16), PX_array(llh_factorised_noisy)[:,4])\n",
    "plt.plot(np.arange(16), PX_array(lambda x: llh_factorised_noisy(x, [0.2, 0.4]))[:,4])\n",
    "plt.xticks(np.arange(16), [str(x).replace('.','').replace('[','').replace(']','') for x in PX[:,:4]], rotation='vertical')\n",
    "plt.ylabel('P(x)')\n",
    "plt.legend(['factorised', 'x', 'noisy x', 'y', 'factorised noisy', 'factorised noisy (0.2, 0.4)'], bbox_to_anchor=(1.05, 1), loc=2, borderaxespad=0.)\n",
    "fig = plt.gcf()\n",
    "fig.set_size_inches(10,4)\n",
    "plt.show()"
   ]
  },
  {
   "cell_type": "code",
   "execution_count": null,
   "metadata": {},
   "outputs": [],
   "source": [
    "plt.plot(np.arange(16), PX_array(llh_factorised)[:,4])\n",
    "plt.plot(np.arange(16), PX_array(llh_x)[:,4])\n",
    "plt.xticks(np.arange(16), [str(x).replace('.','').replace('[','').replace(']','') for x in PX[:,:4]], rotation='vertical')\n",
    "plt.ylabel('P(x)')\n",
    "# legend\n",
    "plt.legend(['factorised', 'x'], bbox_to_anchor=(1.05, 1), loc=2, borderaxespad=0.)\n",
    "fig = plt.gcf()\n",
    "fig.set_size_inches(10,4)\n",
    "plt.show()"
   ]
  },
  {
   "cell_type": "code",
   "execution_count": null,
   "metadata": {},
   "outputs": [],
   "source": [
    "plt.plot(np.arange(16), PX_array(llh_x_noisy)[:,4])\n",
    "plt.plot(np.arange(16), PX_array(llh_factorised_noisy)[:,4])\n",
    "plt.xticks(np.arange(16), [str(x).replace('.','').replace('[','').replace(']','') for x in PX[:,:4]], rotation='vertical')\n",
    "plt.ylabel('P(x)')\n",
    "# legend\n",
    "plt.legend(['noisy x', 'factorised noisy'], bbox_to_anchor=(1.05, 1), loc=2, borderaxespad=0.)\n",
    "fig = plt.gcf()\n",
    "fig.set_size_inches(10,4)\n",
    "plt.show()"
   ]
  },
  {
   "cell_type": "code",
   "execution_count": null,
   "metadata": {},
   "outputs": [],
   "source": [
    "plt.plot(np.arange(16), sorted(PX_array(llh_factorised))[:,4])\n",
    "plt.plot(np.arange(16), sorted(PX_array(llh_x))[:,4])\n",
    "plt.plot(np.arange(16), sorted(PX_array(llh_x_noisy))[:,4])\n",
    "plt.plot(np.arange(16), sorted(PX_array(llh_y))[:,4])\n",
    "plt.plot(np.arange(16), sorted(PX_array(llh_factorised_noisy))[:,4])\n",
    "plt.plot(np.arange(16), sorted(PX_array(lambda x: llh_factorised_noisy(x, [0.2, 0.4])))[:,4])\n",
    "plt.ylabel('P(x)')\n",
    "fig = plt.gcf()\n",
    "fig.set_size_inches(10,4)\n",
    "plt.xticks([])\n",
    "plt.xlabel('x (sorted by P(x), varies between models)')\n",
    "plt.legend(['factorised', 'x', 'noisy x', 'y', 'factorised noisy', 'factorised noisy (0.2, 0.4)'], bbox_to_anchor=(1.05, 1), loc=2, borderaxespad=0.)\n",
    "plt.show()"
   ]
  },
  {
   "cell_type": "code",
   "execution_count": null,
   "metadata": {},
   "outputs": [],
   "source": [
    "all_X_permut = np.array(list(itertools.product(all_X, all_X)))"
   ]
  },
  {
   "cell_type": "code",
   "execution_count": null,
   "metadata": {},
   "outputs": [],
   "source": [
    "D_of_size2 = np.array([np.concatenate(x) for x in all_X_permut])\n",
    "plt.imshow(D_of_size2.T,cmap='gray')\n",
    "# set figsize\n",
    "fig = plt.gcf()\n",
    "fig.set_size_inches(20,4)\n",
    "# hide ticks\n",
    "plt.xticks([])\n",
    "plt.yticks([]);"
   ]
  },
  {
   "cell_type": "code",
   "execution_count": null,
   "metadata": {},
   "outputs": [],
   "source": [
    "D_of_size2[0]"
   ]
  },
  {
   "cell_type": "code",
   "execution_count": null,
   "metadata": {},
   "outputs": [],
   "source": [
    "all_X.shape\n",
    "all_X[15]"
   ]
  },
  {
   "cell_type": "code",
   "execution_count": null,
   "metadata": {},
   "outputs": [],
   "source": [
    "D_of_size2_ints = np.array(list(itertools.product(np.arange(16), np.arange(16))))\n",
    "D_of_size2_ints[255]\n",
    "# last column of P(x)"
   ]
  },
  {
   "cell_type": "code",
   "execution_count": null,
   "metadata": {},
   "outputs": [],
   "source": [
    "plt.imshow(all_X,cmap='gray');"
   ]
  },
  {
   "cell_type": "code",
   "execution_count": null,
   "metadata": {},
   "outputs": [],
   "source": [
    "def llh_factorised_noisy(x,parameter_list = [0.2]):\n",
    "    c = x[0]\n",
    "    z1 = x[1]\n",
    "    z2 = x[2]\n",
    "    r = x[3]\n",
    "    noise = parameter_list[0]\n",
    "    if c == 0:\n",
    "        if z1 == r:\n",
    "            return 1 - noise\n",
    "        else:\n",
    "            return noise\n",
    "    elif c == 1:\n",
    "        if z2 == r:\n",
    "            return 1 - noise\n",
    "        else:\n",
    "            return noise\n",
    "    else:\n",
    "        print('error')\n",
    "        return None"
   ]
  },
  {
   "cell_type": "code",
   "execution_count": null,
   "metadata": {},
   "outputs": [],
   "source": [
    "llhs = np.zeros(256)\n",
    "for i in range(256):\n",
    "    llhs[i] = llh_factorised(all_X[D_of_size2_ints[i,0]]) * llh_factorised(all_X[D_of_size2_ints[i,1]])"
   ]
  },
  {
   "cell_type": "code",
   "execution_count": null,
   "metadata": {},
   "outputs": [],
   "source": [
    "llh_factorised_noisy()"
   ]
  },
  {
   "cell_type": "code",
   "execution_count": null,
   "metadata": {},
   "outputs": [],
   "source": [
    "thetasamples = np.random.beta(4, 10, 100)\n",
    "mllhs = np.zeros((256,len(thetasamples)))\n",
    "for i in range(256):    \n",
    "    for j in range(len(thetasamples)):\n",
    "        mllhs[i,j] = llh_factorised_noisy(all_X[D_of_size2_ints[i,0]],[thetasamples[j]]) * \\\n",
    "                                llh_factorised_noisy(all_X[D_of_size2_ints[i,1]],[thetasamples[j]])\n",
    "mllhs = np.mean(mllhs,axis=1)"
   ]
  },
  {
   "cell_type": "code",
   "execution_count": null,
   "metadata": {},
   "outputs": [],
   "source": [
    "plt.hist(thetasamples)"
   ]
  },
  {
   "cell_type": "code",
   "execution_count": null,
   "metadata": {},
   "outputs": [],
   "source": [
    "mllhs_noisy = np.zeros(256)\n",
    "for i in range(256):\n",
    "    mllhs_noisy[i] = llh_factorised_noisy(all_X[D_of_size2_ints[i,0]],[0.2]) * llh_factorised_noisy(all_X[D_of_size2_ints[i,1]],[0.2])"
   ]
  },
  {
   "cell_type": "code",
   "execution_count": null,
   "metadata": {},
   "outputs": [],
   "source": [
    "mllhs_factorised = np.zeros(256)\n",
    "for i in range(256):\n",
    "    mllhs_factorised[i] = llh_factorised(all_X[D_of_size2_ints[i,0]]) * llh_factorised(all_X[D_of_size2_ints[i,1]])"
   ]
  },
  {
   "cell_type": "code",
   "execution_count": null,
   "metadata": {},
   "outputs": [],
   "source": [
    "# sorted llhs\n",
    "plt.plot(range(256),np.sort(mllhs)[::-1])\n",
    "plt.plot(range(256),np.sort(mllhs_noisy)[::-1])\n",
    "plt.plot(range(256),np.sort(mllhs_factorised)[::-1])\n",
    "fig = plt.gcf()\n",
    "fig.set_size_inches(20,4)\n",
    "# legends\n",
    "plt.legend(['factorised noisy marginalised', 'factorised fix noise', 'factorised deterministic'], bbox_to_anchor=(1.05, 1), loc=2, borderaxespad=0.)\n",
    "plt.ylabel('mllh')\n",
    "plt.xlabel('x (sorted by P(x), varies between models)')\n",
    "plt.show()"
   ]
  },
  {
   "cell_type": "code",
   "execution_count": null,
   "metadata": {},
   "outputs": [],
   "source": [
    "randvec = np.random.rand(256)\n",
    "#randvec = randvec[randvec.argsort()[::-1]]\n",
    "\n",
    "plt.bar(np.arange(256)[:40], mllhs[:40])\n",
    "plt.xticks(np.arange(256)[:40], [str(x).replace('.','').replace('[','').replace(']','') for x in all_X_permut[:40]], rotation='vertical')\n",
    "plt.ylabel('P(x)')\n",
    "plt.ylim(0,1)\n",
    "fig = plt.gcf()\n",
    "fig.set_size_inches(20,4)\n",
    "plt.show()"
   ]
  },
  {
   "cell_type": "code",
   "execution_count": null,
   "metadata": {},
   "outputs": [],
   "source": [
    "D_of_size2_ints[3,0]"
   ]
  },
  {
   "cell_type": "code",
   "execution_count": null,
   "metadata": {},
   "outputs": [],
   "source": [
    "all_X"
   ]
  },
  {
   "cell_type": "code",
   "execution_count": null,
   "metadata": {},
   "outputs": [],
   "source": []
  }
 ],
 "metadata": {
  "kernelspec": {
   "display_name": "base",
   "language": "python",
   "name": "python3"
  },
  "language_info": {
   "codemirror_mode": {
    "name": "ipython",
    "version": 3
   },
   "file_extension": ".py",
   "mimetype": "text/x-python",
   "name": "python",
   "nbconvert_exporter": "python",
   "pygments_lexer": "ipython3",
   "version": "3.6.8 |Anaconda, Inc.| (default, Dec 29 2018, 19:04:46) \n[GCC 4.2.1 Compatible Clang 4.0.1 (tags/RELEASE_401/final)]"
  },
  "vscode": {
   "interpreter": {
    "hash": "715d78e8ea9d15f3b1f6080971e99bb6f9fa1dfbe3824c645d367f8092e9c6f0"
   }
  }
 },
 "nbformat": 4,
 "nbformat_minor": 2
}
