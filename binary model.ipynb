{
 "cells": [
  {
   "cell_type": "code",
   "execution_count": null,
   "metadata": {},
   "outputs": [],
   "source": [
    "import numpy as np\n",
    "import tensorflow as tf\n",
    "import matplotlib.pyplot as plt\n",
    "import itertools"
   ]
  },
  {
   "cell_type": "code",
   "execution_count": null,
   "metadata": {},
   "outputs": [],
   "source": [
    "# All possible data\n",
    "def binary_sequences(length):\n",
    "    return np.array([[int(i) for i in np.binary_repr(j, width=length)] for j in range(2**length)])\n",
    "all_X = binary_sequences(4)\n",
    "\n",
    "# Definition of models\n",
    "def llh_factorised(x):\n",
    "    c = x[0]\n",
    "    z1 = x[1]\n",
    "    z2 = x[2]\n",
    "    r = x[3]\n",
    "    if c == 0:\n",
    "        if z1 == r:\n",
    "            return 1\n",
    "        else:\n",
    "            return 0\n",
    "    elif c == 1:\n",
    "        if z2 == r:\n",
    "            return 1\n",
    "        else:\n",
    "            return 0\n",
    "    else:\n",
    "        print('error')\n",
    "        return None\n",
    "\n",
    "def llh_x(x):\n",
    "    c = x[0]\n",
    "    z1 = x[1]\n",
    "    z2 = x[2]\n",
    "    r = x[3]\n",
    "    if z1 == r:\n",
    "        return 1\n",
    "    else:\n",
    "        return 0\n",
    "\n",
    "def llh_x_noisy(x):\n",
    "    c = x[0]\n",
    "    z1 = x[1]\n",
    "    z2 = x[2]\n",
    "    r = x[3]\n",
    "    noise = 0.2\n",
    "    if z1 == r:\n",
    "        return 1 - noise\n",
    "    else:\n",
    "        return noise\n",
    "\n",
    "def llh_y(x):\n",
    "    c = x[0]\n",
    "    z1 = x[1]\n",
    "    z2 = x[2]\n",
    "    r = x[3]\n",
    "    if z2 == r:\n",
    "        return 1\n",
    "    else:\n",
    "        return 0\n",
    "\n",
    "def llh_2D(x, parameter_list=[1,1]):\n",
    "    c = x[0]\n",
    "    z1 = x[1]\n",
    "    z2 = x[2]\n",
    "    r = x[3]\n",
    "    z1r = parameter_list[0]\n",
    "    z2r = parameter_list[1]\n",
    "    if z1 == z1r and z2 == z2r:\n",
    "        if r == 1:\n",
    "            return 1\n",
    "        else:\n",
    "            return 0\n",
    "    else:\n",
    "        if r == 0:\n",
    "            return 1\n",
    "        else:\n",
    "            return 0\n",
    "\n",
    "def llh_2D_noisy(x,noise=0.2):\n",
    "    c = x[0]\n",
    "    z1 = x[1]\n",
    "    z2 = x[2]\n",
    "    r = x[3]\n",
    "    if z1 and z2:\n",
    "        if r == 1:\n",
    "            return 1 - noise\n",
    "        return 1 - noise\n",
    "    else:\n",
    "        return noise\n",
    "\n",
    "def llh_factorised_noisy(x,parameter_list = [0.2,0.2]):\n",
    "    c = x[0]\n",
    "    z1 = x[1]\n",
    "    z2 = x[2]\n",
    "    r = x[3]\n",
    "    noise1 = parameter_list[0]\n",
    "    noise2 = parameter_list[1]\n",
    "    if c == 0:\n",
    "        if z1 == r:\n",
    "            return 1 - noise1\n",
    "        else:\n",
    "            return noise1\n",
    "    elif c == 1:\n",
    "        if z2 == r:\n",
    "            return 1 - noise2\n",
    "        else:\n",
    "            return noise2\n",
    "    else:\n",
    "        print('error')\n",
    "        return None\n",
    "        \n",
    "\n",
    "def PX_array(model):\n",
    "    '''Return PXas a single array given a model'''\n",
    "    PX = np.zeros((16,5))\n",
    "    for i in range(16):\n",
    "        PX[i,0:4] = all_X[i]\n",
    "        PX[i,4] = model(all_X[i])\n",
    "    PX[:,4] = PX[:,4]/np.sum(PX[:,4])\n",
    "    return PX\n",
    "\n",
    "def R_from_PX(PX, ctx):\n",
    "    '''Return reward matrix from PX given a context'''\n",
    "    max_PX = np.max(PX[:,4])\n",
    "    zr = PX[np.where((PX[:,0] == ctx) & (PX[:,4] == max_PX))[0], 1:4]\n",
    "    R = np.zeros((2,2))\n",
    "    for i in range(2):\n",
    "        for j in range(2):\n",
    "            R[i,j] = zr[np.where((zr[:,0] == i) & (zr[:,1] == j))[0], 2]\n",
    "    return R\n",
    "\n",
    "def R_plot(PX):\n",
    "    '''Plot R matrices in both contexts'''\n",
    "    fig, ax = plt.subplots(1,2)\n",
    "    ax[0].imshow(R_from_PX(PX, 0), interpolation='nearest')\n",
    "    ax[0].set_title('Context 0')\n",
    "    ax[1].imshow(R_from_PX(PX, 1), interpolation='nearest')\n",
    "    ax[1].set_title('Context 1')\n",
    "    for i in range(2):\n",
    "        ax[i].set_xticks([])\n",
    "        ax[i].set_yticks([])\n",
    "    plt.show()\n",
    "\n",
    "def sigmoid(x):\n",
    "    return 1 / (1 + np.exp(-x-2))\n",
    "\n",
    "def binarised(PX):\n",
    "    PX_bin = np.zeros((16,5))\n",
    "    PX_bin[:,0:4] = PX[:,0:4]\n",
    "    PX_bin[:,4] = np.where(PX[:,4] > 0., 1., 0.)\n",
    "    return PX_bin\n",
    "\n",
    "def logp(PX):\n",
    "    PX_log = np.zeros((16,5))\n",
    "    PX_log[:,0:4] = PX[:,0:4]\n",
    "    PX_log[:,4] = sigmoid(np.log(PX[:,4]))\n",
    "    return PX_log\n",
    "\n",
    "def PX_plot(PX):\n",
    "    fig, (ax1, ax2) = plt.subplots(1, 2, figsize=(5,2))\n",
    "    ax1.imshow(PX, cmap='gray', interpolation='nearest')\n",
    "    ax1.set_xticks(np.arange(5))\n",
    "    ax1.set_xticklabels(['c', 'z1', 'z2', 'r', 'p'])\n",
    "    ax1.set_yticks([])\n",
    "    ax2.bar(np.arange(PX.shape[0]), PX[:,4])\n",
    "    ax2.set_xticks(np.arange(16))\n",
    "    ax2.set_xticklabels([str(x).replace('.','').replace('[','').replace(']','') for x in PX[:,:4]], rotation='vertical')\n",
    "    ax2.set_ylabel('P(x)')\n",
    "    # ax2.set_ylim(0,1)\n",
    "    box = ax2.get_position()\n",
    "    ax2.set_position([box.x0, box.y0, box.width * 2, box.height])\n",
    "    plt.show()\n",
    "\n",
    "def sorted(PX):\n",
    "    '''Return sorted PX'''\n",
    "    return PX[PX[:,4].argsort()[::-1]]\n"
   ]
  },
  {
   "cell_type": "code",
   "execution_count": null,
   "metadata": {},
   "outputs": [],
   "source": [
    "PX = PX_array(llh_factorised)"
   ]
  },
  {
   "cell_type": "code",
   "execution_count": null,
   "metadata": {},
   "outputs": [],
   "source": [
    "plt.imshow(PX,cmap='gray', interpolation='nearest')\n",
    "plt.xticks(np.arange(5), ['c', 'z1', 'z2', 'r', 'p'])\n",
    "plt.yticks([])\n",
    "plt.show()"
   ]
  },
  {
   "cell_type": "code",
   "execution_count": null,
   "metadata": {},
   "outputs": [],
   "source": [
    "def X_plot(x):\n",
    "    '''Plot X vectors in matrix '''\n",
    "    c = x[0]\n",
    "    z1 = x[1]\n",
    "    z2 = x[2]\n",
    "    r = x[3]\n",
    "    R = np.empty((2,2,2))\n",
    "    R[:] = np.nan\n",
    "    R[c,z1,z2] = r\n",
    "    fig, ax = plt.subplots(1,2)\n",
    "    ax[0].imshow(R[0], interpolation='nearest', vmin=0, vmax=1)\n",
    "    #ax[0].set_title('ctx 0',fontsize=6)\n",
    "    ax[1].imshow(R[1], interpolation='nearest', vmin=0, vmax=1)\n",
    "    #ax[1].set_title('ctx 1',fontsize=6)\n",
    "    for i in range(2):\n",
    "        ax[i].set_xticks([])\n",
    "        ax[i].set_yticks([])\n",
    "    plt.gcf().set_size_inches((1,.5))\n",
    "    plt.show()"
   ]
  },
  {
   "cell_type": "code",
   "execution_count": null,
   "metadata": {},
   "outputs": [],
   "source": [
    "#same X_plot but with a third subplot to the right that contains text\n",
    "def X_plot_text(x):\n",
    "    '''Plot X vectors in matrix '''\n",
    "    c = x[0]\n",
    "    z1 = x[1]\n",
    "    z2 = x[2]\n",
    "    r = x[3]\n",
    "    R = np.empty((2,2,2))\n",
    "    R[:] = np.nan\n",
    "    R[c,z1,z2] = r\n",
    "    fig, ax = plt.subplots(1,3)\n",
    "    ax[0].imshow(R[0], interpolation='nearest', vmin=0, vmax=1)\n",
    "    #ax[0].set_title('ctx 0',fontsize=6)\n",
    "    ax[1].imshow(R[1], interpolation='nearest', vmin=0, vmax=1)\n",
    "    #ax[1].set_title('ctx 1',fontsize=6)\n",
    "    for i in range(2):\n",
    "        ax[i].set_xticks([])\n",
    "        ax[i].set_yticks([])\n",
    "    ax[2].axis('off')\n",
    "    ax[2].text(0.3,0.4,str(x),fontsize=10)\n",
    "    plt.gcf().set_size_inches((2,1))\n",
    "    plt.show()"
   ]
  },
  {
   "cell_type": "code",
   "execution_count": null,
   "metadata": {},
   "outputs": [],
   "source": [
    "for i in range(8):\n",
    "    X_plot_text(all_X[i])"
   ]
  },
  {
   "cell_type": "code",
   "execution_count": null,
   "metadata": {},
   "outputs": [],
   "source": [
    "plt.bar(np.arange(16), PX[:,4])\n",
    "plt.xticks(np.arange(16), [str(x).replace('.','').replace('[','').replace(']','') for x in PX[:,:4]], rotation='vertical')\n",
    "plt.ylabel('P(x)')\n",
    "plt.ylim(0,1)\n",
    "fig = plt.gcf()\n",
    "fig.set_size_inches(15,4)\n",
    "plt.show()"
   ]
  },
  {
   "cell_type": "code",
   "execution_count": null,
   "metadata": {},
   "outputs": [],
   "source": [
    "PX = PX_array(llh_factorised)\n",
    "PX_plot(PX)\n",
    "R_plot(PX)"
   ]
  },
  {
   "cell_type": "code",
   "execution_count": null,
   "metadata": {},
   "outputs": [],
   "source": [
    "PX = PX_array(llh_x)\n",
    "PX_plot(PX)\n",
    "R_plot(PX)"
   ]
  },
  {
   "cell_type": "code",
   "execution_count": null,
   "metadata": {},
   "outputs": [],
   "source": [
    "PX = PX_array(llh_x_noisy)\n",
    "PX_plot(PX)"
   ]
  },
  {
   "cell_type": "code",
   "execution_count": null,
   "metadata": {},
   "outputs": [],
   "source": [
    "PX = PX_array(llh_x)\n",
    "PX_plot(PX)"
   ]
  },
  {
   "cell_type": "code",
   "execution_count": null,
   "metadata": {},
   "outputs": [],
   "source": [
    "PX = PX_array(llh_factorised_noisy)\n",
    "PX_plot(PX)"
   ]
  },
  {
   "cell_type": "code",
   "execution_count": null,
   "metadata": {},
   "outputs": [],
   "source": [
    "PX = PX_array(llh_factorised_noisy)\n",
    "PX_plot(PX)"
   ]
  },
  {
   "cell_type": "code",
   "execution_count": null,
   "metadata": {},
   "outputs": [],
   "source": [
    "PX = PX_array(lambda x: llh_factorised_noisy(x, [0.2, 0.4]))\n",
    "PX_plot(PX)"
   ]
  },
  {
   "cell_type": "code",
   "execution_count": null,
   "metadata": {},
   "outputs": [],
   "source": [
    "PX = PX_array(lambda x: llh_factorised_noisy(x, [0.2, 0.2]))\n",
    "PX_plot(PX)\n",
    "PX_plot(sorted(PX))"
   ]
  },
  {
   "cell_type": "code",
   "execution_count": null,
   "metadata": {},
   "outputs": [],
   "source": [
    "PX = PX_array(llh_2D)\n",
    "PX_plot(PX)"
   ]
  },
  {
   "cell_type": "code",
   "execution_count": null,
   "metadata": {},
   "outputs": [],
   "source": [
    "N = 1000\n",
    "thetasamples = np.random.binomial(1, 0.5, (N,2))\n",
    "#create PX arra np.zeros\n",
    "PX = np.zeros((16,5))\n",
    "for j in range(N):\n",
    "    PX += PX_array(lambda x: llh_2D(x, thetasamples[j]))\n",
    "PX = PX/N\n",
    "PX_plot(PX)\n",
    "PX_1x2D_marginalised = PX"
   ]
  },
  {
   "cell_type": "code",
   "execution_count": null,
   "metadata": {},
   "outputs": [],
   "source": [
    "plt.plot(np.arange(16), PX_array(llh_factorised)[:,4])\n",
    "plt.plot(np.arange(16), PX_array(llh_x)[:,4])\n",
    "plt.plot(np.arange(16), PX_array(llh_x_noisy)[:,4])\n",
    "plt.plot(np.arange(16), PX_array(llh_y)[:,4])\n",
    "plt.plot(np.arange(16), PX_array(llh_factorised_noisy)[:,4])\n",
    "plt.plot(np.arange(16), PX_array(lambda x: llh_factorised_noisy(x, [0.2, 0.4]))[:,4])\n",
    "plt.plot(np.arange(16), PX_1x2D_marginalised[:,4])\n",
    "plt.xticks(np.arange(16), [str(x).replace('.','').replace('[','').replace(']','') for x in PX[:,:4]], rotation='vertical')\n",
    "plt.ylabel('P(x)')\n",
    "plt.legend(['factorised', 'x', 'noisy x', 'y', 'factorised noisy', 'factorised noisy (0.2, 0.4)', '1x2D'], bbox_to_anchor=(1.05, 1), loc=2, borderaxespad=0.)\n",
    "fig = plt.gcf()\n",
    "fig.set_size_inches(10,4)\n",
    "plt.show()"
   ]
  },
  {
   "cell_type": "code",
   "execution_count": null,
   "metadata": {},
   "outputs": [],
   "source": [
    "plt.plot(np.arange(16), sorted(PX_array(llh_factorised))[:,4])\n",
    "plt.plot(np.arange(16), sorted(PX_array(llh_x))[:,4])\n",
    "plt.plot(np.arange(16), sorted(PX_array(llh_x_noisy))[:,4])\n",
    "plt.plot(np.arange(16), sorted(PX_array(llh_y))[:,4])\n",
    "plt.plot(np.arange(16), sorted(PX_array(llh_factorised_noisy))[:,4])\n",
    "plt.plot(np.arange(16), sorted(PX_array(lambda x: llh_factorised_noisy(x, [0.2, 0.4])))[:,4])\n",
    "plt.plot(np.arange(16), sorted(PX_1x2D_marginalised)[:,4])\n",
    "plt.ylabel('P(x)')\n",
    "fig = plt.gcf()\n",
    "fig.set_size_inches(10,4)\n",
    "plt.xticks([])\n",
    "plt.xlabel('x (sorted by P(x), varies between models)')\n",
    "plt.legend(['factorised', 'x', 'noisy x', 'y', 'factorised noisy', 'factorised noisy (0.2, 0.4)', '1x2D'])\n",
    "plt.show()"
   ]
  },
  {
   "cell_type": "code",
   "execution_count": null,
   "metadata": {},
   "outputs": [],
   "source": [
    "plt.plot(np.arange(16), PX_array(llh_factorised)[:,4])\n",
    "plt.plot(np.arange(16), PX_array(llh_x)[:,4])\n",
    "plt.xticks(np.arange(16), [str(x).replace('.','').replace('[','').replace(']','') for x in PX[:,:4]], rotation='vertical')\n",
    "plt.ylabel('P(x)')\n",
    "# legend\n",
    "plt.legend(['factorised', 'x'], bbox_to_anchor=(1.05, 1), loc=2, borderaxespad=0.)\n",
    "fig = plt.gcf()\n",
    "fig.set_size_inches(10,4)\n",
    "plt.show()"
   ]
  },
  {
   "cell_type": "code",
   "execution_count": null,
   "metadata": {},
   "outputs": [],
   "source": [
    "plt.plot(np.arange(16), PX_array(llh_x_noisy)[:,4])\n",
    "plt.plot(np.arange(16), PX_array(llh_factorised_noisy)[:,4])\n",
    "plt.xticks(np.arange(16), [str(x).replace('.','').replace('[','').replace(']','') for x in PX[:,:4]], rotation='vertical')\n",
    "plt.ylabel('P(x)')\n",
    "# legend\n",
    "plt.legend(['noisy x', 'factorised noisy'], bbox_to_anchor=(1.05, 1), loc=2, borderaxespad=0.)\n",
    "fig = plt.gcf()\n",
    "fig.set_size_inches(10,4)\n",
    "plt.show()"
   ]
  },
  {
   "cell_type": "code",
   "execution_count": null,
   "metadata": {},
   "outputs": [],
   "source": [
    "# Generate all possible datasets of size 3\n",
    "# all possible triple combinations of all_X\n",
    "all_X_permut3 = np.array(list(itertools.product(all_X, all_X, all_X)))\n",
    "# concatenate all triple combinations\n",
    "D_of_size3 = np.array([np.concatenate(x) for x in all_X_permut3])\n",
    "# encoded as integers instead of binary\n",
    "D_of_size3_ints = np.array(list(itertools.product(np.arange(16), np.arange(16), np.arange(16))))"
   ]
  },
  {
   "cell_type": "code",
   "execution_count": null,
   "metadata": {},
   "outputs": [],
   "source": [
    "# generate samples from prior\n",
    "thetasamples = np.random.beta(4, 10, 100)\n",
    "\n",
    "# initialise array for mllhs\n",
    "mllhs = np.zeros((D_of_size3_ints.shape[0],len(thetasamples)))\n",
    "\n",
    "# for each dataset (i) and for each sample from the prior (j), compute the likelihoods\n",
    "for i in range(D_of_size3_ints.shape[0]):    \n",
    "    for j in range(len(thetasamples)):\n",
    "        mllhs[i,j] = llh_factorised_noisy(all_X[D_of_size3_ints[i,0]],[thetasamples[j]]) * \\\n",
    "                                llh_factorised_noisy(all_X[D_of_size3_ints[i,1]],[thetasamples[j]]) * \\\n",
    "                                llh_factorised_noisy(all_X[D_of_size3_ints[i,2]],[thetasamples[j]])\n",
    "# average over samples from the prior\n",
    "mllhs = np.mean(mllhs,axis=1)"
   ]
  },
  {
   "cell_type": "code",
   "execution_count": null,
   "metadata": {},
   "outputs": [],
   "source": [
    "mllhs_factorised = np.zeros(D_of_size3_ints.shape[0])\n",
    "for i in range(D_of_size3_ints.shape[0]):\n",
    "    mllhs_factorised[i] = llh_factorised(all_X[D_of_size3_ints[i,0]]) * llh_factorised(all_X[D_of_size3_ints[i,1]]) * llh_factorised(all_X[D_of_size3_ints[i,2]])"
   ]
  },
  {
   "cell_type": "code",
   "execution_count": null,
   "metadata": {},
   "outputs": [],
   "source": [
    "# sorted llhs\n",
    "plt.plot(range(D_of_size3_ints.shape[0]),np.sort(mllhs)[::-1])\n",
    "plt.plot(range(D_of_size3_ints.shape[0]),np.sort(mllhs_factorised)[::-1])\n",
    "fig = plt.gcf()\n",
    "fig.set_size_inches(15,4)\n",
    "# legends\n",
    "plt.legend(['factorised noisy marginalised', 'factorised deterministic'])\n",
    "plt.ylabel('mllh')\n",
    "plt.xlabel('x (sorted by P(x), varies between models)')\n",
    "plt.show()"
   ]
  },
  {
   "cell_type": "code",
   "execution_count": null,
   "metadata": {},
   "outputs": [],
   "source": [
    "# sorted llhs\n",
    "plt.plot(range(300), mllhs[:300])\n",
    "plt.plot(range(300), mllhs_factorised[:300])\n",
    "fig = plt.gcf()\n",
    "fig.set_size_inches(20,4)\n",
    "# legends\n",
    "plt.legend(['factorised noisy marginalised', 'factorised deterministic'])\n",
    "plt.ylabel('mllh')\n",
    "plt.xlabel('x (sorted by P(x), varies between models)')\n",
    "plt.show()"
   ]
  },
  {
   "cell_type": "code",
   "execution_count": null,
   "metadata": {},
   "outputs": [],
   "source": [
    "# Generate all possible datasets of size 2\n",
    "# all possible pair combinations of all_X\n",
    "all_X_permut = np.array(list(itertools.product(all_X, all_X)))\n",
    "# concatenate all pairs\n",
    "D_of_size2 = np.array([np.concatenate(x) for x in all_X_permut])\n",
    "# encoded as integers instead of binary, i.e. want to index by n-th possible dataset etc.\n",
    "D_of_size2_ints = np.array(list(itertools.product(np.arange(16), np.arange(16))))\n",
    "\n",
    "plt.imshow(D_of_size2.T,cmap='gray')\n",
    "# set figsize\n",
    "fig = plt.gcf()\n",
    "fig.set_size_inches(20,4)\n",
    "# hide ticks\n",
    "plt.xticks([])\n",
    "plt.yticks([]);"
   ]
  },
  {
   "cell_type": "code",
   "execution_count": null,
   "metadata": {},
   "outputs": [],
   "source": [
    "def llh_factorised_noisy(x,parameter_list = [0.2]):\n",
    "    c = x[0]\n",
    "    z1 = x[1]\n",
    "    z2 = x[2]\n",
    "    r = x[3]\n",
    "    noise = parameter_list[0]\n",
    "    if c == 0:\n",
    "        if z1 == r:\n",
    "            return 1 - noise\n",
    "        else:\n",
    "            return noise\n",
    "    elif c == 1:\n",
    "        if z2 == r:\n",
    "            return 1 - noise\n",
    "        else:\n",
    "            return noise\n",
    "    else:\n",
    "        print('error')\n",
    "        return None"
   ]
  },
  {
   "cell_type": "code",
   "execution_count": null,
   "metadata": {},
   "outputs": [],
   "source": [
    "llhs = np.zeros(256)\n",
    "for i in range(256):\n",
    "    llhs[i] = llh_factorised(all_X[D_of_size2_ints[i,0]]) * llh_factorised(all_X[D_of_size2_ints[i,1]])"
   ]
  },
  {
   "cell_type": "code",
   "execution_count": null,
   "metadata": {},
   "outputs": [],
   "source": [
    "# generate samples from prior\n",
    "thetasamples = np.random.beta(4, 10, 100)\n",
    "\n",
    "# initialise array for mllhs\n",
    "mllhs = np.zeros((D_of_size2_ints.shape[0],len(thetasamples)))\n",
    "\n",
    "# for each dataset (i) and for each sample from the prior (j), compute the likelihoods\n",
    "for i in range(D_of_size2_ints.shape[0]):    \n",
    "    for j in range(len(thetasamples)):\n",
    "        mllhs[i,j] = llh_factorised_noisy(all_X[D_of_size2_ints[i,0]],[thetasamples[j]]) * \\\n",
    "                                llh_factorised_noisy(all_X[D_of_size2_ints[i,1]],[thetasamples[j]])\n",
    "# average over samples from the prior\n",
    "mllhs = np.mean(mllhs,axis=1)"
   ]
  },
  {
   "cell_type": "code",
   "execution_count": null,
   "metadata": {},
   "outputs": [],
   "source": [
    "# generate samples from prior\n",
    "#random binary vector of length 2\n",
    "thetasamples = np.random.binomial(1, 0.5, (100,2))\n",
    "\n",
    "# initialise array for mllhs\n",
    "mllhs_1x2D = np.zeros((D_of_size2_ints.shape[0],len(thetasamples)))\n",
    "\n",
    "# for each dataset (i) and for each sample from the prior (j), compute the likelihoods\n",
    "for i in range(D_of_size2_ints.shape[0]):    \n",
    "    for j in range(len(thetasamples)):\n",
    "        mllhs_1x2D[i,j] = llh_2D(all_X[D_of_size2_ints[i,0]],thetasamples[j]) * \\\n",
    "                                llh_2D(all_X[D_of_size2_ints[i,1]],thetasamples[j])\n",
    "# average over samples from the prior\n",
    "mllhs_1x2D = np.mean(mllhs_1x2D,axis=1)"
   ]
  },
  {
   "cell_type": "code",
   "execution_count": null,
   "metadata": {},
   "outputs": [],
   "source": [
    "D_of_size2_ints[i,1]"
   ]
  },
  {
   "cell_type": "code",
   "execution_count": null,
   "metadata": {},
   "outputs": [],
   "source": [
    "# visualise theta prior\n",
    "plt.hist(thetasamples)"
   ]
  },
  {
   "cell_type": "code",
   "execution_count": null,
   "metadata": {},
   "outputs": [],
   "source": [
    "mllhs_noisy = np.zeros(256)\n",
    "for i in range(256):\n",
    "    mllhs_noisy[i] = llh_factorised_noisy(all_X[D_of_size2_ints[i,0]],[0.2]) * llh_factorised_noisy(all_X[D_of_size2_ints[i,1]],[0.2])"
   ]
  },
  {
   "cell_type": "code",
   "execution_count": null,
   "metadata": {},
   "outputs": [],
   "source": [
    "mllhs_factorised = np.zeros(256)\n",
    "for i in range(256):\n",
    "    mllhs_factorised[i] = llh_factorised(all_X[D_of_size2_ints[i,0]]) * llh_factorised(all_X[D_of_size2_ints[i,1]])"
   ]
  },
  {
   "cell_type": "code",
   "execution_count": null,
   "metadata": {},
   "outputs": [],
   "source": [
    "# sorted llhs\n",
    "plt.plot(range(D_of_size2_ints.shape[0]),np.sort(mllhs)[::-1])\n",
    "plt.plot(range(D_of_size2_ints.shape[0]),np.sort(mllhs_noisy)[::-1])\n",
    "plt.plot(range(D_of_size2_ints.shape[0]),np.sort(mllhs_factorised)[::-1])\n",
    "plt.plot(range(D_of_size2_ints.shape[0]),np.sort(mllhs_1x2D)[::-1])\n",
    "fig = plt.gcf()\n",
    "fig.set_size_inches(10,3)\n",
    "# legends\n",
    "plt.legend(['factorised noisy marginalised', 'factorised fix noise', 'factorised deterministic','1x2D'])\n",
    "plt.ylabel('mllh')\n",
    "plt.xlabel('x (sorted by P(x), varies between models)')\n",
    "plt.title('mllhs for D of size 2')\n",
    "plt.show()"
   ]
  },
  {
   "cell_type": "code",
   "execution_count": null,
   "metadata": {},
   "outputs": [],
   "source": [
    "randvec = np.random.rand(256)\n",
    "#randvec = randvec[randvec.argsort()[::-1]]\n",
    "\n",
    "plt.bar(np.arange(256)[:40], mllhs[:40])\n",
    "plt.xticks(np.arange(256)[:40], [str(x).replace('.','').replace('[','').replace(']','') for x in all_X_permut[:40]], rotation='vertical')\n",
    "plt.ylabel('P(x)')\n",
    "plt.ylim(0,1)\n",
    "fig = plt.gcf()\n",
    "fig.set_size_inches(20,4)\n",
    "plt.show()"
   ]
  },
  {
   "cell_type": "code",
   "execution_count": null,
   "metadata": {},
   "outputs": [],
   "source": [
    "D_of_size2_ints[3,0]"
   ]
  },
  {
   "cell_type": "code",
   "execution_count": null,
   "metadata": {},
   "outputs": [],
   "source": [
    "all_X"
   ]
  },
  {
   "cell_type": "code",
   "execution_count": null,
   "metadata": {},
   "outputs": [],
   "source": []
  }
 ],
 "metadata": {
  "kernelspec": {
   "display_name": "tf-gpu",
   "language": "python",
   "name": "python3"
  },
  "language_info": {
   "codemirror_mode": {
    "name": "ipython",
    "version": 3
   },
   "file_extension": ".py",
   "mimetype": "text/x-python",
   "name": "python",
   "nbconvert_exporter": "python",
   "pygments_lexer": "ipython3",
   "version": "3.9.15 (main, Nov 24 2022, 14:39:17) [MSC v.1916 64 bit (AMD64)]"
  },
  "vscode": {
   "interpreter": {
    "hash": "07ac295531cc03cbdc8dd0ce1722cead87da8022868b737c96b05270aefa1fb3"
   }
  }
 },
 "nbformat": 4,
 "nbformat_minor": 2
}
