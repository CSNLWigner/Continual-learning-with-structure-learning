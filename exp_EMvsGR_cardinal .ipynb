{
 "cells": [
  {
   "cell_type": "code",
   "execution_count": null,
   "metadata": {},
   "outputs": [],
   "source": [
    "import numpy as np\n",
    "import tensorflow as tf\n",
    "import matplotlib.pyplot as plt\n",
    "\n",
    "import helper_mate as h\n",
    "import helper as hd\n",
    "from colorscheme import *\n",
    "\n",
    "from gt_learner import GT_learner\n",
    "import gr_em_learner as gr_em"
   ]
  },
  {
   "cell_type": "code",
   "execution_count": null,
   "metadata": {},
   "outputs": [],
   "source": [
    "# Data parameters\n",
    "BLOCK_SIZE = 4\n",
    "N_BATCHES = 1\n",
    "ALPHA_LIST = [0,90]\n",
    "N_RUNS = 20\n",
    "\n",
    "# Agent parameters\n",
    "SIGMA_R = 3.0\n",
    "PP_THRESHOLD = 1.0\n",
    "D = 5\n",
    "EM_SIZE = 8\n",
    "#N_PARTICLES = 256"
   ]
  },
  {
   "cell_type": "code",
   "execution_count": null,
   "metadata": {},
   "outputs": [],
   "source": [
    "# Generate N_RUNS datasets\n",
    "datasets = [h.generate_batch_data(ALPHA_LIST, BLOCK_SIZE, N_BATCHES) for i in range(N_RUNS)]\n",
    "\n",
    "# Define models to be tested\n",
    "model_set = ['x', 'y', '1x2D', '2x1D_bg']\n",
    "\n",
    "# Compute mllhs\n",
    "results = {'gt': [], 'gr': [], 'em': []}\n",
    "pbar = tf.keras.utils.Progbar(N_RUNS)\n",
    "for data in datasets:\n",
    "    result = {}\n",
    "    # Ground truth learner\n",
    "    result['gt'] = GT_learner(data, SIGMA_R, model_set)\n",
    "    results['gt'].append(result['gt'])\n",
    "\n",
    "    # Generative replay learner\n",
    "    result['gr'] = gr_em.GR_EM_learner(data, SIGMA_R, model_set, verbose = False,\n",
    "                        EM_size_limit = 0, pp_thr = PP_THRESHOLD*100, D = D, task_angles_in_data = ALPHA_LIST)\n",
    "    results['gr'].append(result['gr'])\n",
    "\n",
    "    # Episodic learner\n",
    "    result['em'] = gr_em.GR_EM_learner(data, SIGMA_R, model_set, verbose = False,\n",
    "                    EM_size_limit = EM_SIZE, pp_thr = PP_THRESHOLD, D = D, task_angles_in_data = ALPHA_LIST)\n",
    "    results['em'].append(result['em'])\n",
    "\n",
    "    pbar.add(1)"
   ]
  },
  {
   "cell_type": "code",
   "execution_count": null,
   "metadata": {},
   "outputs": [],
   "source": [
    "# Compute switching times\n",
    "switch_times_wnan = {}\n",
    "switch_times = {}\n",
    "for agent in ['gt', 'gr', 'em']:\n",
    "    switch_times_wnan[agent] = [hd.model_change_time(results[agent][i], model_set[-1])\n",
    "                                 for i in range(N_RUNS)]\n",
    "for agent in ['gt', 'gr', 'em']:\n",
    "    switch_times[agent] = [x if not np.isnan(x) else N_BATCHES*BLOCK_SIZE*2 for x in switch_times_wnan[agent]]"
   ]
  },
  {
   "cell_type": "code",
   "execution_count": null,
   "metadata": {},
   "outputs": [],
   "source": [
    "#count np.nan-s in switch_times\n",
    "for agent in ['gt', 'gr', 'em']:\n",
    "    print(agent, np.sum(np.isnan(switch_times_wnan[agent])))\n",
    "\n"
   ]
  },
  {
   "cell_type": "code",
   "execution_count": null,
   "metadata": {},
   "outputs": [],
   "source": [
    "fig, axs = plt.subplots(1, 3, sharey=True, tight_layout=True)\n",
    "fig.set_size_inches(12, 4)\n",
    "for i, agent in enumerate(['gt', 'gr', 'em']):    \n",
    "    axs[i].hist(switch_times[agent], label = agent)\n",
    "    axs[i].set_title(agent)\n",
    "    axs[i].set_xlabel('Switching time')\n",
    "    axs[i].set_ylabel('Frequency')\n",
    "    axs[i].set_xlim(0, N_BATCHES*BLOCK_SIZE*2)\n",
    "    axs[i].set_ylim(0, 20)\n",
    "    axs[i].legend()\n",
    "# add SIGMA_R, EM_SIZE, PP_THRESHOLD in plot title\n",
    "fig.suptitle('Switching times for different agents, $\\\\sigma_r$ = {}, EM size = {}, PP threshold = {}'.format(SIGMA_R, EM_SIZE, PP_THRESHOLD))\n",
    "plt.show()\n"
   ]
  },
  {
   "cell_type": "code",
   "execution_count": null,
   "metadata": {},
   "outputs": [],
   "source": [
    "# Scatter plot of switching times with some noise added to points to avoid overlapping\n",
    "T = BLOCK_SIZE * N_BATCHES * 2\n",
    "epsilon = 0.3\n",
    "plt.figure(figsize=(6,6))\n",
    "plt.scatter(switch_times['gt'] + epsilon*np.random.randn(N_RUNS), switch_times['gr'] + epsilon*np.random.randn(N_RUNS))\n",
    "plt.scatter(switch_times['gt'] + epsilon*np.random.randn(N_RUNS), switch_times['em'] + epsilon*np.random.randn(N_RUNS), color = 'r')\n",
    "plt.xlabel('GT switching time')\n",
    "plt.ylabel('GR/EM switching time')\n",
    "plt.xlim([0, T])\n",
    "plt.ylim([0, T])\n",
    "#add legend outside of plot\n",
    "plt.legend(['GR vs GT', 'EM vs GT'], loc='upper left', bbox_to_anchor=(1, 1))\n",
    "\n",
    "plt.plot([0, T], [0, T], '--')\n",
    "# add SIGMA_R, EM_SIZE, PP_THRESHOLD outside the plot\n",
    "plt.text(T*1.05, T*0.1, 'SIGMA_R = ' + str(SIGMA_R))\n",
    "plt.text(T*1.05, T*0.2, 'EM_SIZE = ' + str(EM_SIZE))\n",
    "plt.text(T*1.05, T*0.3, 'PP_THRESHOLD = ' + str(PP_THRESHOLD))\n",
    "\n",
    "plt.show()"
   ]
  },
  {
   "cell_type": "code",
   "execution_count": null,
   "metadata": {},
   "outputs": [],
   "source": [
    "# Scatter plot of switching times\n",
    "T = BLOCK_SIZE * (N_BATCHES + 1)\n",
    "plt.figure(figsize=(6,6))\n",
    "plt.scatter(switch_times['gt'], switch_times['gr'])\n",
    "plt.scatter(switch_times['gt'], switch_times['em'], color = 'r')\n",
    "plt.plot([0, T], [0, T], '--')\n",
    "plt.xlabel('GT switching time')\n",
    "plt.ylabel('GR/EM switching time')\n",
    "plt.xlim([0, T])\n",
    "plt.ylim([0, T])\n",
    "# Join corresponding points wit lines\n",
    "for i in range(N_RUNS):\n",
    "    plt.plot([switch_times['gt'][i], switch_times['gt'][i]],\n",
    "             [switch_times['gr'][i], switch_times['em'][i]], color = 'gray', linewidth = 0.5)\n",
    "             \n",
    "plt.show()"
   ]
  },
  {
   "cell_type": "code",
   "execution_count": null,
   "metadata": {},
   "outputs": [],
   "source": [
    "# GR vs EM switching time\n",
    "T = BLOCK_SIZE * (N_BATCHES + 1)\n",
    "plt.figure(figsize=(6,6))\n",
    "plt.scatter(switch_times['gr'] + epsilon*np.random.randn(N_RUNS), switch_times['em'] + epsilon*np.random.randn(N_RUNS))\n",
    "plt.plot([0, T], [0, T], '--')\n",
    "plt.xlabel('GR switching time')\n",
    "plt.ylabel('EM switching time')\n",
    "plt.xlim([0, T])\n",
    "plt.ylim([0, T])\n",
    "plt.show()"
   ]
  },
  {
   "cell_type": "code",
   "execution_count": null,
   "metadata": {},
   "outputs": [],
   "source": [
    "i = 5\n",
    "learning_dicts = [results['gt'][i], results['gr'][i], results['em'][i]]\n",
    "hd.plot_mllh_curves_subpanels(learning_dicts, model_set, T=len(data['c']), color_dict=model_colors_gergo, figsize=(15,4), data=datasets[0], markersize=5)"
   ]
  },
  {
   "cell_type": "code",
   "execution_count": null,
   "metadata": {},
   "outputs": [],
   "source": [
    "# Plot mllhs\n",
    "hd.plot_mmllh_curves(results['gt'][i], model_set, T=len(data['c']), color_dict=model_colors_gergo, figsize=(15,4), data=datasets[0])\n",
    "hd.plot_mmllh_curves(results['gr'][i], model_set, T=len(data['c']), color_dict=model_colors_gergo, figsize=(15,4), data=datasets[0])\n",
    "hd.plot_mmllh_curves(results['em'][i], model_set, T=len(data['c']), color_dict=model_colors_gergo, figsize=(15,4), data=datasets[0])"
   ]
  }
 ],
 "metadata": {
  "kernelspec": {
   "display_name": "tf-gpu",
   "language": "python",
   "name": "python3"
  },
  "language_info": {
   "codemirror_mode": {
    "name": "ipython",
    "version": 3
   },
   "file_extension": ".py",
   "mimetype": "text/x-python",
   "name": "python",
   "nbconvert_exporter": "python",
   "pygments_lexer": "ipython3",
   "version": "3.9.15"
  },
  "vscode": {
   "interpreter": {
    "hash": "07ac295531cc03cbdc8dd0ce1722cead87da8022868b737c96b05270aefa1fb3"
   }
  }
 },
 "nbformat": 4,
 "nbformat_minor": 2
}
