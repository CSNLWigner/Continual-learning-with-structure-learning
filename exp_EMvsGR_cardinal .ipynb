{
  "cells": [
    {
      "cell_type": "code",
      "execution_count": 1,
      "metadata": {
        "id": "vdhOh2LMsPde"
      },
      "outputs": [],
      "source": [
        "import numpy as np\n",
        "import tensorflow as tf\n",
        "import matplotlib.pyplot as plt\n",
        "\n",
        "import helper_mate as h\n",
        "import helper as hd\n",
        "from colorscheme import *\n",
        "\n",
        "from gt_learner import GT_learner\n",
        "import gr_em_learner as gr_em"
      ]
    },
    {
      "cell_type": "code",
      "execution_count": 2,
      "metadata": {
        "id": "ylyflJi8sPdg"
      },
      "outputs": [],
      "source": [
        "# Data parameters\n",
        "SCHEDULE = 'BLOCKED' # 'BLOCKED' or 'INTERLEAVED' or 'CUSTOM'\n",
        "T = 8 # only applies if SCHEDULE is 'BLOCKED' or 'INTERLEAVED\n",
        "\n",
        "BLOCK_SIZE = 4 # only applies if SCHEDULE is 'CUSTOM'\n",
        "N_BATCHES = 1 # only applies if SCHEDULE is 'CUSTOM'\n",
        "T = N_BATCHES * 2 * BLOCK_SIZE\n",
        "ALPHA_LIST = [45,-45]\n",
        "N_RUNS = 50\n",
        "EM_size_limit_for_eval_EM = 4\n",
        "EM_size_limit_for_eval_GR = 1\n",
        "# Agent parameters\n",
        "SIGMA_R = .3\n",
        "PP_THRESHOLD = 1000.0\n",
        "D = 5\n",
        "EM_SIZE_EM = 4\n",
        "EM_SIZE_GR = 1"
      ]
    },
    {
      "cell_type": "code",
      "execution_count": 3,
      "metadata": {
        "id": "qPowfIS1sPdj",
        "colab": {
          "base_uri": "https://localhost:8080/"
        },
        "outputId": "d2c65c8e-0008-46fa-cdba-473f0f64dc11"
      },
      "outputs": [
        {
          "output_type": "stream",
          "name": "stderr",
          "text": [
            "/content/gr_em_learner.py:236: RuntimeWarning: divide by zero encountered in log\n",
            "  mean_of_log_mmllh = np.mean(np.log(model_props['mmllh']), axis = 0)\n",
            "WARNING:tensorflow:From /usr/local/lib/python3.8/dist-packages/tensorflow_probability/python/distributions/distribution.py:342: MultivariateNormalFullCovariance.__init__ (from tensorflow_probability.python.distributions.mvn_full_covariance) is deprecated and will be removed after 2019-12-01.\n",
            "Instructions for updating:\n",
            "`MultivariateNormalFullCovariance` is deprecated, use `MultivariateNormalTriL(loc=loc, scale_tril=tf.linalg.cholesky(covariance_matrix))` instead.\n"
          ]
        },
        {
          "output_type": "stream",
          "name": "stdout",
          "text": [
            "50/50 [==============================] - 44s 889ms/step\n"
          ]
        }
      ],
      "source": [
        "# Generate N_RUNS datasets\n",
        "datasets = [h.generate_batch_data(ALPHA_LIST, BLOCK_SIZE, N_BATCHES) for i in range(N_RUNS)]\n",
        "\n",
        "# Define models to be tested\n",
        "model_set = ['x', 'y', '1x2D', '2x2D_bg']\n",
        "\n",
        "# Compute mllhs\n",
        "results = {'gt': [], 'gr': [], 'em': []}\n",
        "pbar = tf.keras.utils.Progbar(N_RUNS)\n",
        "for data in datasets:\n",
        "    result = {}\n",
        "    # Ground truth learner\n",
        "    result['gt'] = GT_learner(data, SIGMA_R, model_set)\n",
        "    results['gt'].append(result['gt'])\n",
        "\n",
        "    # Generative replay learner\n",
        "    result['gr'] = gr_em.GR_EM_learner(data, SIGMA_R, model_set, EM_size_limit_for_eval_GR, verbose=False,\n",
        "                               EM_size_limit=EM_SIZE_GR, pp_thr=PP_THRESHOLD*100, D=D)\n",
        "    results['gr'].append(result['gr'])\n",
        "\n",
        "    # Episodic learner\n",
        "    result['em'] = gr_em.GR_EM_learner(data, SIGMA_R, model_set, EM_size_limit_for_eval_EM, verbose=False,\n",
        "                               EM_size_limit=EM_SIZE_EM, pp_thr=PP_THRESHOLD*100, D=D)\n",
        "    results['em'].append(result['em'])\n",
        "\n",
        "    pbar.add(1)"
      ]
    },
    {
      "cell_type": "markdown",
      "metadata": {
        "id": "qcvZaFGHsPdk"
      },
      "source": [
        "## Analysis"
      ]
    },
    {
      "cell_type": "markdown",
      "metadata": {
        "id": "x4hy5l9asPdl"
      },
      "source": [
        "### Switching times"
      ]
    },
    {
      "cell_type": "code",
      "execution_count": 4,
      "metadata": {
        "id": "GYiMReeMsPdm"
      },
      "outputs": [],
      "source": [
        "# Compute switching times\n",
        "switch_times_wnan = {}\n",
        "switch_times = {}\n",
        "l = ['gt', 'gr', 'em']\n",
        "#l = ['gt', 'em']\n",
        "for agent in l:\n",
        "    #switch_times_wnan[agent] = [hd.model_change_time(results[agent][i], model_set[-1])\n",
        "                                # for i in range(N_RUNS)]\n",
        "    switch_times_wnan[agent] = [T if results[agent][i]['prominent_models'][-1] == '2x2D_bg' else np.nan for i in range(N_RUNS) ]\n",
        "# replace nans with T + 1\n",
        "for agent in l:\n",
        "    switch_times[agent] = [x if not np.isnan(x) else T+1 for x in switch_times_wnan[agent]]"
      ]
    },
    {
      "cell_type": "code",
      "execution_count": 10,
      "metadata": {
        "id": "zVWQNwIzsPdn",
        "colab": {
          "base_uri": "https://localhost:8080/",
          "height": 658
        },
        "outputId": "457b44f1-fb81-4083-e2aa-4b07ee369579"
      },
      "outputs": [
        {
          "output_type": "display_data",
          "data": {
            "text/plain": [
              "<Figure size 432x720 with 1 Axes>"
            ],
            "image/png": "[encoded data removed]"
          },
          "metadata": {
            "needs_background": "light"
          }
        }
      ],
      "source": [
        "# Count succesful find ground truth models within T trials\n",
        "color_dict = {'gt': 'gray', 'gr': 'C0', 'em': 'red'}\n",
        "fig, ax = plt.subplots(1,1, figsize = (6,10))\n",
        "for agent in l:\n",
        "    ax.bar(agent, (N_RUNS - np.sum(np.isnan(switch_times_wnan[agent])))/N_RUNS, color = color_dict[agent])\n",
        "ax.set_ylabel('P correct structure found', fontsize=12)\n",
        "ax.set_ylim([0, 1])\n",
        "plt.title(f'DIAGONAL DATA\\nn_runs = {N_RUNS}, sigma = {SIGMA_R}, T = {T}\\nEM size limit = {EM_SIZE_EM}, pp thr = {PP_THRESHOLD}')\n",
        "plt.savefig('p_correct_structure.pdf')\n",
        "# plt.gcf().set_size_inches((2,3))\n",
        "\n",
        "plt.show()"
      ]
    },
    {
      "cell_type": "code",
      "execution_count": null,
      "metadata": {
        "id": "PF5F-j2qsPdo"
      },
      "outputs": [],
      "source": [
        "fig, axs = plt.subplots(1, 3, sharey=True, tight_layout=True)\n",
        "fig.set_size_inches(12, 4)\n",
        "for i, agent in enumerate(['gt', 'gr', 'em']):    \n",
        "    axs[i].hist(switch_times[agent], label = agent, color = color_dict[agent])\n",
        "    axs[i].set_title(agent)\n",
        "    axs[i].set_xlabel('Switching time')\n",
        "    axs[i].set_ylabel('Count')\n",
        "    axs[i].set_xlim(0, T)\n",
        "    axs[i].set_ylim(0, N_RUNS)\n",
        "fig.suptitle('Switching time distributions for different agents, $\\\\sigma_r$ = {}, EM size = {}, PP threshold = {}'.format(SIGMA_R, EM_SIZE, PP_THRESHOLD),fontsize=14)\n",
        "plt.gcf().set_size_inches((10,3))\n",
        "plt.show()\n"
      ]
    },
    {
      "cell_type": "code",
      "execution_count": null,
      "metadata": {
        "id": "Qj_9h1LcsPdo"
      },
      "outputs": [],
      "source": [
        "# Scatter plot of switching times with some noise added to points to avoid overlapping\n",
        "T = BLOCK_SIZE * N_BATCHES * 2\n",
        "epsilon = 0.3\n",
        "plt.figure(figsize=(6,6))\n",
        "plt.scatter(switch_times['gt'] + epsilon*np.random.randn(N_RUNS), switch_times['gr'] + epsilon*np.random.randn(N_RUNS))\n",
        "plt.scatter(switch_times['gt'] + epsilon*np.random.randn(N_RUNS), switch_times['em'] + epsilon*np.random.randn(N_RUNS), color = 'r')\n",
        "plt.xlabel('GT switching time')\n",
        "plt.ylabel('GR/EM switching time')\n",
        "plt.xlim([0, T+1.7])\n",
        "plt.ylim([0, T+1.7])\n",
        "\n",
        "#add legend outside of plot\n",
        "plt.legend(['GR vs GT', 'EM vs GT'], loc='upper left', bbox_to_anchor=(1, 1))\n",
        "\n",
        "#add dashed diagonal line\n",
        "plt.plot([0, T+1.7], [0, T+1.7], '--')\n",
        "\n",
        "plt.plot([0, T+1.7], [T+0.5, T+0.5], '--', color = 'lightgray')\n",
        "plt.plot([T+0.5, T+0.5], [0, T+1.7], '--', color = 'lightgray')\n",
        "\n",
        "plt.text((T+1.7)*1.05, T*0.1, 'SIGMA_R = ' + str(SIGMA_R))\n",
        "plt.text((T+1.7)*1.05, T*0.2, 'EM_SIZE = ' + str(EM_SIZE))\n",
        "plt.text((T+1.7)*1.05, T*0.3, 'PP_THRESHOLD = ' + str(PP_THRESHOLD))\n",
        "\n",
        "plt.title('schedule = {}'.format(SCHEDULE))\n",
        "\n",
        "plt.gcf().set_size_inches((4,4))\n",
        "\n",
        "plt.show()"
      ]
    },
    {
      "cell_type": "code",
      "execution_count": null,
      "metadata": {
        "id": "4mn_DU-LsPdq"
      },
      "outputs": [],
      "source": [
        "# GR vs EM switching time\n",
        "T = BLOCK_SIZE * (N_BATCHES + 1)\n",
        "plt.figure(figsize=(6,6))\n",
        "plt.scatter(switch_times['gr'] + epsilon*np.random.randn(N_RUNS), switch_times['em'] + epsilon*np.random.randn(N_RUNS),c='k')\n",
        "plt.plot([0, T], [0, T], '--')\n",
        "plt.xlabel('GR switching time')\n",
        "plt.ylabel('EM switching time')\n",
        "plt.xlim([0, T])\n",
        "plt.ylim([0, T])\n",
        "plt.gcf().set_size_inches((4,4))\n",
        "plt.show()"
      ]
    },
    {
      "cell_type": "markdown",
      "metadata": {
        "id": "WoopfAlDsPdr"
      },
      "source": [
        "### Evolution of mllhs"
      ]
    },
    {
      "cell_type": "code",
      "execution_count": null,
      "metadata": {
        "id": "tqM9e0TcsPdr"
      },
      "outputs": [],
      "source": [
        "i = 8\n",
        "learning_dicts = [results['gt'][i], results['gr'][i], results['em'][i]]\n",
        "hd.plot_mllh_curves_subpanels(learning_dicts, model_set, T=len(data['c']), color_dict=model_colors_gergo, figsize=(15,4), data=datasets[0], markersize=5)"
      ]
    },
    {
      "cell_type": "code",
      "execution_count": null,
      "metadata": {
        "id": "bQZmLMr7sPdr"
      },
      "outputs": [],
      "source": [
        "# Plot mllhs\n",
        "hd.plot_mmllh_curves(results['gt'][i], model_set, T=len(data['c']), color_dict=model_colors_gergo, figsize=(15,4), data=datasets[0])\n",
        "hd.plot_mmllh_curves(results['gr'][i], model_set, T=len(data['c']), color_dict=model_colors_gergo, figsize=(15,4), data=datasets[0])\n",
        "hd.plot_mmllh_curves(results['em'][i], model_set, T=len(data['c']), color_dict=model_colors_gergo, figsize=(15,4), data=datasets[0])"
      ]
    }
  ],
  "metadata": {
    "kernelspec": {
      "display_name": "tf-gpu",
      "language": "python",
      "name": "python3"
    },
    "language_info": {
      "codemirror_mode": {
        "name": "ipython",
        "version": 3
      },
      "file_extension": ".py",
      "mimetype": "text/x-python",
      "name": "python",
      "nbconvert_exporter": "python",
      "pygments_lexer": "ipython3",
      "version": "3.9.15"
    },
    "vscode": {
      "interpreter": {
        "hash": "07ac295531cc03cbdc8dd0ce1722cead87da8022868b737c96b05270aefa1fb3"
      }
    },
    "colab": {
      "provenance": []
    }
  },
  "nbformat": 4,
  "nbformat_minor": 0
}