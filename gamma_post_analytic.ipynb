{
 "cells": [
  {
   "cell_type": "code",
   "execution_count": null,
   "metadata": {},
   "outputs": [],
   "source": [
    "import tensorflow as tf\n",
    "from tensorflow_probability import distributions as tfd\n",
    "import tensorflow_probability as tfp\n",
    "import numpy as np\n",
    "import matplotlib.pyplot as plt\n",
    "\n",
    "import helper\n",
    "import matplotlib.gridspec as gridspec\n",
    "from scipy.stats import multivariate_normal"
   ]
  },
  {
   "cell_type": "code",
   "execution_count": null,
   "metadata": {},
   "outputs": [],
   "source": [
    "alpha_gt = 45\n",
    "sigma_reward_gt = 0.01\n",
    "T = 50\n",
    "\n",
    "data = helper.generate_data(T, alpha=alpha_gt, sigma_reward=sigma_reward_gt)\n",
    "helper.plot_data(data)"
   ]
  },
  {
   "cell_type": "code",
   "execution_count": null,
   "metadata": {},
   "outputs": [],
   "source": [
    "sigma_reward_model = .4\n",
    "t = 2\n",
    "\n",
    "\n",
    "x = np.linspace(-.25, 1.25, 40)\n",
    "y = np.linspace(-.25, 1.25, 40)\n",
    "X, Y = np.meshgrid(x, y)\n",
    "pos = np.empty(X.shape + (2,))\n",
    "pos[:, :, 0] = X; pos[:, :, 1] = Y\n",
    "\n",
    "mu, sigma = helper.gamma_posterior_analytic(zs=data['z'][:t], rs=data['r'][:t], sigma_r=sigma_reward_model, Sigma_0=100*np.eye(2))\n",
    "Z = multivariate_normal.pdf(pos, mean = mu, cov = sigma)\n",
    "plt.contourf(X, Y, Z, 20)\n",
    "plt.colorbar();"
   ]
  },
  {
   "cell_type": "code",
   "execution_count": null,
   "metadata": {},
   "outputs": [],
   "source": [
    "t_step = 4\n",
    "sigma_reward_model = .2\n",
    "subplots = [plt.subplot(grid_loc) for grid_loc in gridspec.GridSpec(1, 8)]\n",
    "for j,sp in enumerate(subplots):\n",
    "    x = np.linspace(-.25, 1.25, 40)\n",
    "    y = np.linspace(-.25, 1.25, 40)\n",
    "    X, Y = np.meshgrid(x, y)\n",
    "    pos = np.empty(X.shape + (2,))\n",
    "    pos[:, :, 0] = X; pos[:, :, 1] = Y\n",
    "    t = t_step*j+1\n",
    "    mu, sigma = helper.gamma_posterior_analytic(zs=data['z'][:t], rs=data['r'][:t], sigma_r=sigma_reward_model, Sigma_0=100*np.eye(2))\n",
    "    Z = multivariate_normal.pdf(pos, mean = mu, cov = sigma)\n",
    "    sp.contourf(X, Y, Z, 20)\n",
    "    sp.set_aspect('equal')\n",
    "    sp.set_title('t = '+str(t_step*j+1))\n",
    "plt.gcf().set_figheight(20)\n",
    "plt.gcf().set_figwidth(20)\n",
    "plt.tight_layout()"
   ]
  },
  {
   "cell_type": "code",
   "execution_count": null,
   "metadata": {},
   "outputs": [],
   "source": []
  }
 ],
 "metadata": {
  "kernelspec": {
   "display_name": "Python 3",
   "language": "python",
   "name": "python3"
  },
  "language_info": {
   "codemirror_mode": {
    "name": "ipython",
    "version": 3
   },
   "file_extension": ".py",
   "mimetype": "text/x-python",
   "name": "python",
   "nbconvert_exporter": "python",
   "pygments_lexer": "ipython3",
   "version": "3.6.9"
  }
 },
 "nbformat": 4,
 "nbformat_minor": 4
}
