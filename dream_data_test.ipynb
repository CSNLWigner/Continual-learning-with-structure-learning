{
 "cells": [
  {
   "cell_type": "code",
   "execution_count": null,
   "metadata": {
    "nteract": {
     "transient": {
      "deleting": false
     }
    }
   },
   "outputs": [],
   "source": [
    "import tensorflow as tf\n",
    "from tensorflow_probability import distributions as tfd\n",
    "import tensorflow_probability as tfp\n",
    "import numpy as np\n",
    "import matplotlib.pyplot as plt\n",
    "import helper\n",
    "\n",
    "import matplotlib as mpl\n",
    "import pickle\n",
    "from copy import deepcopy\n",
    "import time\n",
    "#from graphviz import Digraph\n",
    "import itertools\n",
    "from mpl_toolkits.mplot3d import Axes3D\n",
    "from matplotlib import cm\n",
    "import pandas as pd\n",
    "import seaborn as sns\n",
    "from scipy.stats import multivariate_normal"
   ]
  },
  {
   "cell_type": "code",
   "execution_count": null,
   "metadata": {},
   "outputs": [],
   "source": [
    "SIGMA_R = .001\n",
    "SIGMA_R_MODEL = .3\n",
    "SIGMA_R_DREAM = SIGMA_R_MODEL #this can be changed separately from sigma model to decrease variance in dreams\n",
    "\n",
    "EM_SIZE = 2\n",
    "Tx = 5\n",
    "Ty = EM_SIZE\n",
    "\n",
    "Z_PRIOR = \"uniform\" #\"uniform\" / \"informative\"\n",
    "DREAM_DATA_Z_PRIOR = Z_PRIOR\n",
    "sigma_z_prior = 1\n",
    "\n",
    "USE_SAVED_DATA = False\n",
    "DATA_FILENAME = \"demo_data_sigr_07.npy\" #\"demo_data.npy\""
   ]
  },
  {
   "cell_type": "code",
   "execution_count": null,
   "metadata": {},
   "outputs": [],
   "source": [
    "sigma_r = SIGMA_R_MODEL #these are not implemented correctly\n",
    "sig_r_model = SIGMA_R_MODEL"
   ]
  },
  {
   "cell_type": "code",
   "execution_count": null,
   "metadata": {
    "nteract": {
     "transient": {
      "deleting": false
     }
    }
   },
   "outputs": [],
   "source": [
    "def generate_dream_data_from_posterior_samples(samples,z_prior_type, sigma_reward=0.1):\n",
    "    '''\n",
    "    Given a list of gamma samples and a specified Z prior, generate a single datapoint from each gamma sample using the 1x2D model.\n",
    "    '''\n",
    "    z_samples = []\n",
    "    r_samples = []\n",
    "\n",
    "    for gamma_sample in samples:\n",
    "        # generate a single datapoint for each gamma sample\n",
    "        sample_point = helper.generate_data_from_gamma(N=1, gamma=gamma_sample, z_prior_type=z_prior_type, sigma_reward=sigma_reward)\n",
    "        z_samples.append(sample_point['z'][0])\n",
    "        r_samples.append(sample_point['r'][0])\n",
    "\n",
    "    z_samples = np.array(z_samples)\n",
    "    r_samples = np.array(r_samples)\n",
    "\n",
    "    return {'z': np.array(z_samples), 'r': np.array(r_samples)}\n",
    "\n",
    "def generate_dream_data_set(posterior, T=10, N=2, z_prior_type='uniform', sigma_reward=0.1):\n",
    "    '''\n",
    "    Generates multiple dream data sets given a posterior distribution. T is length of each dataset, N is number of datasets.\n",
    "    '''\n",
    "    dream_data_sets = []\n",
    "    for i in range(N):\n",
    "        samples = posterior.sample(T)\n",
    "        dream_data = generate_dream_data_from_posterior_samples(samples, z_prior_type, SIGMA_R_DREAM)\n",
    "        dream_data_sets.append(dream_data)\n",
    "    return dream_data_sets"
   ]
  },
  {
   "cell_type": "code",
   "execution_count": null,
   "metadata": {},
   "outputs": [],
   "source": [
    "if not USE_SAVED_DATA:\n",
    "    data1 = helper.generate_data(Tx, alpha=90, context_value=0, z_prior_type=Z_PRIOR, sigma_reward=SIGMA_R)\n",
    "    data2 = helper.generate_data(Ty, alpha=0, context_value=1, z_prior_type=Z_PRIOR, sigma_reward=SIGMA_R)\n",
    "    true_data = helper.concatenate_data(data1, data2)\n",
    "else:\n",
    "    true_data = np.load(DATA_FILENAME,allow_pickle=True).item()"
   ]
  },
  {
   "cell_type": "code",
   "execution_count": null,
   "metadata": {},
   "outputs": [],
   "source": [
    "helper.plot_data(data1,marker='^',colorbar=False)\n",
    "helper.plot_data(data2,marker='s')\n",
    "plt.legend([\"task 1\",\"task 2\"])\n",
    "plt.show()\n",
    "\n",
    "plt.figure(figsize=(3,2))\n",
    "plt.subplot(1,2,1)\n",
    "data = helper.generate_data(1000, alpha=90, context_value=0, z_prior_type=Z_PRIOR, sigma_reward=SIGMA_R)\n",
    "helper.plot_data(data, limit=1, axislabels=False, colorbar=False, ticks=False)\n",
    "plt.title(\"task 1\")\n",
    "\n",
    "plt.subplot(1,2,2)\n",
    "data = helper.generate_data(1000, alpha=0, context_value=1, z_prior_type=Z_PRIOR, sigma_reward=SIGMA_R)\n",
    "helper.plot_data(data, limit=1, axislabels=False, colorbar=False, ticks=False)\n",
    "\n",
    "plt.title(\"task 2\")\n",
    "plt.show()"
   ]
  },
  {
   "cell_type": "code",
   "execution_count": null,
   "metadata": {
    "nteract": {
     "transient": {
      "deleting": false
     }
    }
   },
   "outputs": [],
   "source": [
    "# create blocked and interleaved datasets\n",
    "blocked_indices = np.arange(Tx+Ty)\n",
    "interleaved_indices = helper.riffle(np.arange(Tx+Ty)[:Tx],np.arange(Tx+Ty)[Tx:])\n",
    "\n",
    "data_blocked = helper.reorder_data(true_data,blocked_indices)\n",
    "data_interleaved = helper.reorder_data(true_data,interleaved_indices)"
   ]
  },
  {
   "cell_type": "code",
   "execution_count": null,
   "metadata": {
    "nteract": {
     "transient": {
      "deleting": false
     }
    }
   },
   "outputs": [],
   "source": [
    "data_presented = data_blocked\n",
    "\n",
    "data_presented = {'z':data_presented['z'][:Tx+EM_SIZE], 'r':data_presented['r'][:Tx+EM_SIZE]}\n",
    "data_past = {'z':data_presented['z'][:-EM_SIZE], 'r':data_presented['r'][:-EM_SIZE]}\n",
    "data_EM = {'z':data_presented['z'][-EM_SIZE:], 'r':data_presented['r'][-EM_SIZE:]}\n",
    "\n",
    "# Fit 1x2D task model\n",
    "posterior_params = helper.gamma_posterior_analytic(data_past['z'], data_past['r'], SIGMA_R_MODEL, Sigma_0=10*np.eye(2))\n",
    "posterior = tfd.MultivariateNormalFullCovariance(loc=posterior_params[0], covariance_matrix=posterior_params[1])\n",
    "\n",
    "# generate N dream data sets\n",
    "dreams = generate_dream_data_set(posterior, T=5, N=10, z_prior_type=DREAM_DATA_Z_PRIOR, sigma_reward=SIGMA_R_DREAM)\n",
    "\n",
    "# append episodic memories to dreams\n",
    "dreams_plus_EM = []\n",
    "for dream in dreams:\n",
    "    dream_plus_EM = {'z':np.concatenate([dream['z'], data_EM['z']]), 'r':np.concatenate([dream['r'], data_EM['r']])}\n",
    "    dream_plus_EM = dreams_plus_EM.append(dream_plus_EM)\n",
    "dreams = dreams_plus_EM\n",
    "    \n",
    "# mllh on 2D 1 task model\n",
    "onetask_mllhs_dream = [helper.model_marginal_llh_analytic(dream['z'], dream['r'], SIGMA_R_MODEL, Sigma_0=np.eye(2)) for dream in dreams]\n",
    "\n",
    "# mllh on 2D 2 task model\n",
    "twotask_mllhs_dream = [helper.model_marginal_llh_analytic_2x2D(dream['z'], dream['r'], SIGMA_R_MODEL, Sigma_0_2D = np.array([[1., 0.], [0., 1.]])) for dream in dreams]\n",
    "\n",
    "# mllhs on ground truth data\n",
    "onetask_mllh = helper.model_marginal_llh_analytic(data_presented['z'], data_presented['r'], SIGMA_R_MODEL, Sigma_0=np.eye(2))\n",
    "twotask_mllh = helper.model_marginal_llh_analytic_2x2D(data_presented['z'], data_presented['r'], SIGMA_R_MODEL, Sigma_0_2D = np.array([[1., 0.], [0., 1.]]))"
   ]
  },
  {
   "cell_type": "code",
   "execution_count": null,
   "metadata": {
    "collapsed": false,
    "jupyter": {
     "outputs_hidden": false,
     "source_hidden": false
    },
    "nteract": {
     "transient": {
      "deleting": false
     }
    }
   },
   "outputs": [],
   "source": [
    "plt.figure(figsize=(10,4))\n",
    "plt.subplots_adjust(wspace=0.2, hspace=0.4)\n",
    "plt.suptitle(\"BLOCKED\")\n",
    "\n",
    "plt.subplot(1,3,1)\n",
    "#plot_data_xy_labels(true_data, xylabels)\n",
    "helper.plot_data(data_presented, colorbar=False)\n",
    "plt.title(\"true data\")\n",
    "\n",
    "plt.subplot(1,3,2)\n",
    "#plot_data_xy_labels(true_data, xylabels)\n",
    "helper.plot_data(data_past, colorbar=False, axislabels=False)\n",
    "plt.title(\"past data (without EM)\")\n",
    "\n",
    "plt.subplot(1,3,3)\n",
    "samples = posterior.sample(300)\n",
    "sns.kdeplot(x=samples[:, 0], y=samples[:, 1])\n",
    "plt.scatter(x=samples[:, 0], y=samples[:, 1])\n",
    "plt.xlim([-3,3])\n",
    "plt.ylim([-3,3])\n",
    "plt.gca().set_aspect('equal')\n",
    "plt.title(\"gamma posterior\")\n",
    "plt.show()\n",
    "\n",
    "plt.figure(figsize=(10,10))\n",
    "plt.subplots_adjust(wspace=0.4, hspace=0.4)\n",
    "\n",
    "plt.subplot(3,1,1)\n",
    "plt.hist(onetask_mllhs_dream,100)\n",
    "plt.axvline(onetask_mllh, color='gray', linestyle='dashed', linewidth=1)\n",
    "plt.axvline(np.mean(onetask_mllhs_dream), color='lightblue', linestyle='dashed', linewidth=1)\n",
    "plt.xlabel(\"mllh value, true (black dashed), avg (blue dashed)\")\n",
    "plt.ylabel(\"occurences\")\n",
    "\n",
    "plt.hist(twotask_mllhs_dream,100)\n",
    "plt.axvline(twotask_mllh, color='k', linestyle='dashed', linewidth=1)\n",
    "plt.axvline(np.mean(twotask_mllhs_dream), color='darkblue', linestyle='dashed', linewidth=1)\n",
    "plt.title(\"both tasks, 2 task (dark), 1 task (light)\")\n",
    "\n",
    "plt.subplot(3,2,3)\n",
    "plt.hist(onetask_mllhs_dream,100)\n",
    "plt.axvline(onetask_mllh, color='k', linestyle='dashed', linewidth=1)\n",
    "plt.axvline(np.mean(onetask_mllhs_dream), color='b', linestyle='dashed', linewidth=1)\n",
    "plt.xlabel(\"mllh value, true (black dashed), avg (blue dashed)\")\n",
    "plt.ylabel(\"occurences\")\n",
    "plt.title(\"1 x 2D task\")\n",
    "\n",
    "plt.subplot(3,2,4)\n",
    "plt.hist(twotask_mllhs_dream,100)\n",
    "plt.axvline(twotask_mllh, color='k', linestyle='dashed', linewidth=1)\n",
    "plt.axvline(np.mean(twotask_mllhs_dream), color='b', linestyle='dashed', linewidth=1)\n",
    "plt.title(\"2 x 2D task\")\n",
    "\n",
    "plt.subplot(3,3,7)\n",
    "plt.plot([\"1x2D\",\"2x2D\"],[onetask_mllh, twotask_mllh])\n",
    "plt.plot([\"1x2D\",\"2x2D\"],[np.mean(onetask_mllhs_dream), np.mean(twotask_mllhs_dream)])\n",
    "plt.legend([\"true\",\"avg dream\"])\n",
    "\n",
    "plt.subplot(3,3,8)\n",
    "plt.bar([\"1x2D\",\"2x2D\"],[onetask_mllh, twotask_mllh])\n",
    "plt.title(\"mllh on true data\")\n",
    "\n",
    "plt.subplot(3,3,9)\n",
    "plt.bar([\"1x2D\",\"2x2D\"],[np.mean(onetask_mllhs_dream), np.mean(twotask_mllhs_dream)])\n",
    "plt.title(\"avg mllh on dream data\")\n",
    "plt.show()\n",
    "\n",
    "n_vertical = 4\n",
    "n_horizontal = 5\n",
    "\n",
    "plt.figure(figsize=(6,5))\n",
    "for j in range(n_vertical):\n",
    "    for i in range(n_horizontal):\n",
    "        plt.subplot(n_vertical, n_horizontal,j*n_horizontal+i+1)\n",
    "        helper.plot_data(\n",
    "            helper.generate_data_from_gamma(N=300, gamma=samples[j*n_horizontal+i],\n",
    "                                            z_prior_type='uniform', sigma_z_prior=1.5, r_bias=0, sigma_reward=0.1, sigma_bias=0),\n",
    "            limit=1.75, axislabels=False, colorbar=False, ticks=False)\n",
    "plt.show()\n"
   ]
  },
  {
   "cell_type": "code",
   "execution_count": null,
   "metadata": {},
   "outputs": [],
   "source": [
    "helper.plot_data(generate_dream_data_set(posterior, T=1000, N=1, z_prior_type=DREAM_DATA_Z_PRIOR, sigma_reward=SIGMA_R_DREAM)[0])"
   ]
  },
  {
   "cell_type": "code",
   "execution_count": null,
   "metadata": {},
   "outputs": [],
   "source": [
    "data_presented = data_interleaved\n",
    "\n",
    "data_presented = {'z':data_presented['z'][:Tx+EM_SIZE], 'r':data_presented['r'][:Tx+EM_SIZE]}\n",
    "data_past = {'z':data_presented['z'][:-EM_SIZE], 'r':data_presented['r'][:-EM_SIZE]}\n",
    "data_EM = {'z':data_presented['z'][-EM_SIZE:], 'r':data_presented['r'][-EM_SIZE:]}\n",
    "\n",
    "# Fit 2D 1 task model\n",
    "posterior_params = helper.gamma_posterior_analytic(data_past['z'], data_past['r'], SIGMA_R_MODEL, Sigma_0=10*np.eye(2))\n",
    "posterior = tfd.MultivariateNormalFullCovariance(loc=posterior_params[0], covariance_matrix=posterior_params[1])\n",
    "\n",
    "# generate N dream data sets\n",
    "dreams = generate_dream_data_set(posterior, T=5, N=10, z_prior_type=DREAM_DATA_Z_PRIOR, sigma_reward=SIGMA_R_DREAM)\n",
    "\n",
    "# append episodic memories to dreams\n",
    "dreams_plus_EM = []\n",
    "for dream in dreams:\n",
    "    dream_plus_EM = {'z':np.concatenate([dream['z'], data_EM['z']]), 'r':np.concatenate([dream['r'], data_EM['r']])}\n",
    "    dream_plus_EM = dreams_plus_EM.append(dream_plus_EM)\n",
    "dreams = dreams_plus_EM\n",
    "    \n",
    "# mllh on 2D 1 task model\n",
    "onetask_mllhs_dream = [helper.model_marginal_llh_analytic(dream['z'], dream['r'], SIGMA_R_MODEL, Sigma_0=np.eye(2)) for dream in dreams]\n",
    "\n",
    "# mllh on 2D 2 task model\n",
    "twotask_mllhs_dream = [helper.model_marginal_llh_analytic_2x2D(dream['z'], dream['r'], SIGMA_R_MODEL, Sigma_0_2D = np.array([[1., 0.], [0., 1.]])) for dream in dreams]\n",
    "\n",
    "# mllhs on ground truth data\n",
    "onetask_mllh = helper.model_marginal_llh_analytic(data_presented['z'], data_presented['r'], SIGMA_R_MODEL, Sigma_0=np.eye(2))\n",
    "twotask_mllh = helper.model_marginal_llh_analytic_2x2D(data_presented['z'], data_presented['r'], SIGMA_R_MODEL, Sigma_0_2D = np.array([[1., 0.], [0., 1.]]))"
   ]
  },
  {
   "cell_type": "code",
   "execution_count": null,
   "metadata": {},
   "outputs": [],
   "source": [
    "plt.figure(figsize=(10,4))\n",
    "plt.subplots_adjust(wspace=0.2, hspace=0.4)\n",
    "plt.suptitle(\"INTERLEAVED\")\n",
    "\n",
    "plt.subplot(1,3,1)\n",
    "#plot_data_xy_labels(true_data, xylabels)\n",
    "helper.plot_data(data_presented, colorbar=False)\n",
    "plt.title(\"true data\")\n",
    "\n",
    "plt.subplot(1,3,2)\n",
    "#plot_data_xy_labels(true_data, xylabels)\n",
    "helper.plot_data(data_past, colorbar=False, axislabels=False)\n",
    "plt.title(\"past data (without EM)\")\n",
    "\n",
    "plt.subplot(1,3,3)\n",
    "samples = posterior.sample(300)\n",
    "sns.kdeplot(x=samples[:, 0], y=samples[:, 1])\n",
    "plt.scatter(x=samples[:, 0], y=samples[:, 1])\n",
    "plt.xlim([-3,3])\n",
    "plt.ylim([-3,3])\n",
    "plt.gca().set_aspect('equal')\n",
    "plt.title(\"gamma posterior\")\n",
    "plt.show()\n",
    "\n",
    "plt.figure(figsize=(10,10))\n",
    "plt.subplots_adjust(wspace=0.4, hspace=0.4)\n",
    "\n",
    "plt.subplot(3,1,1)\n",
    "plt.hist(onetask_mllhs_dream,100)\n",
    "plt.axvline(onetask_mllh, color='gray', linestyle='dashed', linewidth=1)\n",
    "plt.axvline(np.mean(onetask_mllhs_dream), color='lightblue', linestyle='dashed', linewidth=1)\n",
    "plt.xlabel(\"mllh value, true (black dashed), avg (blue dashed)\")\n",
    "plt.ylabel(\"occurences\")\n",
    "\n",
    "plt.hist(twotask_mllhs_dream,100)\n",
    "plt.axvline(twotask_mllh, color='k', linestyle='dashed', linewidth=1)\n",
    "plt.axvline(np.mean(twotask_mllhs_dream), color='darkblue', linestyle='dashed', linewidth=1)\n",
    "plt.title(\"both tasks, 2 task (dark), 1 task (light)\")\n",
    "\n",
    "plt.subplot(3,2,3)\n",
    "plt.hist(onetask_mllhs_dream,100)\n",
    "plt.axvline(onetask_mllh, color='k', linestyle='dashed', linewidth=1)\n",
    "plt.axvline(np.mean(onetask_mllhs_dream), color='b', linestyle='dashed', linewidth=1)\n",
    "plt.xlabel(\"mllh value, true (black dashed), avg (blue dashed)\")\n",
    "plt.ylabel(\"occurences\")\n",
    "plt.title(\"1 x 2D task\")\n",
    "\n",
    "plt.subplot(3,2,4)\n",
    "plt.hist(twotask_mllhs_dream,100)\n",
    "plt.axvline(twotask_mllh, color='k', linestyle='dashed', linewidth=1)\n",
    "plt.axvline(np.mean(twotask_mllhs_dream), color='b', linestyle='dashed', linewidth=1)\n",
    "plt.title(\"2 x 2D task\")\n",
    "\n",
    "plt.subplot(3,3,7)\n",
    "plt.plot([\"1x2D\",\"2x2D\"],[onetask_mllh, twotask_mllh])\n",
    "plt.plot([\"1x2D\",\"2x2D\"],[np.mean(onetask_mllhs_dream), np.mean(twotask_mllhs_dream)])\n",
    "plt.legend([\"true\",\"avg dream\"])\n",
    "\n",
    "plt.subplot(3,3,8)\n",
    "plt.bar([\"1x2D\",\"2x2D\"],[onetask_mllh, twotask_mllh])\n",
    "plt.title(\"mllh on true data\")\n",
    "\n",
    "plt.subplot(3,3,9)\n",
    "plt.bar([\"1x2D\",\"2x2D\"],[np.mean(onetask_mllhs_dream), np.mean(twotask_mllhs_dream)])\n",
    "plt.title(\"avg mllh on dream data\")\n",
    "plt.show()\n",
    "\n",
    "n_vertical = 4\n",
    "n_horizontal = 5\n",
    "\n",
    "plt.figure(figsize=(6,5))\n",
    "for j in range(n_vertical):\n",
    "    for i in range(n_horizontal):\n",
    "        plt.subplot(n_vertical, n_horizontal,j*n_horizontal+i+1)\n",
    "        helper.plot_data(\n",
    "            helper.generate_data_from_gamma(N=300, gamma=samples[j*n_horizontal+i],\n",
    "                                            z_prior_type='uniform', sigma_z_prior=1.5, r_bias=0, sigma_reward=0.1, sigma_bias=0),\n",
    "            limit=1.75, axislabels=False, colorbar=False, ticks=False)\n",
    "plt.show()"
   ]
  },
  {
   "cell_type": "code",
   "execution_count": null,
   "metadata": {},
   "outputs": [],
   "source": [
    "helper.plot_data(generate_dream_data_set(posterior, T=1000, N=1, z_prior_type=DREAM_DATA_Z_PRIOR, sigma_reward=SIGMA_R_DREAM)[0])"
   ]
  },
  {
   "cell_type": "code",
   "execution_count": null,
   "metadata": {},
   "outputs": [],
   "source": [
    "n_vertical = 2\n",
    "n_horizontal = 5\n",
    "\n",
    "plt.figure(figsize=(10,4))\n",
    "plt.figure(figsize=(15,6))\n",
    "for j in range(n_vertical):\n",
    "    for i in range(n_horizontal):\n",
    "        plt.subplot(n_vertical, n_horizontal,j*n_horizontal+i+1)\n",
    "        helper.plot_data(dreams[j*n_horizontal+i], labels=False, limit=1.7, climit=1,axislabels=False, marker='+', colorbar=False)"
   ]
  },
  {
   "cell_type": "code",
   "execution_count": null,
   "metadata": {},
   "outputs": [],
   "source": [
    "n_vertical = 2\n",
    "n_horizontal = 5\n",
    "\n",
    "plt.figure(figsize=(15,6))\n",
    "for j in range(n_vertical):\n",
    "    for i in range(n_horizontal):\n",
    "        plt.subplot(n_vertical, n_horizontal,j*n_horizontal+i+1)\n",
    "        #helper.plot_data(data_past,marker='^', axislabels=False, limit=1.75)\n",
    "        helper.plot_data(data_EM,marker='>', axislabels=False, limit=1.75, colorbar=False)\n",
    "        helper.plot_data(dreams[j*n_horizontal+i],marker='+', axislabels=False, limit=1.75, colorbar=False)\n",
    "        #plt.legend([\"past data\", \"EM contents\", \"dreamed\"])"
   ]
  },
  {
   "cell_type": "code",
   "execution_count": null,
   "metadata": {},
   "outputs": [],
   "source": [
    "plt.figure(figsize=(10,5))\n",
    "helper.plot_data(data_past,marker='^', axislabels=False, limit=1.75, colorbar=False)\n",
    "helper.plot_data(data_EM,marker='>', axislabels=False, limit=1.75, colorbar=False)\n",
    "helper.plot_data(dreams[0],marker='+', axislabels=False, limit=1.75, colorbar=False)\n",
    "plt.legend([\"past data\", \"EM contents\", \"dreamed\"])"
   ]
  },
  {
   "cell_type": "code",
   "execution_count": null,
   "metadata": {},
   "outputs": [],
   "source": [
    "#np.save(\"demo_data_sigr_07\",true_data)"
   ]
  },
  {
   "cell_type": "code",
   "execution_count": null,
   "metadata": {},
   "outputs": [],
   "source": [
    "ax = plt.axes()\n",
    "[ax.arrow(0, 0, sample[0], sample[1], head_width=0.02, head_length=0.05, fc='k', ec='k') for sample in samples[:100]]\n",
    "plt.xlim([-1.75,1.75])\n",
    "plt.ylim([-1.75,1.75])\n",
    "plt.gca().set_aspect('equal')\n",
    "plt.show()"
   ]
  }
 ],
 "metadata": {
  "kernel_info": {
   "name": "python3"
  },
  "kernelspec": {
   "display_name": "Python 3",
   "language": "python",
   "name": "python3"
  },
  "language_info": {
   "codemirror_mode": {
    "name": "ipython",
    "version": 3
   },
   "file_extension": ".py",
   "mimetype": "text/x-python",
   "name": "python",
   "nbconvert_exporter": "python",
   "pygments_lexer": "ipython3",
   "version": "3.6.9"
  },
  "nteract": {
   "version": "0.28.0"
  }
 },
 "nbformat": 4,
 "nbformat_minor": 4
}
