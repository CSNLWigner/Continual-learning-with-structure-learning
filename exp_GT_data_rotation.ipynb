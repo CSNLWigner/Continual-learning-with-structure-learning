{
 "cells": [
  {
   "cell_type": "code",
   "execution_count": null,
   "metadata": {},
   "outputs": [],
   "source": [
    "import numpy as np\n",
    "import tensorflow as tf\n",
    "import matplotlib.pyplot as plt\n",
    "import copy\n",
    "\n",
    "import helper_mate as h\n",
    "import helper as hd\n",
    "from colorscheme import *\n",
    "\n",
    "from gt_learner import GT_learner"
   ]
  },
  {
   "cell_type": "code",
   "execution_count": null,
   "metadata": {},
   "outputs": [],
   "source": [
    "# Data parameters\n",
    "BLOCK_SIZE = 5\n",
    "N_BATCHES = 3\n",
    "N_RUNS = 100\n",
    "\n",
    "# Agent parameters\n",
    "SIGMA_R = 1.0"
   ]
  },
  {
   "cell_type": "code",
   "execution_count": null,
   "metadata": {},
   "outputs": [],
   "source": [
    "# Define rotation operator\n",
    "rotation_operator = [[np.cos(np.pi/4), -np.cos(np.pi/4)],[np.sin(np.pi/4), np.cos(np.pi/4)]]\n",
    "\n",
    "# Define conditions\n",
    "conditions = ['cardinal', 'diagonal']\n",
    "\n",
    "def generate_dataset():\n",
    "    '''Generate a dataset with cardinal and rotated cardinal data'''\n",
    "    # Generate initial data\n",
    "    data = {}\n",
    "    data = h.generate_batch_data([0,90], BLOCK_SIZE, N_BATCHES);\n",
    "\n",
    "    # Cardinal data (same as init)\n",
    "    data['cardinal'] = copy.deepcopy(data)\n",
    "\n",
    "    # Rotate to get diagonal data\n",
    "    data['diagonal'] = copy.deepcopy(data)\n",
    "\n",
    "    for i in range(0,np.size(data[\"z\"],0)):\n",
    "        data['diagonal'][\"z\"][i] = np.dot(rotation_operator,data['diagonal'][\"z\"][i])\n",
    "\n",
    "    return data\n",
    "\n",
    "def generate_datasets(n_datasets):\n",
    "    '''Generate a list of N_RUNS datasets'''\n",
    "    datasets = []\n",
    "    for i in range(n_datasets):\n",
    "        datasets.append(generate_dataset())\n",
    "    return datasets\n",
    "\n",
    "# Generate datasets using the functions above\n",
    "datasets = generate_datasets(N_RUNS)"
   ]
  },
  {
   "cell_type": "code",
   "execution_count": null,
   "metadata": {},
   "outputs": [],
   "source": [
    "# Plot first dataset\n",
    "i = 0\n",
    "data = datasets[i]\n",
    "\n",
    "for condition in conditions:\n",
    "    hd.plot_data(data[condition], labels=False, limit=2.5, figsize=(4,4))\n",
    "    plt.show()\n"
   ]
  },
  {
   "cell_type": "code",
   "execution_count": null,
   "metadata": {},
   "outputs": [],
   "source": [
    "# Define model sets\n",
    "model_set = {'cardinal': ['x', 'y', '1x2D', '2x1D_bg'], 'diagonal': ['x', 'y', '1x2D', '2x2D_bg']}\n",
    "\n",
    "# For each condition, compute mllhs\n",
    "results = []\n",
    "for data in datasets:\n",
    "    result = {}\n",
    "    for condition in conditions:\n",
    "        result[condition] = GT_learner(data[condition], SIGMA_R, model_set[condition])\n",
    "    results.append(result)\n",
    "\n",
    "# Compute switching times\n",
    "switch_times = {}\n",
    "for condition in conditions:\n",
    "    switch_times[condition] = [hd.model_change_time(results[i][condition], model_set[condition][-1])\n",
    "                                 for i in range(N_RUNS)]\n"
   ]
  },
  {
   "cell_type": "code",
   "execution_count": null,
   "metadata": {},
   "outputs": [],
   "source": [
    "# Plot evolution of mllh for each condition\n",
    "i = 0\n",
    "data = datasets[i]\n",
    "result = results[i]\n",
    "for condition in conditions:\n",
    "    hd.plot_mmllh_curves(result[condition], model_set[condition],\n",
    "                            T=len(data[condition]['c']), color_dict=model_colors_gergo, figsize=(15,4))"
   ]
  },
  {
   "cell_type": "code",
   "execution_count": null,
   "metadata": {},
   "outputs": [],
   "source": [
    "# Plot histogram of switching times\n",
    "for condition in conditions:\n",
    "    plt.hist(switch_times[condition], bins=np.arange(0, 30, 1), alpha=0.5,\n",
    "             label=condition, color=modelColors[model_set[condition][-1]])\n",
    "plt.legend()\n",
    "plt.title(\"$\\sigma_r$=\" + str(SIGMA_R) + \", block size =\" + str(BLOCK_SIZE))\n",
    "plt.ylabel('count')\n",
    "plt.xlabel('time of model discovery')\n",
    "plt.show()"
   ]
  }
 ],
 "metadata": {
  "kernelspec": {
   "display_name": "base",
   "language": "python",
   "name": "python3"
  },
  "language_info": {
   "codemirror_mode": {
    "name": "ipython",
    "version": 3
   },
   "file_extension": ".py",
   "mimetype": "text/x-python",
   "name": "python",
   "nbconvert_exporter": "python",
   "pygments_lexer": "ipython3",
   "version": "3.6.8"
  },
  "vscode": {
   "interpreter": {
    "hash": "715d78e8ea9d15f3b1f6080971e99bb6f9fa1dfbe3824c645d367f8092e9c6f0"
   }
  }
 },
 "nbformat": 4,
 "nbformat_minor": 2
}
