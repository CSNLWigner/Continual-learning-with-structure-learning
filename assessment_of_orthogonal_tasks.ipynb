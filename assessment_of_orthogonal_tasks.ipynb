{
  "nbformat": 4,
  "nbformat_minor": 0,
  "metadata": {
    "colab": {
      "name": "assessment_of_orthogonal_tasks.ipynb",
      "provenance": [],
      "collapsed_sections": []
    },
    "kernelspec": {
      "name": "python3",
      "display_name": "Python 3"
    }
  },
  "cells": [
    {
      "cell_type": "code",
      "metadata": {
        "id": "d6hTlepqeINg"
      },
      "source": [
        "import tensorflow as tf\n",
        "from tensorflow_probability import distributions as tfd\n",
        "import tensorflow_probability as tfp\n",
        "import tensorflow.keras.backend as K\n",
        "import math as m\n",
        "import numpy as np\n",
        "import matplotlib.pyplot as plt"
      ],
      "execution_count": 1,
      "outputs": []
    },
    {
      "cell_type": "code",
      "metadata": {
        "id": "xqEm7nZCeRDn"
      },
      "source": [
        "sigma_z_prior = 1\n",
        "pi = np.pi"
      ],
      "execution_count": 2,
      "outputs": []
    },
    {
      "cell_type": "markdown",
      "metadata": {
        "id": "9s40woF1Tbcy"
      },
      "source": [
        "Dávid által módosított generate_data() függvény kis változtatásokkal:"
      ]
    },
    {
      "cell_type": "code",
      "metadata": {
        "id": "oUJe8BcP_TxM"
      },
      "source": [
        "def generate_data(N=100, alpha=0, z_prior_type='uniform', sigma_z_prior=1, r_bias=0, sigma_reward=0.1, sigma_bias=0, reward_slope = 1):\n",
        "  gamma = reward_slope * np.array([tf.cos(tf.cast(alpha/180*pi,tf.float32)), tf.sin(tf.cast(alpha/180*pi,tf.float32))])\n",
        "\n",
        "  if z_prior_type == 'normal':\n",
        "      z_prior = tfd.MultivariateNormalDiag(loc=[0,0], scale_diag=[sigma_z_prior,sigma_z_prior]);\n",
        "  elif z_prior_type == 'uniform':\n",
        "      z_prior = tfd.Uniform([0,0],[sigma_z_prior,sigma_z_prior])\n",
        "\n",
        "  z = np.array(z_prior.sample(N))\n",
        "\n",
        "  r_noise = tfd.Normal(0, sigma_reward).sample(N)\n",
        "  r_mean = tf.reduce_sum(tf.multiply(gamma,z),1) + r_bias\n",
        "  r = r_mean + r_noise\n",
        "  r = tf.expand_dims(r, -1)\n",
        "  return z, r "
      ],
      "execution_count": 3,
      "outputs": []
    },
    {
      "cell_type": "markdown",
      "metadata": {
        "id": "8nXH1b49Im3E"
      },
      "source": [
        "adott z-hez rewardot gyártó függvény:"
      ]
    },
    {
      "cell_type": "code",
      "metadata": {
        "id": "aDjNqlp6_QjR"
      },
      "source": [
        "def generate_reward(sigma_reward, reward_slope, alpha, z):\n",
        "  gamma = reward_slope * np.array([tf.cos(tf.cast(alpha/180*pi,tf.float32)), tf.sin(tf.cast(alpha/180*pi,tf.float32))])\n",
        "  N = z.shape[0]\n",
        "  r_noise = tfd.Normal(0, sigma_reward).sample(N)\n",
        "  r_mean = tf.reduce_sum(tf.multiply(gamma,z),1)\n",
        "  r = r_mean + r_noise\n",
        "  r = tf.expand_dims(r, -1)\n",
        "  return r "
      ],
      "execution_count": 29,
      "outputs": []
    },
    {
      "cell_type": "markdown",
      "metadata": {
        "id": "aibri5ZYe9p3"
      },
      "source": [
        "### Axis-aligned case"
      ]
    },
    {
      "cell_type": "markdown",
      "metadata": {
        "id": "-s2pS_Yg5WwF"
      },
      "source": [
        "régi f_x fv:"
      ]
    },
    {
      "cell_type": "code",
      "metadata": {
        "id": "RpRYEto6e7J3"
      },
      "source": [
        "def f_x_regi(gamma):\n",
        "  '''\n",
        "  x axis-aligned modellt feltetelezve ezt a fuggvenyt kell atlagolni gamma prior felett\n",
        "  '''\n",
        "  num_points = z.shape[0]\n",
        "  exponents = np.zeros(num_samples)\n",
        "  for i in range(num_samples):\n",
        "    exponents[i] = tf.reduce_sum((gamma[i]*z[:, 1] - r)**2)\n",
        "  return .9**(num_points)*np.exp(-exponents)"
      ],
      "execution_count": null,
      "outputs": []
    },
    {
      "cell_type": "markdown",
      "metadata": {
        "id": "OXypiyk75ZUo"
      },
      "source": [
        "új f_x fv:"
      ]
    },
    {
      "cell_type": "code",
      "metadata": {
        "id": "oSDP-bFF5a_t"
      },
      "source": [
        "def f_x(gamma):\n",
        "  '''\n",
        "  x axis-aligned modellt feltetelezve ezt a fuggvenyt kell atlagolni gamma prior felett\n",
        "  '''\n",
        "  num_points = z.shape[0]\n",
        "  A = .9**(num_points)\n",
        "  repeats = [num_points]*num_samples\n",
        "  gamma_duplicated = tf.repeat(tf.expand_dims(gamma, -1), repeats = repeats, axis = 0)\n",
        "  multiples = tf.constant([num_samples, 1], tf.int32)\n",
        "  z_duplicated = tf.tile(z, multiples=multiples)\n",
        "  r_duplicated = tf.tile(r, multiples = multiples)\n",
        "  gamma_multiplied_by_z = tf.multiply(gamma_duplicated, tf.expand_dims(z_duplicated[:, 1], -1))\n",
        "  nemtom = tf.exp(-tf.math.square(r_duplicated - gamma_multiplied_by_z))\n",
        "  reshaped = tf.reshape(nemtom, [num_points, num_samples])\n",
        "  output = A*tf.reduce_prod(reshaped, axis = 0)\n",
        "  return output"
      ],
      "execution_count": 4,
      "outputs": []
    },
    {
      "cell_type": "markdown",
      "metadata": {
        "id": "rsNX62Ij2rBM"
      },
      "source": [
        "régi f_x_y fv"
      ]
    },
    {
      "cell_type": "code",
      "metadata": {
        "id": "mDHDvZ6FfDC-"
      },
      "source": [
        "def f_x_y_regi(gamma):\n",
        "  '''\n",
        "  ezt a fuggvenyt kell atlagolni gamma prior felett, ha ket taskot feltetelezunk\n",
        "  ''' \n",
        "  num_points = z.shape[0]\n",
        "  A = .9**num_points\n",
        "  output = np.zeros(num_samples)\n",
        "  \n",
        "  for i in range(num_samples):\n",
        "    term_inside_the_prod1 = tf.exp(-tf.math.square(r - tf.multiply(gamma[i, 0], z[:, 0])))\n",
        "    term_inside_the_prod2 = tf.exp(-tf.math.square(r - tf.multiply(gamma[i, 1], z[:, 1])))\n",
        "    output[i] = A*tf.reduce_prod(.5*term_inside_the_prod1 + .5*term_inside_the_prod2)\n",
        "    \n",
        "  return output"
      ],
      "execution_count": null,
      "outputs": []
    },
    {
      "cell_type": "markdown",
      "metadata": {
        "id": "mCQG2HAbI3Jc"
      },
      "source": [
        "új f_x_y fv:"
      ]
    },
    {
      "cell_type": "code",
      "metadata": {
        "id": "8A8zr6zRqxpc"
      },
      "source": [
        "def f_x_y(gamma):\n",
        "  '''\n",
        "  ezt a fuggvenyt kell atlagolni gamma prior felett, ha ket taskot feltetelezunk\n",
        "  ''' \n",
        "  num_points = z.shape[0]\n",
        "  A = .9**num_points\n",
        "  repeats = [num_points]*num_samples\n",
        "  gamma_duplicated = tf.repeat(gamma, repeats = repeats, axis = 0)\n",
        "  multiples = tf.constant( [num_samples, 1], tf.int32)\n",
        "  z_duplicated = tf.tile(z, multiples=multiples)\n",
        "  r_duplicated = tf.tile(r, multiples = multiples)\n",
        "  gamma_multiplied_by_z = tf.multiply(gamma_duplicated, z_duplicated)\n",
        "  column1 = tf.expand_dims(gamma_multiplied_by_z[:, 0], -1)\n",
        "  column2 = tf.expand_dims(gamma_multiplied_by_z[:, 1], -1)\n",
        "  term1 = tf.exp(-tf.math.square(r_duplicated - column1))\n",
        "  term2 = tf.exp(-tf.math.square(r_duplicated - column2))\n",
        "  concatenated = tf.concat([term1, term2], axis = 1)\n",
        "  avg = tf.reduce_mean(concatenated, axis = 1)\n",
        "  avg_reshaped = tf.reshape(avg, [num_points, num_samples])\n",
        "  output = A*tf.reduce_prod(avg_reshaped, axis = 0)\n",
        "  return output"
      ],
      "execution_count": 5,
      "outputs": []
    },
    {
      "cell_type": "markdown",
      "metadata": {
        "id": "x_98uOzjI7_K"
      },
      "source": [
        "Monte Carlo integrálás megbízhatóságának tesztelésére használható függvény."
      ]
    },
    {
      "cell_type": "code",
      "metadata": {
        "id": "uwi8ikaX5P-D"
      },
      "source": [
        "def monte_carlo_test(number_of_tasks, p, num_samples_list, dataset_size , num_of_trials, sigma_reward, alpha):\n",
        "  N = dataset_size\n",
        "  def f_x(gamma):\n",
        "    '''\n",
        "    x axis-aligned modellt feltetelezve ezt a fuggvenyt kell atlagolni gamma prior felett\n",
        "    '''\n",
        "    num_points = z.shape[0]\n",
        "    A = .9**(num_points)\n",
        "    repeats = [num_points]*num_samples\n",
        "    gamma_duplicated = tf.repeat(tf.expand_dims(gamma, -1), repeats = repeats, axis = 0)\n",
        "    multiples = tf.constant([num_samples, 1], tf.int32)\n",
        "    z_duplicated = tf.tile(z, multiples=multiples)\n",
        "    r_duplicated = tf.tile(r, multiples = multiples)\n",
        "    gamma_multiplied_by_z = tf.multiply(gamma_duplicated, tf.expand_dims(z_duplicated[:, 1], -1))\n",
        "    nemtom = tf.exp(-tf.math.square(r_duplicated - gamma_multiplied_by_z))\n",
        "    reshaped = tf.reshape(nemtom, [num_points, num_samples])\n",
        "    output = A*tf.reduce_prod(reshaped, axis = 0)\n",
        "    return output\n",
        "  \n",
        "  def f_x_y(gamma):\n",
        "    '''\n",
        "    ezt a fuggvenyt kell atlagolni gamma prior felett, ha ket taskot feltetelezunk\n",
        "    ''' \n",
        "    num_points = z.shape[0]\n",
        "    A = .9**num_points\n",
        "    repeats = [num_points]*num_samples\n",
        "    gamma_duplicated = tf.repeat(gamma, repeats = repeats, axis = 0)\n",
        "    multiples = tf.constant( [num_samples, 1], tf.int32)\n",
        "    z_duplicated = tf.tile(z, multiples=multiples)\n",
        "    r_duplicated = tf.tile(r, multiples = multiples)\n",
        "    gamma_multiplied_by_z = tf.multiply(gamma_duplicated, z_duplicated)\n",
        "    column1 = tf.expand_dims(gamma_multiplied_by_z[:, 0], -1)\n",
        "    column2 = tf.expand_dims(gamma_multiplied_by_z[:, 1], -1)\n",
        "    term1 = tf.exp(-tf.math.square(r_duplicated - column1))\n",
        "    term2 = tf.exp(-tf.math.square(r_duplicated - column2))\n",
        "    concatenated = tf.concat([term1, term2], axis = 1)\n",
        "    avg = tf.reduce_mean(concatenated, axis = 1)\n",
        "    avg_reshaped = tf.reshape(avg, [num_points, num_samples])\n",
        "    output = A*tf.reduce_prod(avg_reshaped, axis = 0)\n",
        "    return output\n",
        "\n",
        "  output = np.zeros((num_of_trials, num_samples_list.shape[0]))\n",
        "  z, r = generate_data(N=N, alpha=alpha, z_prior_type='normal', sigma_z_prior=sigma_z_prior, r_bias=0, sigma_reward=sigma_reward, sigma_bias=0)\n",
        "\n",
        "  for j, num_samples in enumerate(num_samples_list): \n",
        "    if number_of_tasks == 1:\n",
        "      for i in range(num_of_trials):\n",
        "        likelihood = tfp.monte_carlo.expectation(\n",
        "        f=f_x,\n",
        "        samples=p.sample(num_samples, seed=4223432))\n",
        "        output[i, j] = likelihood\n",
        "    else:\n",
        "      for i in range(num_of_trials):\n",
        "        likelihood = tfp.monte_carlo.expectation(\n",
        "        f=f_x_y,\n",
        "        samples=p.sample(num_samples, seed=4223432))\n",
        "        output[i, j] = likelihood\n",
        "    print(num_samples)\n",
        "\n",
        "  return output"
      ],
      "execution_count": null,
      "outputs": []
    },
    {
      "cell_type": "markdown",
      "metadata": {
        "id": "GTxvgtYB8xdQ"
      },
      "source": [
        "Standard deviation és átlagérték hányadosát plotolja:"
      ]
    },
    {
      "cell_type": "code",
      "metadata": {
        "id": "7gGFGKU6FxpE"
      },
      "source": [
        "def plot_variance(output, num_samples_list):\n",
        "  plt.figure(figsize = (10, 8))\n",
        "  var_list = np.sqrt(np.var(output, axis = 0))\n",
        "  mean_list = np.mean(output, axis = 0)\n",
        "  x = np.arange(var_list.shape[0])\n",
        "  plt.plot(x, var_list/mean_list)\n",
        "  plt.xlabel('Number of samples')\n",
        "  plt.ylabel('Variance')\n",
        "  plt.xticks(labels = num_samples_list, ticks = x)\n",
        "  plt.grid()\n",
        "  plt.show()"
      ],
      "execution_count": 11,
      "outputs": []
    },
    {
      "cell_type": "code",
      "metadata": {
        "id": "iHrH9nzq_EBD",
        "outputId": "7dce1e40-d5df-47bf-c8ce-c32863be8db6",
        "colab": {
          "base_uri": "https://localhost:8080/",
          "height": 271
        }
      },
      "source": [
        "number_of_tasks = 2\n",
        "p = tfd.Normal(loc = [0, 0], scale = [1, 1])\n",
        "dataset_size = 100\n",
        "num_of_trials = 30\n",
        "num_samples_list = np.arange(10000, 150000, 10000)\n",
        "sigma_reward = 1\n",
        "alpha = 20\n",
        "output = monte_carlo_test(number_of_tasks, p, num_samples_list, dataset_size , num_of_trials, sigma_reward, alpha)"
      ],
      "execution_count": null,
      "outputs": [
        {
          "output_type": "stream",
          "text": [
            "10000\n",
            "20000\n",
            "30000\n",
            "40000\n",
            "50000\n",
            "60000\n",
            "70000\n",
            "80000\n",
            "90000\n",
            "100000\n",
            "110000\n",
            "120000\n",
            "130000\n",
            "140000\n"
          ],
          "name": "stdout"
        }
      ]
    },
    {
      "cell_type": "code",
      "metadata": {
        "id": "GBIhstFt_EDO",
        "outputId": "d0f5dbf9-84bd-474c-9206-fd2454e62a49",
        "colab": {
          "base_uri": "https://localhost:8080/",
          "height": 497
        }
      },
      "source": [
        "plot_variance(output, num_samples_list)"
      ],
      "execution_count": null,
      "outputs": [
        {
          "output_type": "display_data",
          "data": {
            "image/png": "[encoded data removed]",
            "text/plain": [
              "<Figure size 720x576 with 1 Axes>"
            ]
          },
          "metadata": {
            "tags": [],
            "needs_background": "light"
          }
        }
      ]
    },
    {
      "cell_type": "code",
      "metadata": {
        "id": "YPLj9hA6t8PQ",
        "outputId": "cb6a20b3-f4ae-416d-c64d-8ca0fdc52a3f",
        "colab": {
          "base_uri": "https://localhost:8080/",
          "height": 1000
        }
      },
      "source": [
        "#nums_of_existing_datapoints = np.concatenate((np.arange(1, 15), np.arange(15, 46, 3 ), np.arange(46, 150, 7))) #regi feladatbol erkezo pontok szama\n",
        "#nums_of_existing_datapoints = np.concatenate((np.arange(1, 15), np.arange(15, 50, 3 )))\n",
        "nums_of_existing_datapoints =np.arange(1, 40, 2)\n",
        "#nums_new_task =  np.arange(1, 6)   #uj feladatbol erkezo pontok szama\n",
        "sigma_rewards = np.array([.01]).astype('float32')\n",
        "#reward_slopes = np.arange(1, 4)\n",
        "reward_slopes = np.array([1])\n",
        "\n",
        "\n",
        "n = sigma_rewards.shape[0]\n",
        "l = nums_of_existing_datapoints.shape[0]\n",
        "m = reward_slopes.shape[0]\n",
        "num_new_task = 2\n",
        "\n",
        "p = tfd.Normal(loc=0, scale=1)\n",
        "p2 = tfd.Normal(loc=[0, 0], scale=[1, 1])\n",
        "output_x = np.zeros((n, m, l))\n",
        "output_x_y = np.zeros((n, m, l))\n",
        "\n",
        "N_whole = np.max(np.arange(1, 40, 2)).astype('float32')\n",
        "\n",
        "\n",
        "for i, sigma_reward in enumerate(sigma_rewards):\n",
        "  for j, reward_slope in enumerate(reward_slopes):\n",
        "    z_x_whole, r_x_whole = generate_data(N=N_whole, alpha=90, z_prior_type='normal', sigma_z_prior=sigma_z_prior, r_bias=0, sigma_reward=sigma_reward, sigma_bias=0, reward_slope=reward_slope) # x aligned\n",
        "    z_y = tf.expand_dims(tf.constant([-.2, .7], dtype='float32'), 0)\n",
        "    r_y = generate_reward(sigma_reward, reward_slope, 0, z_y)\n",
        "    for  k, N in enumerate(nums_of_existing_datapoints):\n",
        "      z = tf.concat((z_x_whole[-N:], z_y), axis = 0)\n",
        "      r = tf.concat((r_x_whole[-N:], r_y), axis = 0)\n",
        "      num_samples = 300000\n",
        "      output_x[i, j, k] = tfp.monte_carlo.expectation(\n",
        "        f=f_x,\n",
        "        samples=p.sample(num_samples, seed=4245775422))\n",
        "      output_x_y[i, j, k] = tfp.monte_carlo.expectation(\n",
        "        f=f_x_y,\n",
        "        samples=p2.sample(num_samples, seed=42245542))\n",
        "      print('sigma: %f\\n'%sigma_reward)\n",
        "      print('N: %d\\n'%N)\n",
        "      np.save('output_x.npy', output_x)\n",
        "      np.save('output_x_y.npy', output_x_y)"
      ],
      "execution_count": 30,
      "outputs": [
        {
          "output_type": "stream",
          "text": [
            "tf.Tensor([[-0.1932499]], shape=(1, 1), dtype=float32)\n",
            "sigma: 0.010000\n",
            "\n",
            "N: 1\n",
            "\n",
            "sigma: 0.010000\n",
            "\n",
            "N: 3\n",
            "\n",
            "sigma: 0.010000\n",
            "\n",
            "N: 5\n",
            "\n",
            "sigma: 0.010000\n",
            "\n",
            "N: 7\n",
            "\n",
            "sigma: 0.010000\n",
            "\n",
            "N: 9\n",
            "\n",
            "sigma: 0.010000\n",
            "\n",
            "N: 11\n",
            "\n",
            "sigma: 0.010000\n",
            "\n",
            "N: 13\n",
            "\n",
            "sigma: 0.010000\n",
            "\n",
            "N: 15\n",
            "\n",
            "sigma: 0.010000\n",
            "\n",
            "N: 17\n",
            "\n",
            "sigma: 0.010000\n",
            "\n",
            "N: 19\n",
            "\n",
            "sigma: 0.010000\n",
            "\n",
            "N: 21\n",
            "\n",
            "sigma: 0.010000\n",
            "\n",
            "N: 23\n",
            "\n",
            "sigma: 0.010000\n",
            "\n",
            "N: 25\n",
            "\n",
            "sigma: 0.010000\n",
            "\n",
            "N: 27\n",
            "\n",
            "sigma: 0.010000\n",
            "\n",
            "N: 29\n",
            "\n",
            "sigma: 0.010000\n",
            "\n",
            "N: 31\n",
            "\n",
            "sigma: 0.010000\n",
            "\n",
            "N: 33\n",
            "\n",
            "sigma: 0.010000\n",
            "\n",
            "N: 35\n",
            "\n",
            "sigma: 0.010000\n",
            "\n",
            "N: 37\n",
            "\n",
            "sigma: 0.010000\n",
            "\n",
            "N: 39\n",
            "\n"
          ],
          "name": "stdout"
        }
      ]
    },
    {
      "cell_type": "code",
      "metadata": {
        "id": "S7CoItR94ajk",
        "outputId": "8318b2f7-1da5-4f7a-8cbc-7058f1310a64",
        "colab": {
          "base_uri": "https://localhost:8080/",
          "height": 483
        }
      },
      "source": [
        "plt.figure(figsize = (10, 8))\n",
        "ax = plt.gca()\n",
        "simp = ax.plot(nums_of_existing_datapoints, np.log(output_x[0, 0, :]), label='likelihood of x-aligned model')\n",
        "diff = ax.plot(nums_of_existing_datapoints, np.log(output_x_y[0, 0, :]), label = 'likelihood of mixed model')\n",
        "plt.legend()\n",
        "plt.show()"
      ],
      "execution_count": 31,
      "outputs": [
        {
          "output_type": "display_data",
          "data": {
            "image/png": "[encoded data removed]",
            "text/plain": [
              "<Figure size 720x576 with 1 Axes>"
            ]
          },
          "metadata": {
            "tags": [],
            "needs_background": "light"
          }
        }
      ]
    }
  ]
}