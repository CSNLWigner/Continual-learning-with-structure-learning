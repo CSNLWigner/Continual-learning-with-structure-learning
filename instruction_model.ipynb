{
  "cells": [
    {
      "cell_type": "code",
      "source": [
        "import tensorflow as tf\n",
        "from tensorflow_probability import distributions as tfd\n",
        "import tensorflow_probability as tfp\n",
        "import numpy as np\n",
        "import matplotlib.pyplot as plt\n",
        "import helper\n",
        "import models\n",
        "\n",
        "import matplotlib as mpl\n",
        "import pickle\n",
        "from copy import deepcopy\n",
        "import time\n",
        "#from graphviz import Digraph\n",
        "import itertools\n",
        "from mpl_toolkits.mplot3d import Axes3D\n",
        "from matplotlib import cm\n",
        "import pandas as pd\n",
        "import seaborn as sns\n",
        "from scipy.stats import multivariate_normal"
      ],
      "outputs": [],
      "execution_count": null,
      "metadata": {
        "nteract": {
          "transient": {
            "deleting": false
          }
        },
        "execution": {
          "iopub.status.busy": "2021-06-24T16:55:01.245Z",
          "iopub.execute_input": "2021-06-24T16:55:01.251Z",
          "shell.execute_reply": "2021-06-24T16:55:01.268Z",
          "iopub.status.idle": "2021-06-24T16:55:01.262Z"
        }
      }
    },
    {
      "cell_type": "code",
      "source": [
        "SIGMA_R = .001\n",
        "SIGMA_R_MODEL = .1\n",
        "\n",
        "Tx = 100\n",
        "Ty = Tx\n",
        "\n",
        "Z_PRIOR = \"uniform\" #\"uniform\" / \"informative\" / \"normal\"\n",
        "SIGMA_0_PRIOR = np.array([[1., 0.], [0., 1.]])\n",
        "\n",
        "#pnas: diagonal [north: -45, south: 45]\n",
        "#pnas: cardinal [north: 90, south: 0]\n",
        "#ground-truth-shared: cardinal [north: 180, south: 0]\n",
        "NORTH_ALPHA = 90\n",
        "SOUTH_ALPHA = 0\n",
        "\n",
        "NUM_OF_DATASETS = 20\n"
      ],
      "outputs": [],
      "execution_count": null,
      "metadata": {
        "collapsed": true,
        "jupyter": {
          "source_hidden": false,
          "outputs_hidden": false
        },
        "nteract": {
          "transient": {
            "deleting": false
          }
        },
        "execution": {
          "iopub.status.busy": "2021-06-24T17:19:29.760Z",
          "iopub.execute_input": "2021-06-24T17:19:29.769Z",
          "iopub.status.idle": "2021-06-24T17:19:29.782Z",
          "shell.execute_reply": "2021-06-24T17:19:29.791Z"
        }
      }
    },
    {
      "cell_type": "code",
      "source": [
        "datasets = []\n",
        "mllh_1x2D = []\n",
        "mllh_2x2Ds = []\n",
        "\n",
        "for i in range(NUM_OF_DATASETS):\n",
        "  data1 = helper.generate_data(Tx, alpha=NORTH_ALPHA, context_value=0, z_prior_type=Z_PRIOR, sigma_reward=SIGMA_R)\n",
        "  data2 = helper.generate_data(Ty, alpha=SOUTH_ALPHA, context_value=1, z_prior_type=Z_PRIOR, sigma_reward=SIGMA_R)\n",
        "  \n",
        "  true_data = helper.concatenate_data(data1, data2)\n",
        "  interleaved_indices = helper.riffle(np.arange(Tx+Ty)[:Tx],np.arange(Tx+Ty)[Tx:])\n",
        "  true_data = helper.reorder_data(true_data,interleaved_indices)\n",
        "  \n",
        "  mllh_1x2D.append(models.mllh_analytic_1x2D(true_data, SIGMA_R_MODEL, Sigma_0 = SIGMA_0_PRIOR))\n",
        "  mllh_2x2Ds.append(models.mllh_analytic_2x2D_shared(true_data, SIGMA_R_MODEL, Sigma_0 = SIGMA_0_PRIOR))\n",
        "  datasets.append(true_data)"
      ],
      "outputs": [],
      "execution_count": null,
      "metadata": {
        "collapsed": true,
        "jupyter": {
          "source_hidden": false,
          "outputs_hidden": false
        },
        "nteract": {
          "transient": {
            "deleting": false
          }
        },
        "execution": {
          "iopub.status.busy": "2021-06-24T17:19:29.967Z",
          "iopub.execute_input": "2021-06-24T17:19:29.977Z",
          "shell.execute_reply": "2021-06-24T17:19:31.274Z",
          "iopub.status.idle": "2021-06-24T17:19:31.299Z"
        }
      }
    },
    {
      "cell_type": "code",
      "source": [
        "plt.plot([mllh_1x2D[0],mllh_2x2Ds[0]])\n",
        "plt.yscale('log')\n"
      ],
      "outputs": [],
      "execution_count": null,
      "metadata": {
        "collapsed": true,
        "jupyter": {
          "source_hidden": false,
          "outputs_hidden": false
        },
        "nteract": {
          "transient": {
            "deleting": false
          }
        },
        "execution": {
          "iopub.status.busy": "2021-06-24T17:19:31.311Z",
          "iopub.execute_input": "2021-06-24T17:19:31.318Z",
          "shell.execute_reply": "2021-06-24T17:19:31.495Z",
          "iopub.status.idle": "2021-06-24T17:19:31.519Z"
        }
      }
    },
    {
      "cell_type": "code",
      "source": [
        "helper.plot_data(datasets[0], limit=1)"
      ],
      "outputs": [],
      "execution_count": null,
      "metadata": {
        "collapsed": true,
        "jupyter": {
          "source_hidden": false,
          "outputs_hidden": false
        },
        "nteract": {
          "transient": {
            "deleting": false
          }
        },
        "execution": {
          "iopub.status.busy": "2021-06-24T17:19:31.531Z",
          "iopub.execute_input": "2021-06-24T17:19:31.537Z",
          "iopub.status.idle": "2021-06-24T17:19:31.685Z",
          "shell.execute_reply": "2021-06-24T17:19:31.672Z"
        }
      }
    },
    {
      "cell_type": "code",
      "source": [
        "plt.plot([mllh_1x2D,mllh_2x2Ds])\n",
        "plt.yscale('log')\n",
        "plt.xlabel('0 = 1x2D, 1 = 2x2D-shared')\n",
        "plt.ylabel('log mllh')\n",
        "plt.show()"
      ],
      "outputs": [],
      "execution_count": null,
      "metadata": {
        "collapsed": false,
        "jupyter": {
          "source_hidden": false,
          "outputs_hidden": false
        },
        "nteract": {
          "transient": {
            "deleting": false
          }
        },
        "execution": {
          "iopub.status.busy": "2021-06-24T17:19:31.697Z",
          "iopub.execute_input": "2021-06-24T17:19:31.704Z",
          "iopub.status.idle": "2021-06-24T17:19:31.896Z",
          "shell.execute_reply": "2021-06-24T17:19:31.925Z"
        }
      }
    },
    {
      "cell_type": "code",
      "source": [
        "plt.plot(np.array([mllh_1x2D,mllh_2x2Ds]).T)\n",
        "plt.yscale('log')\n",
        "plt.xlabel('0 = 1x2D, 1 = 2x2D-shared')\n",
        "plt.ylabel('log mllh')\n",
        "plt.show()"
      ],
      "outputs": [],
      "execution_count": null,
      "metadata": {
        "collapsed": true,
        "jupyter": {
          "source_hidden": false,
          "outputs_hidden": false
        },
        "nteract": {
          "transient": {
            "deleting": false
          }
        },
        "execution": {
          "iopub.status.busy": "2021-06-24T17:19:31.907Z",
          "iopub.execute_input": "2021-06-24T17:19:31.914Z",
          "iopub.status.idle": "2021-06-24T17:19:32.096Z",
          "shell.execute_reply": "2021-06-24T17:19:32.089Z"
        }
      }
    },
    {
      "cell_type": "code",
      "source": [
        "samples = models.mllh_analytic_2x2D_shared(true_data, SIGMA_R_MODEL, Sigma_0 = SIGMA_0_PRIOR, return_posterior=True)['mu_is']"
      ],
      "outputs": [],
      "execution_count": null,
      "metadata": {
        "collapsed": true,
        "jupyter": {
          "source_hidden": false,
          "outputs_hidden": false
        },
        "nteract": {
          "transient": {
            "deleting": false
          }
        },
        "execution": {
          "iopub.status.busy": "2021-06-24T17:20:06.971Z",
          "iopub.execute_input": "2021-06-24T17:20:06.977Z",
          "iopub.status.idle": "2021-06-24T17:20:06.988Z",
          "shell.execute_reply": "2021-06-24T17:20:07.000Z"
        }
      }
    },
    {
      "cell_type": "code",
      "source": [
        "ax = plt.axes()\n",
        "[ax.arrow(0, 0, sample[0], sample[1], head_width=0.02, head_length=0.05, fc='k', ec='k') for sample in samples]\n",
        "plt.xlim([-1,1])\n",
        "plt.ylim([-1,1])\n",
        "plt.gca().set_aspect('equal')\n",
        "plt.show()"
      ],
      "outputs": [],
      "execution_count": null,
      "metadata": {
        "collapsed": true,
        "jupyter": {
          "source_hidden": false,
          "outputs_hidden": false
        },
        "nteract": {
          "transient": {
            "deleting": false
          }
        },
        "execution": {
          "iopub.status.busy": "2021-06-24T17:19:32.176Z",
          "iopub.execute_input": "2021-06-24T17:19:32.182Z",
          "shell.execute_reply": "2021-06-24T17:19:32.441Z",
          "iopub.status.idle": "2021-06-24T17:19:32.402Z"
        }
      }
    },
    {
      "cell_type": "code",
      "source": [
        "helper.plot_data(true_data, limit=1)"
      ],
      "outputs": [],
      "execution_count": null,
      "metadata": {
        "collapsed": true,
        "jupyter": {
          "source_hidden": false,
          "outputs_hidden": false
        },
        "nteract": {
          "transient": {
            "deleting": false
          }
        },
        "execution": {
          "iopub.status.busy": "2021-06-24T17:19:32.415Z",
          "iopub.execute_input": "2021-06-24T17:19:32.421Z",
          "shell.execute_reply": "2021-06-24T17:19:32.594Z",
          "iopub.status.idle": "2021-06-24T17:19:32.566Z"
        }
      }
    },
    {
      "cell_type": "code",
      "source": [
        "ax = plt.axes()\n",
        "ax.arrow(0, 0, samples[-1][0], samples[-1][1], head_width=0.02, head_length=0.05, fc='k', ec='k') \n",
        "plt.xlim([-1,1])\n",
        "plt.ylim([-1,1])\n",
        "plt.gca().set_aspect('equal')\n",
        "plt.show()"
      ],
      "outputs": [],
      "execution_count": null,
      "metadata": {
        "collapsed": true,
        "jupyter": {
          "source_hidden": false,
          "outputs_hidden": false
        },
        "nteract": {
          "transient": {
            "deleting": false
          }
        },
        "execution": {
          "iopub.status.busy": "2021-06-24T17:19:32.577Z",
          "iopub.execute_input": "2021-06-24T17:19:32.583Z",
          "shell.execute_reply": "2021-06-24T17:19:32.692Z",
          "iopub.status.idle": "2021-06-24T17:19:32.669Z"
        }
      }
    },
    {
      "cell_type": "code",
      "source": [
        "plt.plot(np.array(samples))\n",
        "plt.gca().legend(('gamma_1','gamma_2'))\n",
        "plt.show()"
      ],
      "outputs": [],
      "execution_count": null,
      "metadata": {
        "collapsed": true,
        "jupyter": {
          "source_hidden": false,
          "outputs_hidden": false
        },
        "nteract": {
          "transient": {
            "deleting": false
          }
        },
        "execution": {
          "iopub.status.busy": "2021-06-24T17:19:32.679Z",
          "iopub.execute_input": "2021-06-24T17:19:32.685Z",
          "iopub.status.idle": "2021-06-24T17:19:32.788Z",
          "shell.execute_reply": "2021-06-24T17:19:32.795Z"
        }
      }
    },
    {
      "cell_type": "code",
      "source": [],
      "outputs": [],
      "execution_count": null,
      "metadata": {
        "collapsed": true,
        "jupyter": {
          "source_hidden": false,
          "outputs_hidden": false
        },
        "nteract": {
          "transient": {
            "deleting": false
          }
        }
      }
    },
    {
      "cell_type": "code",
      "source": [],
      "outputs": [],
      "execution_count": null,
      "metadata": {
        "collapsed": true,
        "jupyter": {
          "source_hidden": false,
          "outputs_hidden": false
        },
        "nteract": {
          "transient": {
            "deleting": false
          }
        }
      }
    },
    {
      "cell_type": "code",
      "source": [],
      "outputs": [],
      "execution_count": null,
      "metadata": {
        "collapsed": true,
        "jupyter": {
          "source_hidden": false,
          "outputs_hidden": false
        },
        "nteract": {
          "transient": {
            "deleting": false
          }
        }
      }
    },
    {
      "cell_type": "code",
      "source": [],
      "outputs": [],
      "execution_count": null,
      "metadata": {
        "collapsed": true,
        "jupyter": {
          "source_hidden": false,
          "outputs_hidden": false
        },
        "nteract": {
          "transient": {
            "deleting": false
          }
        }
      }
    },
    {
      "cell_type": "code",
      "source": [],
      "outputs": [],
      "execution_count": null,
      "metadata": {
        "collapsed": true,
        "jupyter": {
          "source_hidden": false,
          "outputs_hidden": false
        },
        "nteract": {
          "transient": {
            "deleting": false
          }
        }
      }
    },
    {
      "cell_type": "code",
      "source": [],
      "outputs": [],
      "execution_count": null,
      "metadata": {
        "collapsed": true,
        "jupyter": {
          "source_hidden": false,
          "outputs_hidden": false
        },
        "nteract": {
          "transient": {
            "deleting": false
          }
        }
      }
    },
    {
      "cell_type": "code",
      "source": [],
      "outputs": [],
      "execution_count": null,
      "metadata": {
        "collapsed": true,
        "jupyter": {
          "source_hidden": false,
          "outputs_hidden": false
        },
        "nteract": {
          "transient": {
            "deleting": false
          }
        }
      }
    }
  ],
  "metadata": {
    "kernel_info": {
      "name": "python3"
    },
    "kernelspec": {
      "display_name": "Python 3",
      "language": "python",
      "name": "python3"
    },
    "language_info": {
      "name": "python",
      "version": "3.6.5",
      "mimetype": "text/x-python",
      "codemirror_mode": {
        "name": "ipython",
        "version": 3
      },
      "pygments_lexer": "ipython3",
      "nbconvert_exporter": "python",
      "file_extension": ".py"
    },
    "nteract": {
      "version": "0.28.0"
    }
  },
  "nbformat": 4,
  "nbformat_minor": 4
}