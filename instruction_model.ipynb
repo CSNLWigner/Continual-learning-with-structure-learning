{
  "cells": [
    {
      "cell_type": "code",
      "source": [
        "import tensorflow as tf\n",
        "from tensorflow_probability import distributions as tfd\n",
        "import tensorflow_probability as tfp\n",
        "import numpy as np\n",
        "import matplotlib.pyplot as plt\n",
        "import helper\n",
        "import models\n",
        "\n",
        "import matplotlib as mpl\n",
        "import pickle\n",
        "from copy import deepcopy\n",
        "import time\n",
        "#from graphviz import Digraph\n",
        "import itertools\n",
        "from mpl_toolkits.mplot3d import Axes3D\n",
        "from matplotlib import cm\n",
        "import pandas as pd\n",
        "import seaborn as sns\n",
        "from scipy.stats import multivariate_normal"
      ],
      "outputs": [],
      "execution_count": null,
      "metadata": {
        "nteract": {
          "transient": {
            "deleting": false
          }
        },
        "execution": {
          "iopub.status.busy": "2021-06-23T09:29:40.103Z",
          "iopub.execute_input": "2021-06-23T09:29:40.108Z",
          "shell.execute_reply": "2021-06-23T09:29:40.431Z",
          "iopub.status.idle": "2021-06-23T09:29:40.443Z"
        }
      }
    },
    {
      "cell_type": "code",
      "source": [
        "SIGMA_R = .001\n",
        "SIGMA_R_MODEL = .2\n",
        "\n",
        "Tx = 100\n",
        "Ty = Tx\n",
        "\n",
        "Z_PRIOR = \"uniform\" #\"uniform\" / \"informative\"\n",
        "SIGMA_0_PRIOR = np.array([[1., 0.], [0., 1.]])"
      ],
      "outputs": [],
      "execution_count": null,
      "metadata": {
        "collapsed": true,
        "jupyter": {
          "source_hidden": false,
          "outputs_hidden": false
        },
        "nteract": {
          "transient": {
            "deleting": false
          }
        },
        "execution": {
          "iopub.status.busy": "2021-06-23T10:06:55.859Z",
          "iopub.execute_input": "2021-06-23T10:06:55.869Z",
          "iopub.status.idle": "2021-06-23T10:06:55.881Z",
          "shell.execute_reply": "2021-06-23T10:06:55.890Z"
        }
      }
    },
    {
      "cell_type": "code",
      "source": [
        "data1 = helper.generate_data(100, alpha=90, context_value=0, z_prior_type=Z_PRIOR, sigma_reward=SIGMA_R)\n",
        "data2 = helper.generate_data(100, alpha=0, context_value=1, z_prior_type=Z_PRIOR, sigma_reward=SIGMA_R)\n",
        "true_data = helper.concatenate_data(data1, data2)"
      ],
      "outputs": [],
      "execution_count": null,
      "metadata": {
        "collapsed": true,
        "jupyter": {
          "source_hidden": false,
          "outputs_hidden": false
        },
        "nteract": {
          "transient": {
            "deleting": false
          }
        },
        "execution": {
          "iopub.status.busy": "2021-06-23T10:07:25.654Z",
          "iopub.execute_input": "2021-06-23T10:07:25.660Z",
          "iopub.status.idle": "2021-06-23T10:07:25.667Z",
          "shell.execute_reply": "2021-06-23T10:07:25.678Z"
        }
      }
    },
    {
      "cell_type": "code",
      "source": [
        "helper.plot_data(data1, limit=1)"
      ],
      "outputs": [],
      "execution_count": null,
      "metadata": {
        "collapsed": true,
        "jupyter": {
          "source_hidden": false,
          "outputs_hidden": false
        },
        "nteract": {
          "transient": {
            "deleting": false
          }
        },
        "execution": {
          "iopub.status.busy": "2021-06-23T10:07:25.862Z",
          "iopub.execute_input": "2021-06-23T10:07:25.867Z",
          "shell.execute_reply": "2021-06-23T10:07:26.037Z",
          "iopub.status.idle": "2021-06-23T10:07:26.016Z"
        }
      }
    },
    {
      "cell_type": "code",
      "source": [
        "helper.plot_data(data2, limit=1)"
      ],
      "outputs": [],
      "execution_count": null,
      "metadata": {
        "collapsed": true,
        "jupyter": {
          "source_hidden": false,
          "outputs_hidden": false
        },
        "nteract": {
          "transient": {
            "deleting": false
          }
        },
        "execution": {
          "iopub.status.busy": "2021-06-23T10:07:26.025Z",
          "iopub.execute_input": "2021-06-23T10:07:26.031Z",
          "shell.execute_reply": "2021-06-23T10:07:26.172Z",
          "iopub.status.idle": "2021-06-23T10:07:26.189Z"
        }
      }
    },
    {
      "cell_type": "code",
      "source": [
        "helper.plot_data(true_data, limit=1)"
      ],
      "outputs": [],
      "execution_count": null,
      "metadata": {
        "collapsed": true,
        "jupyter": {
          "source_hidden": false,
          "outputs_hidden": false
        },
        "nteract": {
          "transient": {
            "deleting": false
          }
        },
        "execution": {
          "iopub.status.busy": "2021-06-23T10:07:26.198Z",
          "iopub.execute_input": "2021-06-23T10:07:26.205Z",
          "iopub.status.idle": "2021-06-23T10:07:26.358Z",
          "shell.execute_reply": "2021-06-23T10:07:26.351Z"
        }
      }
    },
    {
      "cell_type": "code",
      "source": [
        "plt.plot([models.mllh_analytic_1x2D(true_data, SIGMA_R_MODEL, Sigma_0 = SIGMA_0_PRIOR),models.mllh_analytic_2x2D_shared(true_data, SIGMA_R_MODEL, Sigma_0 = SIGMA_0_PRIOR)])"
      ],
      "outputs": [],
      "execution_count": null,
      "metadata": {
        "collapsed": true,
        "jupyter": {
          "source_hidden": false,
          "outputs_hidden": false
        },
        "nteract": {
          "transient": {
            "deleting": false
          }
        },
        "execution": {
          "iopub.status.busy": "2021-06-23T10:07:26.366Z",
          "iopub.execute_input": "2021-06-23T10:07:26.372Z",
          "shell.execute_reply": "2021-06-23T10:07:26.506Z",
          "iopub.status.idle": "2021-06-23T10:07:26.513Z"
        }
      }
    },
    {
      "cell_type": "code",
      "source": [
        "models.mllh_analytic_1x2D(true_data, SIGMA_R_MODEL, Sigma_0 = SIGMA_0_PRIOR)"
      ],
      "outputs": [],
      "execution_count": null,
      "metadata": {
        "collapsed": true,
        "jupyter": {
          "source_hidden": false,
          "outputs_hidden": false
        },
        "nteract": {
          "transient": {
            "deleting": false
          }
        },
        "execution": {
          "iopub.status.busy": "2021-06-23T10:07:28.100Z",
          "iopub.execute_input": "2021-06-23T10:07:28.107Z",
          "iopub.status.idle": "2021-06-23T10:07:28.120Z",
          "shell.execute_reply": "2021-06-23T10:07:28.134Z"
        }
      }
    },
    {
      "cell_type": "code",
      "source": [
        "models.mllh_analytic_2x2D_shared(true_data, SIGMA_R_MODEL, Sigma_0 = SIGMA_0_PRIOR)"
      ],
      "outputs": [],
      "execution_count": null,
      "metadata": {
        "collapsed": true,
        "jupyter": {
          "source_hidden": false,
          "outputs_hidden": false
        },
        "nteract": {
          "transient": {
            "deleting": false
          }
        },
        "execution": {
          "iopub.status.busy": "2021-06-23T10:06:35.517Z",
          "iopub.execute_input": "2021-06-23T10:06:35.523Z",
          "iopub.status.idle": "2021-06-23T10:06:35.538Z",
          "shell.execute_reply": "2021-06-23T10:06:35.546Z"
        }
      }
    },
    {
      "cell_type": "code",
      "source": [
        "NUM_OF_DATASETS = 20\n",
        "datasets = []\n",
        "mllh_1x2D = []\n",
        "mllh_2x2Ds = []\n",
        "\n",
        "for i in range(NUM_OF_DATASETS):\n",
        "  data1 = helper.generate_data(Tx, alpha=90, context_value=0, z_prior_type=Z_PRIOR, sigma_reward=SIGMA_R)\n",
        "  data2 = helper.generate_data(Ty, alpha=0, context_value=1, z_prior_type=Z_PRIOR, sigma_reward=SIGMA_R)\n",
        "  true_data = helper.concatenate_data(data1, data2)\n",
        "  mllh_1x2D.append(models.mllh_analytic_1x2D(true_data, SIGMA_R_MODEL, Sigma_0 = SIGMA_0_PRIOR))\n",
        "  mllh_2x2Ds.append(models.mllh_analytic_2x2D_shared(true_data, SIGMA_R_MODEL, Sigma_0 = SIGMA_0_PRIOR))\n",
        "  datasets.append(true_data)"
      ],
      "outputs": [],
      "execution_count": null,
      "metadata": {
        "collapsed": true,
        "jupyter": {
          "source_hidden": false,
          "outputs_hidden": false
        },
        "nteract": {
          "transient": {
            "deleting": false
          }
        },
        "execution": {
          "iopub.status.busy": "2021-06-23T10:06:59.798Z",
          "iopub.execute_input": "2021-06-23T10:06:59.807Z",
          "shell.execute_reply": "2021-06-23T10:07:01.040Z",
          "iopub.status.idle": "2021-06-23T10:07:01.051Z"
        }
      }
    },
    {
      "cell_type": "code",
      "source": [
        "plt.plot([mllh_1x2D[0],mllh_2x2Ds[0]])\n",
        "plt.yscale('log')\n"
      ],
      "outputs": [],
      "execution_count": null,
      "metadata": {
        "collapsed": true,
        "jupyter": {
          "source_hidden": false,
          "outputs_hidden": false
        },
        "nteract": {
          "transient": {
            "deleting": false
          }
        },
        "execution": {
          "iopub.status.busy": "2021-06-23T10:07:01.065Z",
          "iopub.execute_input": "2021-06-23T10:07:01.073Z",
          "shell.execute_reply": "2021-06-23T10:07:01.255Z",
          "iopub.status.idle": "2021-06-23T10:07:01.279Z"
        }
      }
    },
    {
      "cell_type": "code",
      "source": [
        "helper.plot_data(datasets[0], limit=1)"
      ],
      "outputs": [],
      "execution_count": null,
      "metadata": {
        "collapsed": true,
        "jupyter": {
          "source_hidden": false,
          "outputs_hidden": false
        },
        "nteract": {
          "transient": {
            "deleting": false
          }
        },
        "execution": {
          "iopub.status.busy": "2021-06-23T10:07:01.288Z",
          "iopub.execute_input": "2021-06-23T10:07:01.294Z",
          "iopub.status.idle": "2021-06-23T10:07:01.462Z",
          "shell.execute_reply": "2021-06-23T10:07:01.454Z"
        }
      }
    },
    {
      "cell_type": "code",
      "source": [
        "plt.plot([mllh_1x2D,mllh_2x2Ds])\n",
        "plt.yscale('log')\n",
        "plt.xlabel('0 = 1x2D, 1 = 2x2D-shared')\n",
        "plt.ylabel('log mllh')\n",
        "plt.show()"
      ],
      "outputs": [],
      "execution_count": null,
      "metadata": {
        "collapsed": false,
        "jupyter": {
          "source_hidden": false,
          "outputs_hidden": false
        },
        "nteract": {
          "transient": {
            "deleting": false
          }
        },
        "execution": {
          "iopub.status.busy": "2021-06-23T10:07:02.042Z",
          "iopub.execute_input": "2021-06-23T10:07:02.050Z",
          "iopub.status.idle": "2021-06-23T10:07:02.234Z",
          "shell.execute_reply": "2021-06-23T10:07:02.226Z"
        }
      }
    },
    {
      "cell_type": "code",
      "source": [
        "plt.plot(np.array([mllh_1x2D,mllh_2x2Ds]).T)\n",
        "plt.yscale('log')\n",
        "plt.xlabel('0 = 1x2D, 1 = 2x2D-shared')\n",
        "plt.ylabel('log mllh')\n",
        "plt.show()"
      ],
      "outputs": [],
      "execution_count": null,
      "metadata": {
        "collapsed": true,
        "jupyter": {
          "source_hidden": false,
          "outputs_hidden": false
        },
        "nteract": {
          "transient": {
            "deleting": false
          }
        },
        "execution": {
          "iopub.status.busy": "2021-06-23T10:07:36.622Z",
          "iopub.execute_input": "2021-06-23T10:07:36.629Z",
          "iopub.status.idle": "2021-06-23T10:07:36.911Z",
          "shell.execute_reply": "2021-06-23T10:07:36.903Z"
        }
      }
    },
    {
      "cell_type": "code",
      "source": [],
      "outputs": [],
      "execution_count": null,
      "metadata": {
        "collapsed": true,
        "jupyter": {
          "source_hidden": false,
          "outputs_hidden": false
        },
        "nteract": {
          "transient": {
            "deleting": false
          }
        }
      }
    }
  ],
  "metadata": {
    "kernel_info": {
      "name": "python3"
    },
    "kernelspec": {
      "display_name": "Python 3",
      "language": "python",
      "name": "python3"
    },
    "language_info": {
      "name": "python",
      "version": "3.6.5",
      "mimetype": "text/x-python",
      "codemirror_mode": {
        "name": "ipython",
        "version": 3
      },
      "pygments_lexer": "ipython3",
      "nbconvert_exporter": "python",
      "file_extension": ".py"
    },
    "nteract": {
      "version": "0.28.0"
    }
  },
  "nbformat": 4,
  "nbformat_minor": 4
}