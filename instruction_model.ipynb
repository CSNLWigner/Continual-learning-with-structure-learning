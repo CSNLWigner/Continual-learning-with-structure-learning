{
 "cells": [
  {
   "cell_type": "code",
   "execution_count": null,
   "metadata": {
    "nteract": {
     "transient": {
      "deleting": false
     }
    }
   },
   "outputs": [],
   "source": [
    "import tensorflow as tf\n",
    "from tensorflow_probability import distributions as tfd\n",
    "import tensorflow_probability as tfp\n",
    "import numpy as np\n",
    "import matplotlib.pyplot as plt\n",
    "import helper\n",
    "import models\n",
    "\n",
    "import matplotlib as mpl\n",
    "import pickle\n",
    "from copy import deepcopy\n",
    "import time\n",
    "#from graphviz import Digraph\n",
    "import itertools\n",
    "from mpl_toolkits.mplot3d import Axes3D\n",
    "from matplotlib import cm\n",
    "import pandas as pd\n",
    "import seaborn as sns\n",
    "from scipy.stats import multivariate_normal"
   ]
  },
  {
   "cell_type": "code",
   "execution_count": null,
   "metadata": {
    "nteract": {
     "transient": {
      "deleting": false
     }
    }
   },
   "outputs": [],
   "source": [
    "SIGMA_R = .001\n",
    "SIGMA_R_MODEL = .2\n",
    "\n",
    "Tx = 5\n",
    "Ty = Tx\n",
    "\n",
    "Z_PRIOR = \"uniform\" #\"uniform\" / \"informative\" / \"normal\"\n",
    "SIGMA_0_PRIOR = np.array([[1., 0.], [0., 1.]])\n",
    "\n",
    "#pnas: diagonal [north: -45, south: 45]\n",
    "#pnas: cardinal [north: 90, south: 0]\n",
    "#ground-truth-shared: cardinal [north: 180, south: 0]\n",
    "NORTH_ALPHA = 90\n",
    "SOUTH_ALPHA = 0\n",
    "\n",
    "NUM_OF_DATASETS = 10\n"
   ]
  },
  {
   "cell_type": "code",
   "execution_count": null,
   "metadata": {
    "nteract": {
     "transient": {
      "deleting": false
     }
    }
   },
   "outputs": [],
   "source": [
    "datasets = []\n",
    "mllh_1x2D = []\n",
    "mllh_2x2Ds = []\n",
    "mllh_2x1D = []\n",
    "mllh_2x1Doc = []\n",
    "\n",
    "for i in range(NUM_OF_DATASETS):\n",
    "    data1 = helper.generate_data(Tx, alpha=NORTH_ALPHA, context_value=0, z_prior_type=Z_PRIOR, sigma_reward=SIGMA_R)\n",
    "    data2 = helper.generate_data(Ty, alpha=SOUTH_ALPHA, context_value=1, z_prior_type=Z_PRIOR, sigma_reward=SIGMA_R)\n",
    "\n",
    "    true_data = helper.concatenate_data(data1, data2)\n",
    "    #interleaved_indices = helper.riffle(np.arange(Tx+Ty)[:Tx],np.arange(Tx+Ty)[Tx:])\n",
    "    #true_data = helper.reorder_data(true_data,interleaved_indices)\n",
    "\n",
    "    mllh_1x2D.append(models.mllh_analytic_1x2D(true_data, SIGMA_R_MODEL, Sigma_0 = SIGMA_0_PRIOR))\n",
    "    mllh_2x2Ds.append(models.mllh_analytic_2x2D_shared(true_data, SIGMA_R_MODEL, Sigma_0 = SIGMA_0_PRIOR))\n",
    "    mllh_2x1D.append(models.mllh_analytic_2x1D(true_data, SIGMA_R_MODEL))\n",
    "    mllh_2x1Doc.append(models.mllh_analytic_2x1D_observed_context(true_data, SIGMA_R_MODEL))\n",
    "    datasets.append(true_data)"
   ]
  },
  {
   "cell_type": "code",
   "execution_count": null,
   "metadata": {
    "nteract": {
     "transient": {
      "deleting": false
     }
    }
   },
   "outputs": [],
   "source": [
    "plt.plot([mllh_1x2D[0],mllh_2x2Ds[0]])\n",
    "plt.yscale('log')"
   ]
  },
  {
   "cell_type": "code",
   "execution_count": null,
   "metadata": {
    "nteract": {
     "transient": {
      "deleting": false
     }
    }
   },
   "outputs": [],
   "source": [
    "helper.plot_data(datasets[0], limit=1)"
   ]
  },
  {
   "cell_type": "code",
   "execution_count": null,
   "metadata": {
    "collapsed": false,
    "jupyter": {
     "outputs_hidden": false,
     "source_hidden": false
    },
    "nteract": {
     "transient": {
      "deleting": false
     }
    }
   },
   "outputs": [],
   "source": [
    "plt.plot([mllh_2x1D,mllh_2x1Doc,mllh_1x2D,mllh_2x2Ds])\n",
    "plt.yscale('log')\n",
    "plt.xlabel('0 = 2x1D, 1 = 2x1D-observed context, 2 = 1x2D, 3 = 2x2D-shared')\n",
    "plt.ylabel('mllh')\n",
    "plt.show()"
   ]
  },
  {
   "cell_type": "code",
   "execution_count": null,
   "metadata": {
    "nteract": {
     "transient": {
      "deleting": false
     }
    }
   },
   "outputs": [],
   "source": [
    "plt.plot(np.array([mllh_2x1D,mllh_2x1Doc,mllh_1x2D,mllh_2x2Ds]).T)\n",
    "plt.yscale('log')\n",
    "plt.legend(['2x1D','2x1D observed context','1x2D','2x2D shared'])\n",
    "plt.ylabel('mllh at T')\n",
    "plt.xlabel('dataset index')\n",
    "plt.show()"
   ]
  },
  {
   "cell_type": "code",
   "execution_count": null,
   "metadata": {
    "nteract": {
     "transient": {
      "deleting": false
     }
    }
   },
   "outputs": [],
   "source": [
    "posterior_2x2ds = models.mllh_analytic_2x2D_shared(true_data, SIGMA_R_MODEL, Sigma_0 = SIGMA_0_PRIOR, return_posterior=True)['mu_is']\n",
    "posterior_1x2d = models.mllh_analytic_1x2D(true_data, SIGMA_R_MODEL, Sigma_0 = SIGMA_0_PRIOR, return_posterior=True)['mu_is']"
   ]
  },
  {
   "cell_type": "code",
   "execution_count": null,
   "metadata": {
    "nteract": {
     "transient": {
      "deleting": false
     }
    }
   },
   "outputs": [],
   "source": [
    "ax = plt.axes()\n",
    "[ax.arrow(0, 0, sample[0], sample[1], head_width=0.02, head_length=0.05, fc='k', ec='k') for sample in posterior_2x2ds]\n",
    "plt.xlim([-1,1])\n",
    "plt.ylim([-1,1])\n",
    "plt.gca().set_aspect('equal')\n",
    "plt.show()"
   ]
  },
  {
   "cell_type": "code",
   "execution_count": null,
   "metadata": {
    "nteract": {
     "transient": {
      "deleting": false
     }
    }
   },
   "outputs": [],
   "source": [
    "helper.plot_data(true_data, limit=1)"
   ]
  },
  {
   "cell_type": "code",
   "execution_count": null,
   "metadata": {
    "nteract": {
     "transient": {
      "deleting": false
     }
    }
   },
   "outputs": [],
   "source": [
    "ax = plt.axes()\n",
    "ax.arrow(0, 0, posterior_2x2ds[-1][0], posterior_2x2ds[-1][1], head_width=0.02, head_length=0.05, fc='b', ec='b')\n",
    "ax.arrow(0, 0, posterior_1x2d[-1][0], posterior_1x2d[-1][1], head_width=0.02, head_length=0.05, fc='g', ec='g') \n",
    "plt.xlim([-1,1])\n",
    "plt.ylim([-1,1])\n",
    "plt.gca().set_aspect('equal')\n",
    "plt.legend(('2x2D-S','1x2D'))\n",
    "plt.show()"
   ]
  },
  {
   "cell_type": "code",
   "execution_count": null,
   "metadata": {
    "nteract": {
     "transient": {
      "deleting": false
     }
    }
   },
   "outputs": [],
   "source": [
    "plt.plot(np.array(posterior_2x2ds))\n",
    "plt.gca().legend(('gamma_1','gamma_2'))\n",
    "plt.show()"
   ]
  },
  {
   "cell_type": "code",
   "execution_count": null,
   "metadata": {},
   "outputs": [],
   "source": [
    "helper.gamma_from_alpha(0)"
   ]
  },
  {
   "cell_type": "code",
   "execution_count": null,
   "metadata": {},
   "outputs": [],
   "source": []
  }
 ],
 "metadata": {
  "kernel_info": {
   "name": "python3"
  },
  "kernelspec": {
   "display_name": "Python 3",
   "language": "python",
   "name": "python3"
  },
  "language_info": {
   "codemirror_mode": {
    "name": "ipython",
    "version": 3
   },
   "file_extension": ".py",
   "mimetype": "text/x-python",
   "name": "python",
   "nbconvert_exporter": "python",
   "pygments_lexer": "ipython3",
   "version": "3.6.5"
  },
  "nteract": {
   "version": "0.28.0"
  }
 },
 "nbformat": 4,
 "nbformat_minor": 4
}
