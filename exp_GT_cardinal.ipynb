{
 "cells": [
  {
   "cell_type": "code",
   "execution_count": null,
   "metadata": {},
   "outputs": [],
   "source": [
    "import numpy as np\n",
    "import tensorflow as tf\n",
    "import matplotlib.pyplot as plt\n",
    "\n",
    "import helper_mate as h\n",
    "import helper as hd\n",
    "from colorscheme import *\n",
    "\n",
    "from gt_learner import GT_learner"
   ]
  },
  {
   "cell_type": "code",
   "execution_count": null,
   "metadata": {},
   "outputs": [],
   "source": [
    "# Data parameters\n",
    "BLOCK_SIZE = 20\n",
    "N_BATCHES = 1\n",
    "ALPHA_LIST = [0,90]\n",
    "\n",
    "# Agent parameters\n",
    "SIGMA_R = 0.8"
   ]
  },
  {
   "cell_type": "code",
   "execution_count": null,
   "metadata": {},
   "outputs": [],
   "source": [
    "# Generate data\n",
    "data = h.generate_batch_data(ALPHA_LIST, BLOCK_SIZE, N_BATCHES);\n",
    "\n",
    "# Plot data\n",
    "data_block1, data_block2 = hd.split_data(data,BLOCK_SIZE)\n",
    "data_list = [data_block1, data_block2, data]\n",
    "hd.plot_data_subplots(data_list, labels=False, limit=2.5, figsize=(12,4), titles=['Block 1', 'Block 2', 'All data'])"
   ]
  },
  {
   "cell_type": "code",
   "execution_count": null,
   "metadata": {},
   "outputs": [],
   "source": [
    "# Define models to be tested\n",
    "model_set = ['x', 'y', '1x2D', '2x1D_bg']\n",
    "\n",
    "# Compute GT learner\n",
    "result = GT_learner(data, SIGMA_R, model_set)\n",
    "\n",
    "# Plot results\n",
    "hd.plot_mmllh_curves(result, model_set, T=len(data['c']), color_dict=model_colors_gergo, markersize=6, figsize=(9,4), data=data)\n"
   ]
  },
  {
   "cell_type": "code",
   "execution_count": null,
   "metadata": {},
   "outputs": [],
   "source": [
    "plt.plot(np.log(result['y']['mmllh'].T))\n",
    "plt.plot(np.log(result['2x1D_bg']['mmllh'].T))\n",
    "plt.gcf().set_size_inches((8,2))\n",
    "plt.ylabel('log mllh')\n",
    "plt.legend(['y','2x1D_bg'])\n",
    "plt.show()\n"
   ]
  },
  {
   "cell_type": "code",
   "execution_count": null,
   "metadata": {},
   "outputs": [],
   "source": [
    "plt.plot(np.log(result['y']['mmllh'][0])/np.log(result['2x1D_bg']['mmllh'][0])-1,'.')\n",
    "plt.gcf().set_size_inches((8,2))\n",
    "plt.ylabel('log mllh y / log mllh 2x1D_bg',fontsize=9)\n",
    "plt.show()"
   ]
  },
  {
   "cell_type": "code",
   "execution_count": null,
   "metadata": {},
   "outputs": [],
   "source": [
    "plt.plot(np.log(result['y']['mmllh'][0])[:20]/np.log(result['2x1D_bg']['mmllh'][0])[:20] - 1,'.')\n",
    "plt.gcf().set_size_inches((4,2))\n",
    "plt.ylabel('log mllh y / log mllh 2x1D_bg',fontsize=9)"
   ]
  },
  {
   "cell_type": "code",
   "execution_count": null,
   "metadata": {},
   "outputs": [],
   "source": [
    "log_ratio = np.log(result['y']['mmllh'][0])/np.log(result['2x1D_bg']['mmllh'][0])>1\n",
    "mllh_subtract = np.sign(result['2x1D_bg']['mmllh']-result['y']['mmllh'])[0]>0\n",
    "prom_models = np.array(result['prominent_models']) == '2x1D_bg'\n",
    "ratio = result['y']['mmllh'][0]/result['2x1D_bg']['mmllh'][0]>=1.0\n",
    "ratio = 1 - ratio.astype(int)\n",
    "model_mask = np.vstack((prom_models.astype(int), mllh_subtract.astype(int), log_ratio.astype(int), ratio))\n",
    "plt.imshow(model_mask)\n",
    "plt.yticks([0,1,2,3], ['prominent model', 'mllh subtract', 'log ratio', 'ratio'],fontsize=10)\n",
    "plt.gcf().set_size_inches((8,3))\n",
    "plt.show()"
   ]
  },
  {
   "cell_type": "code",
   "execution_count": null,
   "metadata": {},
   "outputs": [],
   "source": [
    "hd.model_change_time(result, model_set[-1])"
   ]
  }
 ],
 "metadata": {
  "kernelspec": {
   "display_name": "tf-gpu",
   "language": "python",
   "name": "python3"
  },
  "language_info": {
   "codemirror_mode": {
    "name": "ipython",
    "version": 3
   },
   "file_extension": ".py",
   "mimetype": "text/x-python",
   "name": "python",
   "nbconvert_exporter": "python",
   "pygments_lexer": "ipython3",
   "version": "3.9.15 (main, Nov 24 2022, 14:39:17) [MSC v.1916 64 bit (AMD64)]"
  },
  "vscode": {
   "interpreter": {
    "hash": "07ac295531cc03cbdc8dd0ce1722cead87da8022868b737c96b05270aefa1fb3"
   }
  }
 },
 "nbformat": 4,
 "nbformat_minor": 2
}
