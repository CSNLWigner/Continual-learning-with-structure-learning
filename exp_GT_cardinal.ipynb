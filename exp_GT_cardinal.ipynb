{
 "cells": [
  {
   "cell_type": "code",
   "execution_count": null,
   "metadata": {},
   "outputs": [],
   "source": [
    "import numpy as np\n",
    "import tensorflow as tf\n",
    "import matplotlib.pyplot as plt\n",
    "\n",
    "import helper_mate as h\n",
    "import helper as hd\n",
    "from colorscheme import *\n",
    "\n",
    "from gt_learner import GT_learner"
   ]
  },
  {
   "cell_type": "code",
   "execution_count": null,
   "metadata": {},
   "outputs": [],
   "source": [
    "# Data parameters\n",
    "BLOCK_SIZE = 20\n",
    "N_BATCHES = 1\n",
    "ALPHA_LIST = [0,90]\n",
    "\n",
    "# Agent parameters\n",
    "SIGMA_R = 0.8"
   ]
  },
  {
   "cell_type": "code",
   "execution_count": null,
   "metadata": {},
   "outputs": [],
   "source": [
    "# Generate data\n",
    "data = h.generate_batch_data(ALPHA_LIST, BLOCK_SIZE, N_BATCHES);\n",
    "\n",
    "# Plot data\n",
    "data_block1, data_block2 = hd.split_data(data,BLOCK_SIZE)\n",
    "data_list = [data_block1, data_block2, data]\n",
    "hd.plot_data_subplots(data_list, labels=False, limit=2.5, figsize=(12,4), titles=['Block 1', 'Block 2', 'All data'])"
   ]
  },
  {
   "cell_type": "code",
   "execution_count": null,
   "metadata": {},
   "outputs": [],
   "source": [
    "# Define models to be tested\n",
    "model_set = ['x', 'y', '1x2D', '2x1D_bg']\n",
    "\n",
    "# Compute GT learner\n",
    "result = GT_learner(data, SIGMA_R, model_set)\n",
    "\n",
    "# Plot results\n",
    "hd.plot_mmllh_curves(result, model_set, T=len(data['c']), color_dict=model_colors_gergo, markersize=6, figsize=(9,4), data=data)\n"
   ]
  },
  {
   "cell_type": "code",
   "execution_count": null,
   "metadata": {},
   "outputs": [],
   "source": [
    "np.sign(result['2x1D_bg']['mmllh']-result['y']['mmllh'])"
   ]
  },
  {
   "cell_type": "code",
   "execution_count": null,
   "metadata": {},
   "outputs": [],
   "source": [
    "np.array(result['prominent_models']).transpose()"
   ]
  }
 ],
 "metadata": {
  "kernelspec": {
   "display_name": "base",
   "language": "python",
   "name": "python3"
  },
  "language_info": {
   "codemirror_mode": {
    "name": "ipython",
    "version": 3
   },
   "file_extension": ".py",
   "mimetype": "text/x-python",
   "name": "python",
   "nbconvert_exporter": "python",
   "pygments_lexer": "ipython3",
   "version": "3.6.8"
  },
  "vscode": {
   "interpreter": {
    "hash": "715d78e8ea9d15f3b1f6080971e99bb6f9fa1dfbe3824c645d367f8092e9c6f0"
   }
  }
 },
 "nbformat": 4,
 "nbformat_minor": 2
}
