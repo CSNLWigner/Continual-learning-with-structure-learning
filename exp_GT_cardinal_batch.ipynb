{
 "cells": [
  {
   "cell_type": "code",
   "execution_count": null,
   "metadata": {},
   "outputs": [],
   "source": [
    "import numpy as np\n",
    "import tensorflow as tf\n",
    "import matplotlib.pyplot as plt\n",
    "\n",
    "import helper_mate as h\n",
    "import helper as hd\n",
    "from colorscheme import *\n",
    "\n",
    "from gt_learner import GT_learner"
   ]
  },
  {
   "cell_type": "code",
   "execution_count": null,
   "metadata": {},
   "outputs": [],
   "source": [
    "# Data parameters\n",
    "BLOCK_SIZE = 2\n",
    "N_BATCHES = 4\n",
    "ALPHA_LIST = [0,90]\n",
    "N_RUNS = 100\n",
    "\n",
    "# Agent parameters\n",
    "SIGMA_R = 200.0\n",
    "PP_THRESHOLD = 0.4\n",
    "D = 10\n",
    "#N_PARTICLES = 256"
   ]
  },
  {
   "cell_type": "code",
   "execution_count": null,
   "metadata": {},
   "outputs": [],
   "source": [
    "# Generate N_RUNS datasets\n",
    "datasets = [h.generate_batch_data(ALPHA_LIST, BLOCK_SIZE, N_BATCHES) for i in range(N_RUNS)]\n",
    "\n",
    "# Define models to be tested\n",
    "model_set = ['x', 'y', '1x2D', '2x1D_bg']\n",
    "\n",
    "# Compute mllhs\n",
    "results = {'gt': []}\n",
    "pbar = tf.keras.utils.Progbar(N_RUNS)\n",
    "for data in datasets:\n",
    "    result = {}\n",
    "    result['gt'] = GT_learner(data, SIGMA_R, model_set)\n",
    "    results['gt'].append(result['gt'])\n",
    "    pbar.add(1)"
   ]
  },
  {
   "cell_type": "code",
   "execution_count": null,
   "metadata": {},
   "outputs": [],
   "source": [
    "# Compute switching times\n",
    "switch_times = {}\n",
    "for agent in ['gt']:\n",
    "    switch_times[agent] = [hd.model_change_time(results[agent][i], model_set[-1])\n",
    "                                 for i in range(N_RUNS)]"
   ]
  },
  {
   "cell_type": "code",
   "execution_count": null,
   "metadata": {},
   "outputs": [],
   "source": [
    "#above two plots side by side in subfigure\n",
    "fig, ax = plt.subplots(1,2)\n",
    "ax[0].hist(switch_times['gt'], bins = 20)\n",
    "ax[1].hist(switch_times['gt'], bins = 20, cumulative = True)\n",
    "plt.gcf().set_size_inches((8,3))\n",
    "#suptitle including SIGMA_R\n",
    "plt.suptitle('Switching time distribution for GT learner, $\\sigma_r$ = ' + str(SIGMA_R), fontsize = 14)\n",
    "plt.tight_layout()\n",
    "plt.subplots_adjust(top=0.85)\n",
    "ax[0].set_xlabel('Switching time')\n",
    "ax[0].set_ylabel('Occurences/100 runs')\n",
    "plt.show()"
   ]
  },
  {
   "cell_type": "code",
   "execution_count": null,
   "metadata": {},
   "outputs": [],
   "source": [
    "# Plot mllhs\n",
    "i = 1\n",
    "hd.plot_mmllh_curves(results['gt'][i], model_set, T=len(data['c']), color_dict=model_colors_gergo, figsize=(15,4),data=datasets[i])\n",
    "print(switch_times['gt'][i])"
   ]
  },
  {
   "cell_type": "code",
   "execution_count": null,
   "metadata": {},
   "outputs": [],
   "source": [
    "results['gt'][i]['prominent_models']"
   ]
  },
  {
   "cell_type": "code",
   "execution_count": null,
   "metadata": {},
   "outputs": [],
   "source": [
    "transitions = []\n",
    "# iterate over each pair of models from the above list\n",
    "for i in range(len(results['gt'][i]['prominent_models'])-1):\n",
    "    transitions.append([results['gt'][i]['prominent_models'][i],results['gt'][i]['prominent_models'][i+1]])\n",
    "transitions\n",
    "# tally unique elements in transitions\n",
    "from collections import Counter\n",
    "Counter([tuple(x) for x in transitions])\n"
   ]
  },
  {
   "cell_type": "code",
   "execution_count": null,
   "metadata": {},
   "outputs": [],
   "source": [
    "results['gt'][i]['prominent_models'][i]"
   ]
  },
  {
   "cell_type": "code",
   "execution_count": null,
   "metadata": {},
   "outputs": [],
   "source": [
    "# plot a directed graph with networkx\n",
    "import networkx as nx\n",
    "G = nx.DiGraph()\n",
    "G.add_edge('x', 'y', weight=0)\n",
    "G.add_edge('x', '1x2D', weight=0.2)\n",
    "G.add_edge('x', '2x1D_bg', weight=0.2)\n",
    "G.add_edge('y', '1x2D', weight=0.5)\n",
    "G.add_edge('y', '2x1D_bg', weight=0.5)\n",
    "G.add_edge('1x2D', '2x1D_bg', weight=1)\n",
    "pos = nx.spring_layout(G)\n",
    "nx.draw(G, pos, with_labels=True)\n",
    "labels = nx.get_edge_attributes(G,'weight')\n",
    "nx.draw_networkx_edge_labels(G,pos,edge_labels=labels)\n",
    "plt.show()\n",
    "\n",
    "\n"
   ]
  },
  {
   "cell_type": "code",
   "execution_count": null,
   "metadata": {},
   "outputs": [],
   "source": []
  }
 ],
 "metadata": {
  "kernelspec": {
   "display_name": "tf-gpu",
   "language": "python",
   "name": "python3"
  },
  "language_info": {
   "codemirror_mode": {
    "name": "ipython",
    "version": 3
   },
   "file_extension": ".py",
   "mimetype": "text/x-python",
   "name": "python",
   "nbconvert_exporter": "python",
   "pygments_lexer": "ipython3",
   "version": "3.9.15"
  },
  "vscode": {
   "interpreter": {
    "hash": "07ac295531cc03cbdc8dd0ce1722cead87da8022868b737c96b05270aefa1fb3"
   }
  }
 },
 "nbformat": 4,
 "nbformat_minor": 2
}
