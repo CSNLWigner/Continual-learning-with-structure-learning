{
 "cells": [
  {
   "cell_type": "code",
   "execution_count": null,
   "metadata": {},
   "outputs": [],
   "source": [
    "import numpy as np\n",
    "import tensorflow as tf\n",
    "import matplotlib.pyplot as plt\n",
    "\n",
    "import helper_mate as h\n",
    "import helper as hd\n",
    "from colorscheme import *\n",
    "\n",
    "from gt_learner import GT_learner"
   ]
  },
  {
   "cell_type": "code",
   "execution_count": null,
   "metadata": {},
   "outputs": [],
   "source": [
    "# Data parameters\n",
    "BLOCK_SIZE = 40\n",
    "N_BATCHES = 1\n",
    "ALPHA_LIST = [-45,45]\n",
    "\n",
    "# Agent parameters\n",
    "SIGMA_R = 1.0"
   ]
  },
  {
   "cell_type": "code",
   "execution_count": null,
   "metadata": {},
   "outputs": [],
   "source": [
    "# Generate data\n",
    "data = h.generate_batch_data(ALPHA_LIST, BLOCK_SIZE, N_BATCHES);\n",
    "\n",
    "# Plot data\n",
    "data_block1, data_block2 = hd.split_data(data,BLOCK_SIZE)\n",
    "data_list = [data_block1, data_block2, data]\n",
    "hd.plot_data_subplots(data_list, labels=False, limit=2.5, figsize=(12,4), titles=['Block 1', 'Block 2', 'All data'])"
   ]
  },
  {
   "cell_type": "code",
   "execution_count": null,
   "metadata": {},
   "outputs": [],
   "source": [
    "# Define models to be tested\n",
    "model_set = [\"x\",\"y\", \"1x2D\", \"2x2D_bg\"]\n",
    "\n",
    "# Compute GT learner\n",
    "result = GT_learner(data, SIGMA_R, model_set)\n",
    "\n",
    "# Plot results\n",
    "hd.plot_mmllh_curves(result, model_set, T=len(data['c']), color_dict=model_colors_gergo, data=data)"
   ]
  },
  {
   "cell_type": "code",
   "execution_count": null,
   "metadata": {},
   "outputs": [],
   "source": [
    "np.sign(result['2x2D_bg']['mmllh']-result['x']['mmllh'])"
   ]
  },
  {
   "cell_type": "code",
   "execution_count": null,
   "metadata": {},
   "outputs": [],
   "source": [
    "np.array(result['prominent_models']).transpose()"
   ]
  },
  {
   "cell_type": "code",
   "execution_count": null,
   "metadata": {},
   "outputs": [],
   "source": [
    "transitions = []\n",
    "# iterate over each pair of models from the above list\n",
    "for i in range(len(result['prominent_models'])-1):\n",
    "    transitions.append([result['prominent_models'][i],result['prominent_models'][i+1]])\n",
    "# tally unique elements in transitions\n",
    "from collections import Counter\n",
    "Counter([tuple(x) for x in transitions])"
   ]
  },
  {
   "cell_type": "code",
   "execution_count": null,
   "metadata": {},
   "outputs": [],
   "source": [
    "plt.plot(np.log(result['1x2D']['mmllh'].T))\n",
    "plt.plot(np.log(result['2x2D_bg']['mmllh'].T))\n",
    "plt.gcf().set_size_inches((8,2))\n",
    "plt.ylabel('log mllh')\n",
    "plt.legend(['1x2D','2x2D_bg'])\n",
    "plt.show()\n"
   ]
  },
  {
   "cell_type": "code",
   "execution_count": null,
   "metadata": {},
   "outputs": [],
   "source": [
    "plt.plot(np.log(result['1x2D']['mmllh'][0])/np.log(result['2x2D_bg']['mmllh'][0])-1,'.')\n",
    "plt.gcf().set_size_inches((8,2))\n",
    "plt.ylabel('log mllh 1x2D / log mllh 2x1D_bg',fontsize=9)\n",
    "plt.show()"
   ]
  },
  {
   "cell_type": "code",
   "execution_count": null,
   "metadata": {},
   "outputs": [],
   "source": [
    "plt.plot(np.log(result['1x2D']['mmllh'][0])[:40]/np.log(result['2x2D_bg']['mmllh'][0])[:40] - 1,'.')\n",
    "plt.gcf().set_size_inches((4,2))\n",
    "plt.ylabel('log mllh 1x2D / log mllh 2x2D_bg',fontsize=9)"
   ]
  },
  {
   "cell_type": "code",
   "execution_count": null,
   "metadata": {},
   "outputs": [],
   "source": []
  }
 ],
 "metadata": {
  "kernelspec": {
   "display_name": "tf-gpu",
   "language": "python",
   "name": "python3"
  },
  "language_info": {
   "codemirror_mode": {
    "name": "ipython",
    "version": 3
   },
   "file_extension": ".py",
   "mimetype": "text/x-python",
   "name": "python",
   "nbconvert_exporter": "python",
   "pygments_lexer": "ipython3",
   "version": "3.9.15 (main, Nov 24 2022, 14:39:17) [MSC v.1916 64 bit (AMD64)]"
  },
  "vscode": {
   "interpreter": {
    "hash": "07ac295531cc03cbdc8dd0ce1722cead87da8022868b737c96b05270aefa1fb3"
   }
  }
 },
 "nbformat": 4,
 "nbformat_minor": 2
}
