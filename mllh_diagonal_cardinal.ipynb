{
 "cells": [
  {
   "cell_type": "code",
   "execution_count": null,
   "metadata": {},
   "outputs": [],
   "source": [
    "import tensorflow as tf\n",
    "from tensorflow_probability import distributions as tfd\n",
    "import tensorflow_probability as tfp\n",
    "import numpy as np\n",
    "import matplotlib.pyplot as plt\n",
    "\n",
    "import helper"
   ]
  },
  {
   "cell_type": "markdown",
   "metadata": {},
   "source": [
    "# Marginal likelihoods on diagonal DB\n",
    "We generate synthetic datasets with a diagonal decision boundary ($\\alpha=45^{\\circ}$), and test the mllh of the 2D model against the horizontal and vertical 1D models."
   ]
  },
  {
   "cell_type": "code",
   "execution_count": null,
   "metadata": {},
   "outputs": [],
   "source": [
    "T = 20\n",
    "data = helper.generate_data(T,alpha=45,sigma_reward=0.001)\n",
    "helper.plot_data(data, labels=True)"
   ]
  },
  {
   "cell_type": "code",
   "execution_count": null,
   "metadata": {},
   "outputs": [],
   "source": [
    "sigma_reward_model = 0.5\n",
    "alpha_prior = tfd.Uniform(0,360)\n",
    "N_prior_samples = 100\n",
    "\n",
    "a = [alpha_prior.sample(N_prior_samples),[90],[0]]\n",
    "labels = ('O','|','--')\n",
    "    \n",
    "mllhs = helper.compute_log_mllhs(data['z'],data['r'],a,sigma_reward_model,verbose=True)\n",
    "    \n",
    "plt.plot(np.array(mllhs),'.-')\n",
    "plt.legend(labels)\n",
    "plt.title('model change at t = '+str(helper.index_of_model_change(mllhs, model_id = 0)))\n",
    "\n",
    "plt.xlabel('t')\n",
    "plt.ylabel('log p(D)')\n",
    "\n",
    "plt.savefig('t model change.pdf')"
   ]
  },
  {
   "cell_type": "markdown",
   "metadata": {},
   "source": [
    "## Variance of mllh estimate\n",
    "\n",
    "How variable is the mllh estimate as a function of prior samples?"
   ]
  },
  {
   "cell_type": "code",
   "execution_count": null,
   "metadata": {},
   "outputs": [],
   "source": [
    "N_prior_samples = 400\n",
    "N_simulations = 10\n",
    "\n",
    "labels = ('O','|','--')\n",
    "\n",
    "mllhs = []\n",
    "for i in range(N_simulations):\n",
    "    a = [alpha_prior.sample(N_prior_samples),[90],[0]]\n",
    "    mllhs.append(helper.compute_log_mllhs(data['z'],data['r'],a,sigma_reward_model,verbose=True))\n"
   ]
  },
  {
   "cell_type": "code",
   "execution_count": null,
   "metadata": {},
   "outputs": [],
   "source": [
    "for i_model in range(3):\n",
    "    plt.errorbar(np.arange(T),np.mean(np.array(mllhs),0).T[i_model],yerr=np.std(np.array(mllhs),0).T[i_model],linewidth = .5)\n",
    "plt.legend(labels)\n",
    "[plt.plot(np.array(mllhs)[i_sim].T[0],c='lightblue',linewidth=.5) for i_sim in range(N_simulations)];\n",
    "plt.xlabel('t')\n",
    "plt.ylabel('log p(D)')\n",
    "plt.title('N prior samples = '+str(N_prior_samples))\n",
    "plt.savefig('mllh variance.pdf')"
   ]
  },
  {
   "cell_type": "code",
   "execution_count": null,
   "metadata": {},
   "outputs": [],
   "source": [
    "t_list = [1,10,20,30,40]\n",
    "N_prior_samples_list = [50,100,200,400]\n",
    "N_simulations = 30\n",
    "\n",
    "T = 40\n",
    "data = helper.generate_data(T,alpha=45,sigma_reward=0.001)\n",
    "\n",
    "mllhs_nsample = []\n",
    "for N_prior_samples in N_prior_samples_list:\n",
    "    mllhs = []\n",
    "    pbar = tf.keras.utils.Progbar(N_simulations) \n",
    "    for i in range(N_simulations):\n",
    "        mllhs_t = []\n",
    "        for t in t_list:\n",
    "            mllhs_t.append(helper.compute_log_mllh(data['z'][:t],data['r'][:t],alpha_prior.sample(N_prior_samples),sigma_reward_model))\n",
    "        mllhs.append(mllhs_t)\n",
    "        pbar.add(1)\n",
    "    mllhs_nsample.append(mllhs)"
   ]
  },
  {
   "cell_type": "code",
   "execution_count": null,
   "metadata": {},
   "outputs": [],
   "source": [
    "import matplotlib.ticker as ticker\n",
    "plt.imshow(np.array([np.std(mllhs_nsample[i],0) for i in range(len(mllhs_nsample))]))\n",
    "plt.colorbar()\n",
    "plt.xlabel('t')\n",
    "plt.ylabel('N prior samples')\n",
    "plt.gca().xaxis.set_major_locator(ticker.FixedLocator(range(len(t_list))))\n",
    "plt.gca().set_xticklabels(t_list)\n",
    "plt.gca().yaxis.set_major_locator(ticker.FixedLocator(range(len(N_prior_samples_list))))\n",
    "plt.gca().set_yticklabels(N_prior_samples_list)"
   ]
  },
  {
   "cell_type": "code",
   "execution_count": null,
   "metadata": {},
   "outputs": [],
   "source": [
    "[plt.plot(np.std(mllhs_nsample[i],0)) for i in range(len(N_prior_samples_list))]\n",
    "plt.gca().xaxis.set_major_locator(ticker.FixedLocator(range(len(t_list))))\n",
    "plt.gca().set_xticklabels(t_list);\n",
    "plt.legend(N_prior_samples_list)\n",
    "plt.xlabel('t')\n",
    "plt.ylabel('log mllh estimator standard deviation')\n",
    "plt.savefig('estimator std t.pdf')"
   ]
  },
  {
   "cell_type": "code",
   "execution_count": null,
   "metadata": {},
   "outputs": [],
   "source": [
    "sigma_reward_model_list = [0.1,0.3,0.5,0.7]\n",
    "N_prior_samples_list = [50,100,200,400]\n",
    "N_simulations = 30\n",
    "\n",
    "T = 20\n",
    "data = helper.generate_data(T,alpha=45,sigma_reward=0.001)\n",
    "\n",
    "mllhs_nsample = []\n",
    "for N_prior_samples in N_prior_samples_list:\n",
    "    mllhs = []\n",
    "    pbar = tf.keras.utils.Progbar(N_simulations) \n",
    "    for i in range(N_simulations):\n",
    "        mllhs_t = []\n",
    "        for sigma_reward_model in sigma_reward_model_list:\n",
    "            mllhs_t.append(helper.compute_log_mllh(data['z'][:T],data['r'][:T],alpha_prior.sample(N_prior_samples),sigma_reward_model))\n",
    "        mllhs.append(mllhs_t)\n",
    "        pbar.add(1)\n",
    "    mllhs_nsample.append(mllhs)"
   ]
  },
  {
   "cell_type": "code",
   "execution_count": null,
   "metadata": {},
   "outputs": [],
   "source": [
    "[plt.plot(np.std(mllhs_nsample[i],0)) for i in range(len(N_prior_samples_list))]\n",
    "plt.gca().xaxis.set_major_locator(ticker.FixedLocator(range(len(sigma_reward_model_list))))\n",
    "plt.gca().set_xticklabels(sigma_reward_model_list);\n",
    "plt.legend(N_prior_samples_list)\n",
    "plt.xlabel('sigma reward of model')\n",
    "plt.ylabel('log mllh estimator standard deviation')\n",
    "plt.savefig('estimator std sigma.pdf')"
   ]
  },
  {
   "cell_type": "markdown",
   "metadata": {},
   "source": [
    "## t of first model change\n",
    "We want to see how quickly an ideal learner would realise that it needs to use a 2D decision boundary as a function of $\\sigma_r$. We generate a 100 different datasets for each $\\sigma_r$."
   ]
  },
  {
   "cell_type": "code",
   "execution_count": null,
   "metadata": {},
   "outputs": [],
   "source": [
    "N_prior_samples = 30\n",
    "T = 30\n",
    "sigma_reward_models = [.1,.3,.5]\n",
    "\n",
    "id_changes_per_sigma = []\n",
    "for sigma_reward_model in sigma_reward_models:\n",
    "    pbar = tf.keras.utils.Progbar(100)\n",
    "    id_changes = []\n",
    "    for i in range(100):\n",
    "        data = helper.generate_data(T,alpha=45,sigma_reward=0.001)\n",
    "        a = [tfd.Uniform(0,360).sample(N_prior_samples),[90],[0]]\n",
    "        mllhs = helper.compute_log_mllhs(data['z'],data['r'],a,sigma_reward_model)\n",
    "        id_changes.append(helper.index_of_model_change(mllhs, model_id = 0, never_result=32))\n",
    "        pbar.add(1)\n",
    "\n",
    "    id_changes_per_sigma.append(np.array(id_changes))"
   ]
  },
  {
   "cell_type": "code",
   "execution_count": null,
   "metadata": {},
   "outputs": [],
   "source": [
    "plt.errorbar(sigma_reward_models, np.nanmean(id_changes_per_sigma,1),yerr=np.nanstd(id_changes_per_sigma,1))\n",
    "plt.xlabel('sigma reward')\n",
    "plt.ylabel('t of model change to 2D')\n",
    "for i in range(len(id_changes_per_sigma)):\n",
    "    plt.scatter(np.repeat(sigma_reward_models[i],len(id_changes_per_sigma[i]))+np.random.normal(0,0.01,len(id_changes_per_sigma[i])),id_changes_per_sigma[i],c='gray',s=1)\n",
    "plt.savefig('t model change.pdf')"
   ]
  },
  {
   "cell_type": "code",
   "execution_count": null,
   "metadata": {},
   "outputs": [],
   "source": []
  }
 ],
 "metadata": {
  "kernelspec": {
   "display_name": "Python 3",
   "language": "python",
   "name": "python3"
  },
  "language_info": {
   "codemirror_mode": {
    "name": "ipython",
    "version": 3
   },
   "file_extension": ".py",
   "mimetype": "text/x-python",
   "name": "python",
   "nbconvert_exporter": "python",
   "pygments_lexer": "ipython3",
   "version": "3.6.9"
  }
 },
 "nbformat": 4,
 "nbformat_minor": 4
}
