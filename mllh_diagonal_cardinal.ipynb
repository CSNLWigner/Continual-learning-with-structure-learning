{
 "cells": [
  {
   "cell_type": "code",
   "execution_count": null,
   "metadata": {},
   "outputs": [],
   "source": [
    "import tensorflow as tf\n",
    "from tensorflow_probability import distributions as tfd\n",
    "import tensorflow_probability as tfp\n",
    "import numpy as np\n",
    "import matplotlib.pyplot as plt\n",
    "\n",
    "import helper"
   ]
  },
  {
   "cell_type": "markdown",
   "metadata": {},
   "source": [
    "# Marginal likelihoods on diagonal DB\n",
    "We generate synthetic datasets with a diagonal decision boundary ($\\alpha=45^{\\circ}$), and test the mllh of the 2D model against the horizontal and vertical 1D models."
   ]
  },
  {
   "cell_type": "code",
   "execution_count": null,
   "metadata": {},
   "outputs": [],
   "source": [
    "T = 8\n",
    "data = helper.generate_data(T,alpha=45,sigma_reward=0.001)\n",
    "helper.plot_data(data, labels=True)"
   ]
  },
  {
   "cell_type": "code",
   "execution_count": null,
   "metadata": {},
   "outputs": [],
   "source": [
    "sigma_reward_model = 0.3\n",
    "alpha_prior = tfd.Uniform(0,360)\n",
    "N = 100\n",
    "\n",
    "a = [alpha_prior.sample(N),[90],[0]]\n",
    "labels = ('O','|','--')\n",
    "    \n",
    "mllhs = helper.compute_log_mllhs(data['z'],data['r'],a,sigma_reward_model,verbose=True)\n",
    "    \n",
    "plt.plot(np.array(mllhs),'.-')\n",
    "plt.legend(labels)\n",
    "plt.title('model change at t = '+str(helper.index_of_model_change(mllhs, model_id = 0)))\n",
    "\n",
    "plt.xlabel('t')\n",
    "plt.ylabel('log p(D)')\n",
    "\n",
    "plt.savefig('t model change.pdf')"
   ]
  },
  {
   "cell_type": "markdown",
   "metadata": {},
   "source": [
    "## Variance of mllh estimate\n",
    "\n",
    "How variable is the mllh estimate as a function of prior samples?"
   ]
  },
  {
   "cell_type": "code",
   "execution_count": null,
   "metadata": {},
   "outputs": [],
   "source": [
    "sigma_reward_model = 0.3\n",
    "alpha_prior = tfd.Uniform(0,360)\n",
    "N_prior_samples = 100\n",
    "N_simulations = 5\n",
    "\n",
    "a = [alpha_prior.sample(N),[90],[0]]\n",
    "labels = ('O','|','--')\n",
    "\n",
    "mllhs = []\n",
    "for i in range(N_simulations):\n",
    "    a = [alpha_prior.sample(N_prior_samples),[90],[0]]\n",
    "    mllhs.append(helper.compute_log_mllhs(data['z'],data['r'],a,sigma_reward_model,verbose=True))\n"
   ]
  },
  {
   "cell_type": "code",
   "execution_count": null,
   "metadata": {},
   "outputs": [],
   "source": [
    "for i_model in range(3):\n",
    "    plt.errorbar(np.arange(T),np.mean(np.array(mllhs),0).T[i_model],yerr=np.std(np.array(mllhs),0).T[i_model])\n",
    "[plt.plot(np.array(mllhs)[i_sim].T[0],c='lightblue') for i_sim in range(N_simulations)];"
   ]
  },
  {
   "cell_type": "markdown",
   "metadata": {},
   "source": [
    "## t of first model change\n",
    "We want to see how quickly an ideal learner would realise that it needs to use a 2D decision boundary as a function of $\\sigma_r$. We generate a 100 different datasets for each $\\sigma_r$."
   ]
  },
  {
   "cell_type": "code",
   "execution_count": null,
   "metadata": {},
   "outputs": [],
   "source": [
    "N_prior_samples = 30\n",
    "T = 30\n",
    "sigma_reward_models = [.1,.3,.5,.7]\n",
    "\n",
    "id_changes_per_sigma = []\n",
    "for sigma_reward_model in sigma_reward_models:\n",
    "    pbar = tf.keras.utils.Progbar(100)\n",
    "    id_changes = []\n",
    "    for i in range(100):\n",
    "        data = helper.generate_data(T,alpha=45,sigma_reward=0.001)\n",
    "        a = [tfd.Uniform(0,360).sample(N_prior_samples),[90],[0]]\n",
    "        mllhs = helper.compute_log_mllhs(data['z'],data['r'],a,sigma_reward_model)\n",
    "        id_changes.append(helper.index_of_model_change(mllhs, model_id = 0, never_result=32))\n",
    "        pbar.add(1)\n",
    "\n",
    "    id_changes_per_sigma.append(np.array(id_changes))"
   ]
  },
  {
   "cell_type": "code",
   "execution_count": null,
   "metadata": {},
   "outputs": [],
   "source": [
    "plt.errorbar(sigma_reward_models, np.nanmean(id_changes_per_sigma,1),yerr=np.nanstd(id_changes_per_sigma,1))\n",
    "plt.xlabel('sigma reward')\n",
    "plt.ylabel('t of model change to 2D')\n",
    "for i in range(len(id_changes_per_sigma)):\n",
    "    plt.scatter(np.repeat(sigma_reward_models[i],len(id_changes_per_sigma[i]))+np.random.normal(0,0.01,len(id_changes_per_sigma[i])),id_changes_per_sigma[i],c='gray',s=1)\n",
    "plt.savefig('t model change.pdf')"
   ]
  },
  {
   "cell_type": "code",
   "execution_count": null,
   "metadata": {},
   "outputs": [],
   "source": []
  }
 ],
 "metadata": {
  "kernelspec": {
   "display_name": "Python 3",
   "language": "python",
   "name": "python3"
  },
  "language_info": {
   "codemirror_mode": {
    "name": "ipython",
    "version": 3
   },
   "file_extension": ".py",
   "mimetype": "text/x-python",
   "name": "python",
   "nbconvert_exporter": "python",
   "pygments_lexer": "ipython3",
   "version": "3.6.9"
  }
 },
 "nbformat": 4,
 "nbformat_minor": 4
}
